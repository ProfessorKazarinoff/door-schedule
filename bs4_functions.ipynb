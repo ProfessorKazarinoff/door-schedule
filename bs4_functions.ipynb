{
 "cells": [
  {
   "cell_type": "code",
   "execution_count": 1,
   "metadata": {},
   "outputs": [],
   "source": [
    "import requests\n",
    "from bs4 import BeautifulSoup\n",
    "import bs4"
   ]
  },
  {
   "cell_type": "code",
   "execution_count": 3,
   "metadata": {},
   "outputs": [],
   "source": [
    "#url =\"\".join(['https://www.pcc.edu/schedule/', 'default.cfm?fa=dspCourse2&thisTerm=201802&crsCode=CMET235&subjCode=CMET&crsNum=235&topicCode=CMET&subtopicCode=%20'])\n",
    "#page = requests.get(url)\n",
    "#soup = BeautifulSoup(page.content, 'html.parser')\n",
    "#soup.text"
   ]
  },
  {
   "cell_type": "code",
   "execution_count": 4,
   "metadata": {},
   "outputs": [],
   "source": [
    "def get_course_num(soup):\n",
    "    \"\"\"\n",
    "    input: bs4 Soup Object, from a PCC Class Schedule Course Page\n",
    "    output: str, string that is the course number, Example: 'CMET235'\n",
    "    \"\"\"\n",
    "    return soup.h2.text.split(\" \")[0]\n",
    "\n",
    "def get_course_name(soup):\n",
    "    \"\"\"\n",
    "    input: bs4 Soup Object, from a PCC Class Schedule Course Page\n",
    "    output: str, string that is the course name, Example: 'Machine Design'\n",
    "    \"\"\"\n",
    "    return \" \".join(soup.h2.text.split(\" \")[1:]).strip()\n",
    "\n",
    "def get_dept(soup):\n",
    "    \"\"\"\n",
    "    input: bs4 Soup Object, from a PCC Class Schedule Course Page\n",
    "    output: str, string that is the department name, Example: 'CMET'\n",
    "    \"\"\"\n",
    "    course_num = soup.h2.text.split(\" \")[0]\n",
    "    return ''.join([i for i in course_num if not i.isdigit()])"
   ]
  },
  {
   "cell_type": "code",
   "execution_count": 6,
   "metadata": {},
   "outputs": [],
   "source": [
    "#print(get_course_num(soup))\n",
    "#print(get_course_name(soup))\n",
    "#print(get_dept(soup))    "
   ]
  },
  {
   "cell_type": "code",
   "execution_count": 8,
   "metadata": {},
   "outputs": [],
   "source": [
    "#get_course_num(soup)"
   ]
  },
  {
   "cell_type": "code",
   "execution_count": 9,
   "metadata": {},
   "outputs": [],
   "source": [
    "def get_CRN(row_lst):\n",
    "    \"\"\"\n",
    "    input: row_lst, a list of bs4Tag objects with 2 elements, one data-row and one info-row\n",
    "    \"\"\"\n",
    "    return row_lst[0].td.text\n",
    "\n",
    "def get_campus(row_lst):\n",
    "    \"\"\"\n",
    "    input: row_lst, a list of bs4Tag objects with 2 elements, one data-row and one info-row\n",
    "    \"\"\"\n",
    "    td_lst = row_lst[0].find_all(\"td\")\n",
    "    for td in td_lst:\n",
    "    #print(td.text.strip())\n",
    "        if \" / \" in td.text.strip():\n",
    "            campus = td.text.strip().split(\" \")[0]\n",
    "            return campus\n",
    "\n",
    "def get_building(row_lst):\n",
    "    \"\"\"\n",
    "    input: row_lst, a list of bs4Tag objects with 2 elements, one data-row and one info-row\n",
    "    \"\"\"\n",
    "    td_lst = row_lst[0].find_all(\"td\")\n",
    "    for td in td_lst:\n",
    "    #print(td.text.strip())\n",
    "        if \" / \" in td.text.strip():\n",
    "            building = td.text.strip().split(\" / \")[1]\n",
    "            return building.strip()\n",
    "\n",
    "def get_room_num(row_lst):\n",
    "    \"\"\"\n",
    "    input: row_lst, a list of bs4Tag objects with 2 elements, one data-row and one info-row\n",
    "    \"\"\"\n",
    "    td_lst = row_lst[0].find_all(\"td\")\n",
    "    for td in td_lst:\n",
    "    #print(td.text.strip())\n",
    "        if \" / \" in td.text.strip():\n",
    "            room = td.text.strip().split(\" / \")[2]\n",
    "            return room.strip()\n",
    "\n",
    "\n",
    "def get_start_time(row_lst):\n",
    "    \"\"\"\n",
    "    input: row_lst, a list of bs4Tag objects with 2 elements, one data-row and one info-row\n",
    "    \"\"\"\n",
    "    td_lst = row_lst[0].find_all(\"td\")\n",
    "    for td in td_lst:\n",
    "    #print(td.text.strip())\n",
    "        if \":\" in td.text.strip():\n",
    "            start_time = td.text.strip().split(\"-\")[0]\n",
    "            return start_time.strip()\n",
    "    pass\n",
    "\n",
    "def get_end_time(row_lst):\n",
    "    \"\"\"\n",
    "    input: row_lst, a list of bs4Tag objects with 2 elements, one data-row and one info-row\n",
    "    \"\"\"\n",
    "    td_lst = row_lst[0].find_all(\"td\")\n",
    "    for td in td_lst:\n",
    "    #print(td.text.strip())\n",
    "        if \":\" in td.text.strip():\n",
    "            end_time = td.text.strip().split(\"-\")[1]\n",
    "            return end_time.strip()\n",
    "\n",
    "def get_days(row_lst):\n",
    "    \"\"\"\n",
    "    input: row_lst, a list of bs4Tag objects with 2 elements, one data-row and one info-row\n",
    "    \"\"\"\n",
    "    td_lst = row_lst[0].find_all(\"td\")\n",
    "    for td in td_lst:\n",
    "        if len(td.text.strip())<3 and td.text.strip().isalpha:\n",
    "            return td.text.strip()\n",
    "\n",
    "def get_start_date(row_lst):\n",
    "    \"\"\"\n",
    "    input: row_lst, a list of bs4Tag objects with 2 elements, one data-row and one info-row\n",
    "    \"\"\"\n",
    "    td_lst = row_lst[0].find_all(\"td\")\n",
    "    for td in td_lst:\n",
    "    #print(td.text.strip())\n",
    "        if \" thru \" in td.text.strip():\n",
    "            start_date = td.text.strip().split(\" thru \")[0]\n",
    "            return start_date.strip()\n",
    "\n",
    "def get_end_date(row_lst):\n",
    "    \"\"\"\n",
    "    input: row_lst, a list of bs4Tag objects with 2 elements, one data-row and one info-row\n",
    "    \"\"\"\n",
    "    td_lst = row_lst[0].find_all(\"td\")\n",
    "    for td in td_lst:\n",
    "    #print(td.text.strip())\n",
    "        if \" thru \" in td.text.strip():\n",
    "            end_date = td.text.strip().split(\" thru \")[1]\n",
    "            return end_date.strip()\n",
    "\n",
    "def get_instructor(row_lst):\n",
    "    \"\"\"\n",
    "    input: row_lst, a list of bs4Tag objects with 2 elements, one data-row and one info-row\n",
    "    \"\"\"\n",
    "    td_lst = row_lst[1].find_all(\"td\")\n",
    "    for td in td_lst:\n",
    "    #print(td.text.strip())\n",
    "        if \"Instructor: \" in td.text.strip():\n",
    "            instructor = td.text.strip().rstrip().lstrip().split('\\n')[0].strip('Instructor: ')\n",
    "            return instructor     \n",
    "\n",
    "def get_instrSect(row_lst):\n",
    "    one_instr_sec = InstrSect()\n",
    "    one_instr_sec.campus = get_campus(row_lst)\n",
    "    one_instr_sec.CRN = get_CRN(row_lst)\n",
    "    one_instr_sec.building = get_building(row_lst)\n",
    "    one_instr_sec.room_num = get_room_num(row_lst)\n",
    "    one_instr_sec.start_time = get_start_time(row_lst)\n",
    "    one_instr_sec.end_time= get_end_time(row_lst)\n",
    "    one_instr_sec.day = get_days(row_lst)\n",
    "    one_instr_sec.start_date = get_start_date(row_lst)\n",
    "    one_instr_sec.end_date = get_end_date(row_lst)\n",
    "    one_instr_sec.instructor = get_instructor(row_lst)\n",
    "    return one_instr_sec\n",
    "\n",
    "class InstrSect():\n",
    "    def __init__(self):\n",
    "        self.ID=''\n",
    "        self.CRN=''\n",
    "        self.building=''\n",
    "        self.day=''\n",
    "        self.start_time=''\n",
    "        self.end_time=''\n",
    "        self.room_num=''\n",
    "        self.instructor=''\n",
    "        self.campus=''\n",
    "        self.course_name=''\n",
    "        self.course_number=''\n",
    "        self.department=''\n",
    "        self.start_date=''\n",
    "        self.end_date=''\n",
    "        self.textbook_cost=''\n",
    "        self.tuition=''\n",
    "        self.fees=''\n",
    "\n",
    "def get_instr_sec_lst(url):\n",
    "    page = requests.get(url)\n",
    "    soup = BeautifulSoup(page.content, 'html.parser')\n",
    "    course_num = get_course_num(soup)\n",
    "    course_name = get_course_name(soup)\n",
    "    dept = get_dept(soup)    \n",
    "\n",
    "    rows = soup.findAll('tr', attrs={'class': ['data-row ','info-row ','data-row alt-color','info-row alt-color']})\n",
    "    inst_sec_lst = []\n",
    "    for i in range(int(len(rows)/2)):\n",
    "        print('This is instructor time block {}'.format(i))\n",
    "        row_lst = rows[i*2:i*2+2]\n",
    "        instr_sec = get_instrSect(row_lst)\n",
    "        instr_sec.course_number = course_num\n",
    "        instr_sec.course_name = course_name\n",
    "        instr_sec.department = dept\n",
    "        inst_sec_lst.append(instr_sec)\n",
    "        \n",
    "    return inst_sec_lst\n",
    "    "
   ]
  },
  {
   "cell_type": "code",
   "execution_count": 10,
   "metadata": {},
   "outputs": [
    {
     "name": "stdout",
     "output_type": "stream",
     "text": [
      "Sylvania\n",
      "20240\n",
      "AM\n",
      "105\n",
      "09:00 AM\n",
      "11:50 AM\n",
      "M\n",
      "02-Apr-2018\n",
      "11-Jun-2018\n",
      "Peter  Kazarinoff\n"
     ]
    }
   ],
   "source": [
    "rows = soup.findAll('tr', attrs={'class': ['data-row ','info-row ','data-row alt-color','info-row alt-color']})\n",
    "row_lst = rows[0:2]\n",
    "print(get_campus(row_lst))\n",
    "print(get_CRN(row_lst))\n",
    "print(get_building(row_lst))\n",
    "print(get_room_num(row_lst))\n",
    "print(get_start_time(row_lst))\n",
    "print(get_end_time(row_lst))\n",
    "print(get_days(row_lst))\n",
    "print(get_start_date(row_lst))\n",
    "print(get_end_date(row_lst))\n",
    "print(get_instructor(row_lst))"
   ]
  },
  {
   "cell_type": "code",
   "execution_count": 11,
   "metadata": {},
   "outputs": [
    {
     "name": "stdout",
     "output_type": "stream",
     "text": [
      "This is instructor time block 0\n",
      "This is instructor time block 1\n",
      "This is instructor time block 2\n",
      "This is instructor time block 3\n",
      "CMET235\n"
     ]
    }
   ],
   "source": [
    "#make a list of instructor_section objects. Add them to a list\n",
    "url =\"\".join(['https://www.pcc.edu/schedule/', 'default.cfm?fa=dspCourse2&thisTerm=201802&crsCode=CMET235&subjCode=CMET&crsNum=235&topicCode=CMET&subtopicCode=%20'])\n",
    "page = requests.get(url)\n",
    "soup = BeautifulSoup(page.content, 'html.parser')\n",
    "course_num = get_course_num(soup)\n",
    "course_name = get_course_name(soup)\n",
    "dept = get_dept(soup)    \n",
    "\n",
    "\n",
    "rows = soup.findAll('tr', attrs={'class': ['data-row ','info-row ','data-row alt-color','info-row alt-color']})\n",
    "inst_sec_lst = []\n",
    "for i in range(int(len(rows)/2)):\n",
    "    print('This is instructor time block {}'.format(i))\n",
    "    row_lst = rows[i*2:i*2+2]\n",
    "    instr_sec = get_instrSect(row_lst)\n",
    "    instr_sec.course_number = course_num\n",
    "    instr_sec.course_name = course_name\n",
    "    instr_sec.department = dept\n",
    "    inst_sec_lst.append(instr_sec)\n",
    "\n",
    "print(inst_sec_lst[0].course_number)"
   ]
  },
  {
   "cell_type": "code",
   "execution_count": 12,
   "metadata": {},
   "outputs": [
    {
     "name": "stdout",
     "output_type": "stream",
     "text": [
      "This is instructor time block 0\n",
      "This is instructor time block 1\n",
      "This is instructor time block 2\n",
      "This is instructor time block 3\n"
     ]
    }
   ],
   "source": [
    "url = 'https://www.pcc.edu/schedule/default.cfm?fa=dspCourse2&thisTerm=201802&crsCode=CMET235&topicCode=CMET&subtopicCode=%20&subjCode=CMET&crsNum=235'\n",
    "instr_section_list = get_instr_sec_lst(url)"
   ]
  },
  {
   "cell_type": "code",
   "execution_count": 13,
   "metadata": {},
   "outputs": [
    {
     "name": "stdout",
     "output_type": "stream",
     "text": [
      "['CRN', 'ID', 'building', 'campus', 'course_name', 'course_number', 'day', 'department', 'end_date', 'end_time', 'fees', 'instructor', 'room_num', 'start_date', 'start_time', 'textbook_cost', 'tuition']\n"
     ]
    }
   ],
   "source": [
    "print([x for x in dir(instr_section_list[0]) if not x.startswith(\"__\")])\n"
   ]
  },
  {
   "cell_type": "code",
   "execution_count": 14,
   "metadata": {},
   "outputs": [],
   "source": [
    "def main():\n",
    "    url = 'https://www.pcc.edu/schedule/default.cfm?fa=dspCourse2&thisTerm=201802&crsCode=CMET235&topicCode=CMET&subtopicCode=%20&subjCode=CMET&crsNum=235'\n",
    "    instr_section_list = get_instr_sec_lst(url)"
   ]
  },
  {
   "cell_type": "code",
   "execution_count": 15,
   "metadata": {},
   "outputs": [],
   "source": [
    "#if __name__ == \"__main__\":\n",
    "    #main()"
   ]
  },
  {
   "cell_type": "code",
   "execution_count": null,
   "metadata": {},
   "outputs": [],
   "source": []
  }
 ],
 "metadata": {
  "kernelspec": {
   "display_name": "Python 3",
   "language": "python",
   "name": "python3"
  },
  "language_info": {
   "codemirror_mode": {
    "name": "ipython",
    "version": 3
   },
   "file_extension": ".py",
   "mimetype": "text/x-python",
   "name": "python",
   "nbconvert_exporter": "python",
   "pygments_lexer": "ipython3",
   "version": "3.6.5"
  }
 },
 "nbformat": 4,
 "nbformat_minor": 2
}
