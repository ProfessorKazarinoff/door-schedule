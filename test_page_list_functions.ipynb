{
 "cells": [
  {
   "cell_type": "code",
   "execution_count": 1,
   "metadata": {},
   "outputs": [],
   "source": [
    "import requests\n",
    "from bs4 import BeautifulSoup\n",
    "import urllib\n",
    "\n",
    "\n",
    "def get_dept_urls(\n",
    "    main_url=\"https://www.pcc.edu/schedule/default.cfm?fa=dspTopic&thisTerm=200701&type=Credit\",\n",
    "    dept_lst=[\n",
    "        \"Civil and Mechanical Engineering Technology\",\n",
    "        \"Engineering\",\n",
    "        \"Electronic Engineering Technology\",\n",
    "    ],\n",
    "):\n",
    "    \"\"\"\n",
    "    A function to return a list of urls for all of the department pages after when the main class schedule page url is given\n",
    "    :param main_url: str, the main schedule page url default 'https://www.pcc.edu/schedule/default.cfm?fa=dspTopic&thisTerm=200701&type=Credit'\n",
    "    :param dept_lst: lst, list of strings each a full url or a department schedule page\n",
    "    :return: lst, a list of strings each a url for a department page\n",
    "    \"\"\"\n",
    "    dept_url_lst = []\n",
    "    base_url = \"https://www.pcc.edu/schedule/\"\n",
    "    page = requests.get(main_url)\n",
    "    soup = BeautifulSoup(page.content, \"html.parser\")\n",
    "    for link in soup.find_all(\"a\", href=True):\n",
    "        if link.text in dept_lst:\n",
    "            extension = link.get(\"href\")\n",
    "            url = urllib.parse.urljoin(base_url, extension)\n",
    "            dept_url_lst.append(url)\n",
    "\n",
    "    return dept_url_lst"
   ]
  },
  {
   "cell_type": "code",
   "execution_count": 2,
   "metadata": {},
   "outputs": [
    {
     "data": {
      "text/plain": [
       "['https://www.pcc.edu/schedule/default.cfm?fa=dspTopicDetails&thisTerm=201902&topicid=CMET&type=Credit',\n",
       " 'https://www.pcc.edu/schedule/default.cfm?fa=dspTopicDetails&thisTerm=201902&topicid=EET&type=Credit',\n",
       " 'https://www.pcc.edu/schedule/default.cfm?fa=dspTopicDetails&thisTerm=201902&topicid=GE&type=Credit']"
      ]
     },
     "execution_count": 2,
     "metadata": {},
     "output_type": "execute_result"
    }
   ],
   "source": [
    "# https://www.pcc.edu/schedule/default.cfm?fa=dspTopic&thisTerm=201902&type=Credit\n",
    "url = 'https://www.pcc.edu/schedule/default.cfm?fa=dspTopic&thisTerm=201902&type=Credit'\n",
    "get_dept_urls(url)"
   ]
  },
  {
   "cell_type": "code",
   "execution_count": null,
   "metadata": {},
   "outputs": [],
   "source": []
  }
 ],
 "metadata": {
  "kernelspec": {
   "display_name": "Python 3",
   "language": "python",
   "name": "python3"
  },
  "language_info": {
   "codemirror_mode": {
    "name": "ipython",
    "version": 3
   },
   "file_extension": ".py",
   "mimetype": "text/x-python",
   "name": "python",
   "nbconvert_exporter": "python",
   "pygments_lexer": "ipython3",
   "version": "3.7.4"
  }
 },
 "nbformat": 4,
 "nbformat_minor": 2
}
