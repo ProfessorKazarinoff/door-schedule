{
 "cells": [
  {
   "cell_type": "markdown",
   "metadata": {},
   "source": [
    "# Beautiful Soup Sandbox\n",
    "a notebook to investigate pulling class information out of PCC class schedule webpages"
   ]
  },
  {
   "cell_type": "code",
   "execution_count": 1,
   "metadata": {},
   "outputs": [],
   "source": [
    "import requests\n",
    "from bs4 import BeautifulSoup"
   ]
  },
  {
   "cell_type": "code",
   "execution_count": 2,
   "metadata": {},
   "outputs": [],
   "source": [
    "base_url = 'https://www.pcc.edu/schedule/default.cfm?fa=dspTopic&thisTerm=200701&type=Credit'\n",
    "page = requests.get(base_url)"
   ]
  },
  {
   "cell_type": "code",
   "execution_count": 3,
   "metadata": {},
   "outputs": [],
   "source": [
    "soup = BeautifulSoup(page.content, 'html.parser')"
   ]
  },
  {
   "cell_type": "code",
   "execution_count": 4,
   "metadata": {},
   "outputs": [
    {
     "name": "stdout",
     "output_type": "stream",
     "text": [
      "Found Engineering Link\n",
      "Found Engineering Link\n",
      "Found Engineering Link\n",
      "Found Engineering Link\n"
     ]
    }
   ],
   "source": [
    "for link in soup.find_all('a', href=True):\n",
    "    #print(link['href'])\n",
    "    if 'Engineering' in link.text:\n",
    "        print('Found Engineering Link')"
   ]
  },
  {
   "cell_type": "code",
   "execution_count": 5,
   "metadata": {},
   "outputs": [],
   "source": [
    "depts = ['Civil and Mechanical Engineering Technology', 'Engineering', 'Electronic Engineering Technology']"
   ]
  },
  {
   "cell_type": "code",
   "execution_count": 6,
   "metadata": {},
   "outputs": [
    {
     "name": "stdout",
     "output_type": "stream",
     "text": [
      "Found an Engineering Department Link\n",
      "Found an Engineering Department Link\n",
      "Found an Engineering Department Link\n"
     ]
    }
   ],
   "source": [
    "link_lst=[]\n",
    "for link in soup.find_all('a', href=True):\n",
    "    #print(link['href'])\n",
    "    if link.text in depts:\n",
    "        print('Found an Engineering Department Link')\n",
    "        link_lst.append(link.get(\"href\"))"
   ]
  },
  {
   "cell_type": "code",
   "execution_count": 7,
   "metadata": {},
   "outputs": [
    {
     "data": {
      "text/plain": [
       "'default.cfm?fa=dspTopicDetails&thisTerm=201802&topicid=CMET&type=Credit'"
      ]
     },
     "execution_count": 7,
     "metadata": {},
     "output_type": "execute_result"
    }
   ],
   "source": [
    "link_lst[0]"
   ]
  },
  {
   "cell_type": "code",
   "execution_count": 8,
   "metadata": {},
   "outputs": [],
   "source": [
    "# link = 'https://www.pcc.edu/schedule/default.cfm?fa=dspTopicDetails&thisTerm=201802&topicid=MET&type=Credit\n",
    "import urllib\n",
    "base_url = 'https://www.pcc.edu/schedule/'\n",
    "extension = link_lst[0]\n",
    "url = urllib.parse.urljoin(base_url,extension)\n",
    "page = requests.get(url)"
   ]
  },
  {
   "cell_type": "code",
   "execution_count": 9,
   "metadata": {},
   "outputs": [],
   "source": [
    "soup = BeautifulSoup(page.content, 'html.parser')"
   ]
  },
  {
   "cell_type": "code",
   "execution_count": 10,
   "metadata": {},
   "outputs": [
    {
     "data": {
      "text/plain": [
       "'CMET 121'"
      ]
     },
     "execution_count": 10,
     "metadata": {},
     "output_type": "execute_result"
    }
   ],
   "source": [
    "soup.dt.text"
   ]
  },
  {
   "cell_type": "code",
   "execution_count": 12,
   "metadata": {},
   "outputs": [
    {
     "name": "stdout",
     "output_type": "stream",
     "text": [
      "CMET 121\n",
      "CMET 122\n",
      "CMET 123\n",
      "CMET 214\n",
      "CMET 222\n",
      "CMET 223\n",
      "CMET 233\n",
      "CMET 235\n",
      "CMET 236\n",
      "CMET 237\n"
     ]
    }
   ],
   "source": [
    "class_lst=[]\n",
    "for course in soup.find_all('dt'):\n",
    "    print(course.string)\n",
    "    class_lst.append(course.string)"
   ]
  },
  {
   "cell_type": "code",
   "execution_count": 13,
   "metadata": {},
   "outputs": [
    {
     "data": {
      "text/plain": [
       "['CMET 121',\n",
       " 'CMET 122',\n",
       " 'CMET 123',\n",
       " 'CMET 214',\n",
       " 'CMET 222',\n",
       " 'CMET 223',\n",
       " 'CMET 233',\n",
       " 'CMET 235',\n",
       " 'CMET 236',\n",
       " 'CMET 237']"
      ]
     },
     "execution_count": 13,
     "metadata": {},
     "output_type": "execute_result"
    }
   ],
   "source": [
    "class_lst"
   ]
  },
  {
   "cell_type": "code",
   "execution_count": null,
   "metadata": {
    "collapsed": true
   },
   "outputs": [],
   "source": []
  }
 ],
 "metadata": {
  "kernelspec": {
   "display_name": "Python 3",
   "language": "python",
   "name": "python3"
  },
  "language_info": {
   "codemirror_mode": {
    "name": "ipython",
    "version": 3
   },
   "file_extension": ".py",
   "mimetype": "text/x-python",
   "name": "python",
   "nbconvert_exporter": "python",
   "pygments_lexer": "ipython3",
   "version": "3.6.5"
  }
 },
 "nbformat": 4,
 "nbformat_minor": 2
}
