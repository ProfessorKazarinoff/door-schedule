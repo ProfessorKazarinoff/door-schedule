{
 "cells": [
  {
   "cell_type": "markdown",
   "metadata": {},
   "source": [
    "### A notebook to figure out how to make some day schedules others evening schedules "
   ]
  },
  {
   "cell_type": "code",
   "execution_count": 8,
   "metadata": {},
   "outputs": [],
   "source": [
    "import requests\n",
    "from bs4 import BeautifulSoup\n",
    "import urllib\n",
    "from bs4_functions import get_instr_sec_lst, get_instrSect\n",
    "import pickle\n",
    "import os\n",
    "import pickle\n",
    "import shutil\n",
    "from class_page_iter_tools import get_dept_urls, get_class_url_lst\n",
    "from bs4_functions import get_instr_sec_lst\n",
    "from schedule_functions import instructorObj\n",
    "from schedule_functions import insert_gen_info, insert_class_sec, get_24h_dec_time\n",
    "from openpyxl import load_workbook"
   ]
  },
  {
   "cell_type": "code",
   "execution_count": 9,
   "metadata": {},
   "outputs": [],
   "source": [
    "path = os.path.join(os.getcwd(),'out','data.pkl')\n",
    "f = open(path,'rb')\n",
    "instr_obj_list = pickle.load(f)\n",
    "f.close()"
   ]
  },
  {
   "cell_type": "code",
   "execution_count": 17,
   "metadata": {},
   "outputs": [
    {
     "name": "stdout",
     "output_type": "stream",
     "text": [
      "/home/tribilium/Documents/schedule/templates/schedule_template.xlsx\n",
      "use day template\n",
      "/home/tribilium/Documents/schedule/templates/day_schedule_template.xlsx\n",
      "/home/tribilium/Documents/schedule/templates/schedule_template.xlsx\n",
      "/home/tribilium/Documents/schedule/templates/schedule_template.xlsx\n",
      "/home/tribilium/Documents/schedule/templates/schedule_template.xlsx\n",
      "/home/tribilium/Documents/schedule/templates/schedule_template.xlsx\n",
      "/home/tribilium/Documents/schedule/templates/schedule_template.xlsx\n",
      "use day template\n",
      "/home/tribilium/Documents/schedule/templates/day_schedule_template.xlsx\n",
      "use day template\n",
      "/home/tribilium/Documents/schedule/templates/day_schedule_template.xlsx\n",
      "/home/tribilium/Documents/schedule/templates/schedule_template.xlsx\n",
      "/home/tribilium/Documents/schedule/templates/schedule_template.xlsx\n"
     ]
    }
   ],
   "source": [
    "for instr in instr_obj_list:\n",
    "    template_path = os.path.join(os.getcwd(), 'templates', 'schedule_template.xlsx')\n",
    "    end_time_lst = [get_24h_dec_time(x.end_time) for x in instr.classes if x.end_time]\n",
    "    if end_time_lst:\n",
    "        latest_class = max(end_time_lst)\n",
    "        if latest_class < 12+5:\n",
    "            print('use day template')   \n",
    "            template_path = os.path.join(os.getcwd(), 'templates', 'day_schedule_template.xlsx')\n",
    "            print(template_path)\n",
    "        else:\n",
    "            template_path = os.path.join(os.getcwd(), 'templates', 'schedule_template.xlsx')\n",
    "            print(template_path)"
   ]
  },
  {
   "cell_type": "code",
   "execution_count": 13,
   "metadata": {},
   "outputs": [
    {
     "data": {
      "text/plain": [
       "21"
      ]
     },
     "execution_count": 13,
     "metadata": {},
     "output_type": "execute_result"
    }
   ],
   "source": [
    "max([21])"
   ]
  },
  {
   "cell_type": "code",
   "execution_count": null,
   "metadata": {},
   "outputs": [],
   "source": []
  }
 ],
 "metadata": {
  "kernelspec": {
   "display_name": "Python 3",
   "language": "python",
   "name": "python3"
  },
  "language_info": {
   "codemirror_mode": {
    "name": "ipython",
    "version": 3
   },
   "file_extension": ".py",
   "mimetype": "text/x-python",
   "name": "python",
   "nbconvert_exporter": "python",
   "pygments_lexer": "ipython3",
   "version": "3.6.5"
  }
 },
 "nbformat": 4,
 "nbformat_minor": 2
}
