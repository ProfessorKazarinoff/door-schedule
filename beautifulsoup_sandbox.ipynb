{
 "cells": [
  {
   "cell_type": "markdown",
   "metadata": {},
   "source": [
    "# Beautiful Soup Sandbox\n",
    "a notebook to investigate pulling class information out of PCC class schedule webpages"
   ]
  },
  {
   "cell_type": "code",
   "execution_count": 1,
   "metadata": {
    "collapsed": true
   },
   "outputs": [],
   "source": [
    "import requests\n",
    "from bs4 import BeautifulSoup\n",
    "import urllib\n",
    "from bs4_functions import get_instr_sec_lst"
   ]
  },
  {
   "cell_type": "code",
   "execution_count": 2,
   "metadata": {},
   "outputs": [
    {
     "name": "stdout",
     "output_type": "stream",
     "text": [
      "https://www.pcc.edu/schedule/default.cfm?fa=dspCourse2&thisTerm=201802&crsCode=CMET121&subjCode=CMET&crsNum=121&topicCode=CMET&subtopicCode=%20\n",
      "https://www.pcc.edu/schedule/default.cfm?fa=dspCourse2&thisTerm=201802&crsCode=CMET122&subjCode=CMET&crsNum=122&topicCode=CMET&subtopicCode=%20\n",
      "https://www.pcc.edu/schedule/default.cfm?fa=dspCourse2&thisTerm=201802&crsCode=CMET123&subjCode=CMET&crsNum=123&topicCode=CMET&subtopicCode=%20\n",
      "https://www.pcc.edu/schedule/default.cfm?fa=dspCourse2&thisTerm=201802&crsCode=CMET214&subjCode=CMET&crsNum=214&topicCode=CMET&subtopicCode=%20\n",
      "https://www.pcc.edu/schedule/default.cfm?fa=dspCourse2&thisTerm=201802&crsCode=CMET222&subjCode=CMET&crsNum=222&topicCode=CMET&subtopicCode=%20\n",
      "https://www.pcc.edu/schedule/default.cfm?fa=dspCourse2&thisTerm=201802&crsCode=CMET223&subjCode=CMET&crsNum=223&topicCode=CMET&subtopicCode=%20\n",
      "https://www.pcc.edu/schedule/default.cfm?fa=dspCourse2&thisTerm=201802&crsCode=CMET233&subjCode=CMET&crsNum=233&topicCode=CMET&subtopicCode=%20\n",
      "https://www.pcc.edu/schedule/default.cfm?fa=dspCourse2&thisTerm=201802&crsCode=CMET235&subjCode=CMET&crsNum=235&topicCode=CMET&subtopicCode=%20\n",
      "https://www.pcc.edu/schedule/default.cfm?fa=dspCourse2&thisTerm=201802&crsCode=CMET236&subjCode=CMET&crsNum=236&topicCode=CMET&subtopicCode=%20\n",
      "https://www.pcc.edu/schedule/default.cfm?fa=dspCourse2&thisTerm=201802&crsCode=CMET237&subjCode=CMET&crsNum=237&topicCode=CMET&subtopicCode=%20\n",
      "https://www.pcc.edu/schedule/default.cfm?fa=dspCourse2&thisTerm=201802&crsCode=EET112&subjCode=EET&crsNum=112&topicCode=EET&subtopicCode=%20\n",
      "https://www.pcc.edu/schedule/default.cfm?fa=dspCourse2&thisTerm=201802&crsCode=EET113&subjCode=EET&crsNum=113&topicCode=EET&subtopicCode=%20\n",
      "https://www.pcc.edu/schedule/default.cfm?fa=dspCourse2&thisTerm=201802&crsCode=EET122&subjCode=EET&crsNum=122&topicCode=EET&subtopicCode=%20\n",
      "https://www.pcc.edu/schedule/default.cfm?fa=dspCourse2&thisTerm=201802&crsCode=EET123&subjCode=EET&crsNum=123&topicCode=EET&subtopicCode=%20\n",
      "https://www.pcc.edu/schedule/default.cfm?fa=dspCourse2&thisTerm=201802&crsCode=EET178&subjCode=EET&crsNum=178&topicCode=EET&subtopicCode=%20\n",
      "https://www.pcc.edu/schedule/default.cfm?fa=dspCourse2&thisTerm=201802&crsCode=EET188&subjCode=EET&crsNum=188&topicCode=EET&subtopicCode=%20\n",
      "https://www.pcc.edu/schedule/default.cfm?fa=dspCourse2&thisTerm=201802&crsCode=EET223&subjCode=EET&crsNum=223&topicCode=EET&subtopicCode=%20\n",
      "https://www.pcc.edu/schedule/default.cfm?fa=dspCourse2&thisTerm=201802&crsCode=EET256&subjCode=EET&crsNum=256&topicCode=EET&subtopicCode=%20\n",
      "https://www.pcc.edu/schedule/default.cfm?fa=dspCourse2&thisTerm=201802&crsCode=EET272&subjCode=EET&crsNum=272&topicCode=EET&subtopicCode=%20\n",
      "https://www.pcc.edu/schedule/default.cfm?fa=dspCourse2&thisTerm=201802&crsCode=EET273&subjCode=EET&crsNum=273&topicCode=EET&subtopicCode=%20\n",
      "https://www.pcc.edu/schedule/default.cfm?fa=dspCourse2&thisTerm=201802&crsCode=EET280A&subjCode=EET&crsNum=280A&topicCode=EET&subtopicCode=%20\n",
      "https://www.pcc.edu/schedule/default.cfm?fa=dspCourse2&thisTerm=201802&crsCode=EET280C&subjCode=EET&crsNum=280C&topicCode=EET&subtopicCode=%20\n",
      "https://www.pcc.edu/schedule/default.cfm?fa=dspCourse2&thisTerm=201802&crsCode=ENGR&subjCode=ENGR&crsNum=100&topicCode=GE&subtopicCode=%20\n",
      "https://www.pcc.edu/schedule/default.cfm?fa=dspCourse2&thisTerm=201802&crsCode=ENGR&subjCode=ENGR&crsNum=101&topicCode=GE&subtopicCode=%20\n",
      "https://www.pcc.edu/schedule/default.cfm?fa=dspCourse2&thisTerm=201802&crsCode=ENGR&subjCode=ENGR&crsNum=102&topicCode=GE&subtopicCode=%20\n",
      "https://www.pcc.edu/schedule/default.cfm?fa=dspCourse2&thisTerm=201802&crsCode=ENGR&subjCode=ENGR&crsNum=105&topicCode=GE&subtopicCode=%20\n",
      "https://www.pcc.edu/schedule/default.cfm?fa=dspCourse2&thisTerm=201802&crsCode=ENGR&subjCode=ENGR&crsNum=114&topicCode=GE&subtopicCode=%20\n",
      "https://www.pcc.edu/schedule/default.cfm?fa=dspCourse2&thisTerm=201802&crsCode=ENGR&subjCode=ENGR&crsNum=211&topicCode=GE&subtopicCode=%20\n",
      "https://www.pcc.edu/schedule/default.cfm?fa=dspCourse2&thisTerm=201802&crsCode=ENGR&subjCode=ENGR&crsNum=212&topicCode=GE&subtopicCode=%20\n",
      "https://www.pcc.edu/schedule/default.cfm?fa=dspCourse2&thisTerm=201802&crsCode=ENGR&subjCode=ENGR&crsNum=213&topicCode=GE&subtopicCode=%20\n",
      "https://www.pcc.edu/schedule/default.cfm?fa=dspCourse2&thisTerm=201802&crsCode=ENGR&subjCode=ENGR&crsNum=221&topicCode=GE&subtopicCode=%20\n",
      "https://www.pcc.edu/schedule/default.cfm?fa=dspCourse2&thisTerm=201802&crsCode=ENGR&subjCode=ENGR&crsNum=222&topicCode=GE&subtopicCode=%20\n",
      "https://www.pcc.edu/schedule/default.cfm?fa=dspCourse2&thisTerm=201802&crsCode=ENGR&subjCode=ENGR&crsNum=223&topicCode=GE&subtopicCode=%20\n",
      "https://www.pcc.edu/schedule/default.cfm?fa=dspCourse2&thisTerm=201802&crsCode=ENGR&subjCode=ENGR&crsNum=231&topicCode=GE&subtopicCode=%20\n",
      "https://www.pcc.edu/schedule/default.cfm?fa=dspCourse2&thisTerm=201802&crsCode=ENGR&subjCode=ENGR&crsNum=262&topicCode=GE&subtopicCode=%20\n",
      "https://www.pcc.edu/schedule/default.cfm?fa=dspCourse2&thisTerm=201802&crsCode=ENGR&subjCode=ENGR&crsNum=271&topicCode=GE&subtopicCode=%20\n"
     ]
    }
   ],
   "source": [
    "from class_page_iter_tools import main\n",
    "main()"
   ]
  },
  {
   "cell_type": "code",
   "execution_count": null,
   "metadata": {
    "collapsed": true
   },
   "outputs": [],
   "source": [
    "base_url = 'https://www.pcc.edu/schedule/default.cfm?fa=dspTopic&thisTerm=200701&type=Credit'\n",
    "page = requests.get(base_url)\n",
    "soup = BeautifulSoup(page.content, 'html.parser')"
   ]
  },
  {
   "cell_type": "code",
   "execution_count": null,
   "metadata": {
    "collapsed": true
   },
   "outputs": [],
   "source": [
    "depts = ['Civil and Mechanical Engineering Technology', 'Engineering', 'Electronic Engineering Technology']"
   ]
  },
  {
   "cell_type": "code",
   "execution_count": null,
   "metadata": {
    "collapsed": true
   },
   "outputs": [],
   "source": [
    "def get_dept_urls(main_url='https://www.pcc.edu/schedule/default.cfm?fa=dspTopic&thisTerm=200701&type=Credit', dept_lst=['Civil and Mechanical Engineering Technology', 'Engineering', 'Electronic Engineering Technology']):\n",
    "    dept_url_lst=[]\n",
    "    base_url = 'https://www.pcc.edu/schedule/'\n",
    "    page = requests.get(main_url)\n",
    "    soup = BeautifulSoup(page.content, 'html.parser')\n",
    "    for link in soup.find_all('a', href=True):\n",
    "        if link.text in depts:\n",
    "            extension = link.get(\"href\")\n",
    "            url = urllib.parse.urljoin(base_url,extension)\n",
    "            dept_url_lst.append(url)\n",
    "    \n",
    "    return dept_url_lst\n",
    "            \n",
    "            \n",
    "    \n",
    "    "
   ]
  },
  {
   "cell_type": "code",
   "execution_count": null,
   "metadata": {},
   "outputs": [],
   "source": [
    "dept_url_lst = get_dept_urls()\n",
    "print(dept_url_lst)"
   ]
  },
  {
   "cell_type": "code",
   "execution_count": null,
   "metadata": {
    "collapsed": true
   },
   "outputs": [],
   "source": [
    "dept_url_lst=[]\n",
    "base_url = 'https://www.pcc.edu/schedule/'\n",
    "for link in soup.find_all('a', href=True):\n",
    "    if link.text in depts:\n",
    "        extension = link.get(\"href\")\n",
    "        url = urllib.parse.urljoin(base_url,extension)\n",
    "        dept_url_lst.append(url)\n",
    "        \n",
    "for link in dept_url_lst:\n",
    "    print(link)"
   ]
  },
  {
   "cell_type": "code",
   "execution_count": null,
   "metadata": {
    "collapsed": true
   },
   "outputs": [],
   "source": [
    "def get_class_url_lst(dept_url_lst=['https://www.pcc.edu/schedule/default.cfm?fa=dspTopicDetails&thisTerm=201802&topicid=CMET&type=Credit', 'https://www.pcc.edu/schedule/default.cfm?fa=dspTopicDetails&thisTerm=201802&topicid=EET&type=Credit', 'https://www.pcc.edu/schedule/default.cfm?fa=dspTopicDetails&thisTerm=201802&topicid=GE&type=Credit']):\n",
    "    class_url_lst=[]\n",
    "    base_url = 'https://www.pcc.edu/schedule/'\n",
    "    for url in dept_url_lst:\n",
    "        page = requests.get(url)\n",
    "        soup = BeautifulSoup(page.content, 'html.parser')\n",
    "        for course in soup.find_all('dd'):\n",
    "            if course.a.get(\"href\"):\n",
    "                ext = course.a.get(\"href\")\n",
    "                url = urllib.parse.urljoin(base_url,ext)\n",
    "                class_url_lst.append(url)\n",
    "                \n",
    "    return class_url_lst"
   ]
  },
  {
   "cell_type": "code",
   "execution_count": null,
   "metadata": {
    "collapsed": true
   },
   "outputs": [],
   "source": [
    "class_url_lst = get_class_url_lst()"
   ]
  },
  {
   "cell_type": "code",
   "execution_count": null,
   "metadata": {
    "collapsed": true
   },
   "outputs": [],
   "source": [
    "class_url_lst=[]\n",
    "base_url = 'https://www.pcc.edu/schedule/'\n",
    "for url in dept_url_lst:\n",
    "    page = requests.get(url)\n",
    "    soup = BeautifulSoup(page.content, 'html.parser')\n",
    "    for course in soup.find_all('dd'):\n",
    "        if course.a.get(\"href\"):\n",
    "            ext = course.a.get(\"href\")\n",
    "            url = urllib.parse.urljoin(base_url,ext)\n",
    "            class_url_lst.append(url)"
   ]
  },
  {
   "cell_type": "code",
   "execution_count": null,
   "metadata": {
    "collapsed": true
   },
   "outputs": [],
   "source": [
    "instr_section_list =[]\n",
    "for url in class_url_lst:\n",
    "    #print(x)\n",
    "    instr_section_list.extend(get_instr_sec_lst(url))"
   ]
  },
  {
   "cell_type": "code",
   "execution_count": null,
   "metadata": {},
   "outputs": [],
   "source": [
    "instructor_set = set([x.instructor for x in instr_section_list])\n",
    "print(instructor_set)"
   ]
  },
  {
   "cell_type": "code",
   "execution_count": null,
   "metadata": {
    "collapsed": true
   },
   "outputs": [],
   "source": [
    "class instructorObj():\n",
    "    def __init__(self,name):\n",
    "        self.name = name\n",
    "        self.classes=[]\n",
    "        self.departments=[]\n",
    "        self.office=''\n",
    "        self.phone=''\n",
    "        self.email=''\n",
    "        self.year=''\n",
    "        self.quarter=''\n",
    "        \n",
    "    \n",
    "    def __str__(self):\n",
    "        return self.name\n",
    "    \n",
    "    def print_schedule(self):\n",
    "        print(self.name)\n",
    "        print()\n",
    "        for x in self.classes:\n",
    "            print(x.course_number)\n",
    "            print(x.course_name)\n",
    "            print(x.day)\n",
    "            print(x.start_time)\n",
    "            print(x.end_time)\n",
    "            print(x.building)\n",
    "            print(x.room_num)\n",
    "            print()\n",
    "        "
   ]
  },
  {
   "cell_type": "code",
   "execution_count": null,
   "metadata": {
    "collapsed": true
   },
   "outputs": [],
   "source": [
    "peter = instructorObj('Peter  Kazarinoff')\n",
    "peter.office = 'ST200'\n",
    "peter.phone ='971-722-8056'\n",
    "peter.email = 'peter.kazarinoff@pcc.edu'\n",
    "peter.departments = ['CMET','ENGR']\n",
    "peter.classes = [x for x in instr_section_list if x.instructor == 'Peter  Kazarinoff']"
   ]
  },
  {
   "cell_type": "code",
   "execution_count": null,
   "metadata": {},
   "outputs": [],
   "source": [
    "peter.classes"
   ]
  },
  {
   "cell_type": "code",
   "execution_count": null,
   "metadata": {
    "collapsed": true
   },
   "outputs": [],
   "source": [
    "instr_Obj_list = [] #a list of instructure Objects, each instructor has a list of class schedule objects\n",
    "for instructor in list(instructor_set):\n",
    "    #print(instructor)\n",
    "    inst_Obj = instructorObj(instructor)\n",
    "    #print(inst_Obj.name)\n",
    "    #print(type(inst_Obj))\n",
    "    inst_Obj.classes = [x for x in instr_section_list if x.instructor == instructor]\n",
    "    inst_Obj.departments = list(set([x.department for x in instr_section_list if x.instructor == instructor]))\n",
    "    instr_Obj_list.append(inst_Obj)"
   ]
  },
  {
   "cell_type": "code",
   "execution_count": null,
   "metadata": {},
   "outputs": [],
   "source": [
    "instr_Obj_list[-5].print_schedule()\n"
   ]
  },
  {
   "cell_type": "code",
   "execution_count": null,
   "metadata": {},
   "outputs": [],
   "source": [
    "instr_Obj_list[-6].print_schedule()"
   ]
  },
  {
   "cell_type": "code",
   "execution_count": null,
   "metadata": {
    "collapsed": true
   },
   "outputs": [],
   "source": [
    "### Now need to try and build the excel sheets from the peoples schedule\n",
    "### need a fuction that takes in an InstrSectionObject and puts it in an excel doc object"
   ]
  },
  {
   "cell_type": "code",
   "execution_count": null,
   "metadata": {
    "collapsed": true
   },
   "outputs": [],
   "source": [
    "import bs4"
   ]
  },
  {
   "cell_type": "code",
   "execution_count": null,
   "metadata": {
    "collapsed": true
   },
   "outputs": [],
   "source": [
    "import bs4\n",
    "class courseTable(bs4.element.Tag):\n",
    "    def __init__(self,bs4elementtage):\n",
    "        self.contents = bs4elementtage\n",
    "        \n",
    "        \n",
    "class SuperMan(bs4.element.Tag): #subclass, inherits from SuperHero\n",
    "    pass"
   ]
  },
  {
   "cell_type": "code",
   "execution_count": null,
   "metadata": {
    "collapsed": true
   },
   "outputs": [],
   "source": [
    "dir(table)"
   ]
  },
  {
   "cell_type": "code",
   "execution_count": null,
   "metadata": {
    "collapsed": true
   },
   "outputs": [],
   "source": [
    "type(coursetableobject)"
   ]
  },
  {
   "cell_type": "code",
   "execution_count": null,
   "metadata": {
    "collapsed": true
   },
   "outputs": [],
   "source": [
    "#for td in td_lst:\n",
    "   #print(td.text)\n",
    "str = td_lst[1].text"
   ]
  },
  {
   "cell_type": "code",
   "execution_count": null,
   "metadata": {
    "collapsed": true
   },
   "outputs": [],
   "source": [
    "str"
   ]
  },
  {
   "cell_type": "code",
   "execution_count": null,
   "metadata": {
    "collapsed": true
   },
   "outputs": [],
   "source": [
    "str.strip().isalnum()"
   ]
  },
  {
   "cell_type": "code",
   "execution_count": null,
   "metadata": {
    "collapsed": true
   },
   "outputs": [],
   "source": [
    "CRN_lst=[]\n",
    "for td in td_lst:\n",
    "    if td.text.strip().isdigit() and len(td.text.strip()) == 5:\n",
    "        CRN_lst.append(td.text.strip())\n",
    "    \n",
    "CRN_lst"
   ]
  },
  {
   "cell_type": "code",
   "execution_count": null,
   "metadata": {
    "collapsed": true
   },
   "outputs": [],
   "source": [
    "loc_lst=[]\n",
    "for td in td_lst:\n",
    "    #print(td.text.strip())\n",
    "    if \" / \" in td.text.strip():\n",
    "        loc_lst.append(td.text.strip())\n",
    "loc_lst\n",
    "#td_lst[1].text"
   ]
  },
  {
   "cell_type": "code",
   "execution_count": null,
   "metadata": {
    "collapsed": true
   },
   "outputs": [],
   "source": [
    "time_lst=[]\n",
    "for td in td_lst:\n",
    "    #print(td.text.strip())\n",
    "    if \":\" in td.text.strip() and \"-\" in td.text.strip():\n",
    "        time_lst.append(td.text.strip())\n",
    "time_lst\n",
    "#td_lst[1].text"
   ]
  },
  {
   "cell_type": "code",
   "execution_count": null,
   "metadata": {
    "collapsed": true
   },
   "outputs": [],
   "source": [
    "course_dict = {}"
   ]
  },
  {
   "cell_type": "code",
   "execution_count": null,
   "metadata": {
    "collapsed": true
   },
   "outputs": [],
   "source": [
    "course_sec_dict ={}"
   ]
  },
  {
   "cell_type": "code",
   "execution_count": null,
   "metadata": {
    "collapsed": true
   },
   "outputs": [],
   "source": [
    "course_sec_dict['ID']=\"\".join([CRN_lst[0],'-00'])"
   ]
  },
  {
   "cell_type": "code",
   "execution_count": null,
   "metadata": {
    "collapsed": true
   },
   "outputs": [],
   "source": [
    "course_sec_dict"
   ]
  },
  {
   "cell_type": "code",
   "execution_count": null,
   "metadata": {
    "collapsed": true
   },
   "outputs": [],
   "source": [
    "course_sec_dict['CRN']=CRN_lst[0]"
   ]
  },
  {
   "cell_type": "code",
   "execution_count": null,
   "metadata": {
    "collapsed": true
   },
   "outputs": [],
   "source": [
    "course_sec_dict"
   ]
  },
  {
   "cell_type": "code",
   "execution_count": null,
   "metadata": {
    "collapsed": true
   },
   "outputs": [],
   "source": [
    "time_str = time_lst[0]\n",
    "time_str"
   ]
  },
  {
   "cell_type": "code",
   "execution_count": null,
   "metadata": {
    "collapsed": true
   },
   "outputs": [],
   "source": [
    "start_time = time_str.split('-')[0]\n",
    "start_time"
   ]
  },
  {
   "cell_type": "code",
   "execution_count": null,
   "metadata": {
    "collapsed": true
   },
   "outputs": [],
   "source": [
    "end_time = time_str.split('-')[1]\n",
    "end_time"
   ]
  },
  {
   "cell_type": "code",
   "execution_count": null,
   "metadata": {
    "collapsed": true
   },
   "outputs": [],
   "source": [
    "course_sec_dict['start_time']=time_lst[0].split('-')[0]"
   ]
  },
  {
   "cell_type": "code",
   "execution_count": null,
   "metadata": {
    "collapsed": true
   },
   "outputs": [],
   "source": [
    "course_sec_dict['end_time']=time_lst[0].split('-')[1]"
   ]
  },
  {
   "cell_type": "code",
   "execution_count": null,
   "metadata": {
    "collapsed": true
   },
   "outputs": [],
   "source": [
    "course_sec_dict"
   ]
  },
  {
   "cell_type": "code",
   "execution_count": null,
   "metadata": {
    "collapsed": true
   },
   "outputs": [],
   "source": [
    "day_lst=[]\n",
    "for td in td_lst:\n",
    "    #print(td.text.strip())\n",
    "    if len(td.text.strip())==1 and td.text.strip().isalpha:\n",
    "        day_lst.append(td.text.strip())\n",
    "day_lst"
   ]
  },
  {
   "cell_type": "code",
   "execution_count": null,
   "metadata": {
    "collapsed": true
   },
   "outputs": [],
   "source": [
    "course_sec_dict['day']=day_lst[0].strip()"
   ]
  },
  {
   "cell_type": "code",
   "execution_count": null,
   "metadata": {
    "collapsed": true
   },
   "outputs": [],
   "source": [
    "course_sec_dict"
   ]
  },
  {
   "cell_type": "code",
   "execution_count": null,
   "metadata": {
    "collapsed": true
   },
   "outputs": [],
   "source": [
    "instr_lst=[]\n",
    "for td in td_lst:\n",
    "    #print(td.text.strip())\n",
    "    if \"Instructor: \" in td.text.strip():\n",
    "        instr_lst.append(td.text.strip().rstrip().lstrip().split('\\n')[0].strip('Instructor: '))\n",
    "instr_lst"
   ]
  },
  {
   "cell_type": "code",
   "execution_count": null,
   "metadata": {
    "collapsed": true
   },
   "outputs": [],
   "source": [
    "course_sec_dict['instructor'] = instr_lst[0].strip()"
   ]
  },
  {
   "cell_type": "code",
   "execution_count": null,
   "metadata": {
    "collapsed": true
   },
   "outputs": [],
   "source": [
    "course_sec_dict"
   ]
  },
  {
   "cell_type": "code",
   "execution_count": null,
   "metadata": {
    "collapsed": true
   },
   "outputs": [],
   "source": [
    "loc_lst"
   ]
  },
  {
   "cell_type": "code",
   "execution_count": null,
   "metadata": {
    "collapsed": true
   },
   "outputs": [],
   "source": [
    "course_sec_dict['building'] = loc_lst[0].split(' / ')[1].strip()\n",
    "course_sec_dict"
   ]
  },
  {
   "cell_type": "code",
   "execution_count": null,
   "metadata": {
    "collapsed": true
   },
   "outputs": [],
   "source": [
    "course_sec_dict['room_num'] = loc_lst[0].split(' / ')[2].strip()\n",
    "course_sec_dict"
   ]
  },
  {
   "cell_type": "code",
   "execution_count": null,
   "metadata": {
    "collapsed": true
   },
   "outputs": [],
   "source": [
    "class InstrSect():\n",
    "    def __init__(self):\n",
    "        self.ID=''\n",
    "        self.CRN=''\n",
    "        self.building=''\n",
    "        self.day=''\n",
    "        self.start_time=''\n",
    "        self.end_time=''\n",
    "        self.room_num=''\n",
    "        self.instructor=''\n",
    "        self.campus=''\n",
    "        self.course_name=''\n",
    "        self.course_number=''\n",
    "        self.dept=''\n",
    "        self.start_date=''\n",
    "        self.end_date=''\n",
    "        self.textbook_cost=''\n",
    "        self.tuition=''\n",
    "        self.fees=''"
   ]
  },
  {
   "cell_type": "code",
   "execution_count": null,
   "metadata": {
    "collapsed": true
   },
   "outputs": [],
   "source": [
    "CMET235_01=InstrSect()"
   ]
  },
  {
   "cell_type": "code",
   "execution_count": null,
   "metadata": {
    "collapsed": true
   },
   "outputs": [],
   "source": [
    "CMET235_01.ID"
   ]
  },
  {
   "cell_type": "code",
   "execution_count": null,
   "metadata": {
    "collapsed": true
   },
   "outputs": [],
   "source": [
    "CMET235_01.ID=course_sec_dict['ID']"
   ]
  },
  {
   "cell_type": "code",
   "execution_count": null,
   "metadata": {
    "collapsed": true
   },
   "outputs": [],
   "source": [
    "CMET235_01.ID"
   ]
  },
  {
   "cell_type": "code",
   "execution_count": null,
   "metadata": {
    "collapsed": true
   },
   "outputs": [],
   "source": [
    "CMET235_01.CRN=course_sec_dict['CRN']\n",
    "CMET235_01.building=course_sec_dict['building']\n",
    "CMET235_01.day=course_sec_dict['day']\n",
    "CMET235_01.start_time=course_sec_dict['start_time']\n",
    "CMET235_01.end_time=course_sec_dict['end_time']\n",
    "CMET235_01.start_date='02-Apr-2018'\n",
    "CMET235_01.end_date='11-Jun-2018'\n",
    "CMET235_01.fees='$18.00'"
   ]
  },
  {
   "cell_type": "code",
   "execution_count": null,
   "metadata": {
    "collapsed": true
   },
   "outputs": [],
   "source": [
    "#instr_lst=[]\n",
    "for td in td_lst:\n",
    "    print(td.text.strip())\n",
    "    #if \"Instructor: \" in td.text.strip():\n",
    "        #instr_lst.append(td.text.strip().rstrip().lstrip().split('\\n')[0].strip('Instructor: '))\n",
    "#instr_lst"
   ]
  },
  {
   "cell_type": "code",
   "execution_count": null,
   "metadata": {
    "collapsed": true
   },
   "outputs": [],
   "source": [
    "tr_lst = table.find_all(\"tr\")\n",
    "for row in tr_lst:\n",
    "    print(row)"
   ]
  },
  {
   "cell_type": "code",
   "execution_count": null,
   "metadata": {
    "collapsed": true
   },
   "outputs": [],
   "source": [
    "## This works, need to pair rows so that:\n",
    "#Intr sect 1\n",
    "#<data-row>\n",
    "#<info-row>\n",
    "\n",
    "#Intr sect 2\n",
    "#<data-row>\n",
    "#<info-row>\n",
    "\n",
    "#Intr sect 3\n",
    "#<data-row alt-color>\n",
    "#<info-row alt-color>\n",
    "\n",
    "#Intr sect 4\n",
    "#<data-row alt-color>\n",
    "#<info-row alt-color>\n",
    "\n",
    "\n",
    "rows = soup.findAll('tr', attrs={'class': ['data-row ','info-row ','data-row alt-color','info-row alt-color']})\n",
    "#print(rows)\n",
    "print(rows[6].text)\n",
    "print(rows[7].text)"
   ]
  },
  {
   "cell_type": "code",
   "execution_count": null,
   "metadata": {
    "collapsed": true
   },
   "outputs": [],
   "source": [
    "def get_course_rows(soupObject):\n",
    "    rows = soupObject.findAll('tr', attrs={'class': ['data-row ','info-row ','data-row alt-color','info-row alt-color']})\n",
    "    return rows"
   ]
  },
  {
   "cell_type": "code",
   "execution_count": null,
   "metadata": {
    "collapsed": true
   },
   "outputs": [],
   "source": [
    "row_lst = get_course_rows(soup)"
   ]
  },
  {
   "cell_type": "code",
   "execution_count": null,
   "metadata": {
    "collapsed": true
   },
   "outputs": [],
   "source": [
    "#type(row_lst)\n",
    "two_rows = rows[0:2]"
   ]
  },
  {
   "cell_type": "code",
   "execution_count": null,
   "metadata": {
    "collapsed": true
   },
   "outputs": [],
   "source": [
    "def get_instructor(soupRowObject):\n",
    "    #td_lst = soupRowObject.find('td')\n",
    "    for td in soupRowObject.find_all('td'):\n",
    "    #print(td.text.strip())\n",
    "        if \"Instructor: \" in td.text.strip():\n",
    "            return (td.text.strip().rstrip().lstrip().split('\\n')[0].strip('Instructor: '))\n",
    "        else:\n",
    "            return None\n",
    "\n",
    "                "
   ]
  },
  {
   "cell_type": "code",
   "execution_count": null,
   "metadata": {
    "collapsed": true
   },
   "outputs": [],
   "source": [
    "inst= get_instructor(row_lst[0])\n",
    "print(inst)"
   ]
  },
  {
   "cell_type": "code",
   "execution_count": null,
   "metadata": {
    "collapsed": true
   },
   "outputs": [],
   "source": [
    "row_lst[0]"
   ]
  },
  {
   "cell_type": "code",
   "execution_count": null,
   "metadata": {
    "collapsed": true
   },
   "outputs": [],
   "source": [
    "type(row_lst)"
   ]
  },
  {
   "cell_type": "code",
   "execution_count": null,
   "metadata": {
    "collapsed": true
   },
   "outputs": [],
   "source": [
    "dir(row_lst)"
   ]
  },
  {
   "cell_type": "code",
   "execution_count": null,
   "metadata": {
    "collapsed": true
   },
   "outputs": [],
   "source": [
    "soup"
   ]
  },
  {
   "cell_type": "code",
   "execution_count": null,
   "metadata": {
    "collapsed": true
   },
   "outputs": [],
   "source": [
    "soup.table"
   ]
  },
  {
   "cell_type": "code",
   "execution_count": null,
   "metadata": {
    "collapsed": true
   },
   "outputs": [],
   "source": [
    "type(table)"
   ]
  },
  {
   "cell_type": "code",
   "execution_count": null,
   "metadata": {
    "collapsed": true
   },
   "outputs": [],
   "source": [
    "soup.table.tr"
   ]
  },
  {
   "cell_type": "code",
   "execution_count": null,
   "metadata": {
    "collapsed": true
   },
   "outputs": [],
   "source": [
    "type(soup.table.tr)"
   ]
  },
  {
   "cell_type": "code",
   "execution_count": null,
   "metadata": {
    "collapsed": true
   },
   "outputs": [],
   "source": [
    "soup.table.find_all(\"tr\")"
   ]
  },
  {
   "cell_type": "code",
   "execution_count": null,
   "metadata": {
    "collapsed": true
   },
   "outputs": [],
   "source": [
    "type(soup.table.find_all(\"tr\"))"
   ]
  },
  {
   "cell_type": "code",
   "execution_count": null,
   "metadata": {
    "collapsed": true
   },
   "outputs": [],
   "source": [
    "type(soup.table.children)"
   ]
  },
  {
   "cell_type": "code",
   "execution_count": null,
   "metadata": {
    "collapsed": true
   },
   "outputs": [],
   "source": [
    "soup.tr.next_sibling"
   ]
  },
  {
   "cell_type": "code",
   "execution_count": null,
   "metadata": {
    "collapsed": true
   },
   "outputs": [],
   "source": [
    "soup.tr.next_sibling"
   ]
  },
  {
   "cell_type": "code",
   "execution_count": null,
   "metadata": {
    "collapsed": true
   },
   "outputs": [],
   "source": [
    "soup.tr.next_sibling"
   ]
  },
  {
   "cell_type": "code",
   "execution_count": null,
   "metadata": {
    "collapsed": true
   },
   "outputs": [],
   "source": [
    "soup.tr.contnets"
   ]
  },
  {
   "cell_type": "code",
   "execution_count": null,
   "metadata": {
    "collapsed": true
   },
   "outputs": [],
   "source": [
    "type(soup.tr.contents)"
   ]
  },
  {
   "cell_type": "code",
   "execution_count": null,
   "metadata": {
    "collapsed": true
   },
   "outputs": [],
   "source": [
    "soup.table.tr.contents"
   ]
  },
  {
   "cell_type": "code",
   "execution_count": null,
   "metadata": {
    "collapsed": true
   },
   "outputs": [],
   "source": [
    "soup.tr.next_sibling"
   ]
  },
  {
   "cell_type": "code",
   "execution_count": null,
   "metadata": {
    "collapsed": true
   },
   "outputs": [],
   "source": [
    "soup.tr.next_sibling"
   ]
  },
  {
   "cell_type": "code",
   "execution_count": null,
   "metadata": {
    "collapsed": true
   },
   "outputs": [],
   "source": [
    "soup.tr.next_sibling"
   ]
  },
  {
   "cell_type": "code",
   "execution_count": null,
   "metadata": {
    "collapsed": true
   },
   "outputs": [],
   "source": [
    "for i in range(10):\n",
    "    print(soup.table.children)"
   ]
  },
  {
   "cell_type": "code",
   "execution_count": null,
   "metadata": {
    "collapsed": true
   },
   "outputs": [],
   "source": []
  }
 ],
 "metadata": {
  "kernelspec": {
   "display_name": "Python 3",
   "language": "python",
   "name": "python3"
  },
  "language_info": {
   "codemirror_mode": {
    "name": "ipython",
    "version": 3
   },
   "file_extension": ".py",
   "mimetype": "text/x-python",
   "name": "python",
   "nbconvert_exporter": "python",
   "pygments_lexer": "ipython3",
   "version": "3.6.3"
  }
 },
 "nbformat": 4,
 "nbformat_minor": 2
}
