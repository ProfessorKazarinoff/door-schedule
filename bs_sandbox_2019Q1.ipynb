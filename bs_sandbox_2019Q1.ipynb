{
 "cells": [
  {
   "cell_type": "code",
   "execution_count": 126,
   "metadata": {},
   "outputs": [],
   "source": [
    "import requests\n",
    "from bs4 import BeautifulSoup\n",
    "import urllib\n",
    "from bs4_functions import get_instr_sec_lst\n",
    "import pickle\n",
    "import os\n",
    "import bs4"
   ]
  },
  {
   "cell_type": "code",
   "execution_count": 44,
   "metadata": {},
   "outputs": [
    {
     "name": "stdout",
     "output_type": "stream",
     "text": [
      "<class 'bs4.BeautifulSoup'>\n"
     ]
    }
   ],
   "source": [
    "url ='https://www.pcc.edu/schedule/default.cfm?fa=dspCourse2&thisTerm=201902&crsCode=ENGR&subjCode=ENGR&crsNum=262&topicCode=GE&subtopicCode=%20'\n",
    "page = requests.get(url)\n",
    "soup_obj = BeautifulSoup(page.content, 'html.parser')\n",
    "print(type(soup_obj))"
   ]
  },
  {
   "cell_type": "code",
   "execution_count": 102,
   "metadata": {},
   "outputs": [],
   "source": [
    "def get_course_rows(soupObject):\n",
    "    rows = soupObject.find_all('tr', attrs={'class': ['data-row ','info-row ','data-row alt-color','info-row alt-color']})\n",
    "    return rows"
   ]
  },
  {
   "cell_type": "code",
   "execution_count": 103,
   "metadata": {},
   "outputs": [
    {
     "name": "stdout",
     "output_type": "stream",
     "text": [
      "<class 'bs4.element.Tag'>\n"
     ]
    }
   ],
   "source": [
    "My_table = soup_obj.find('table',{'class':'turntable'})\n",
    "print(type(My_table))"
   ]
  },
  {
   "cell_type": "code",
   "execution_count": 114,
   "metadata": {},
   "outputs": [],
   "source": [
    "def get_course_table(soupObject):\n",
    "    table = soupObject.tbody#.find('table',{'class':'turntable'})\n",
    "    return table"
   ]
  },
  {
   "cell_type": "code",
   "execution_count": 115,
   "metadata": {},
   "outputs": [],
   "source": [
    "def get_instructor(soupRowObject):\n",
    "    td_lst = soupRowObject.find('td')\n",
    "    #for td in soupRowObject:\n",
    "    #print(td.text.strip())\n",
    "    for td in td_lst:\n",
    "        if \"Instructor: \" in td.text.strip():\n",
    "            return (td.text.strip().rstrip().lstrip().split('\\n')[0].strip('Instructor: '))\n",
    "        else:\n",
    "            return None"
   ]
  },
  {
   "cell_type": "code",
   "execution_count": 139,
   "metadata": {},
   "outputs": [
    {
     "name": "stdout",
     "output_type": "stream",
     "text": [
      "found a navigablestring\n",
      "\n",
      "\n",
      "found another tag object\n",
      "found a navigablestring\n",
      "\n",
      "\n",
      "found another tag object\n",
      "SY SS\n",
      "Tu\n",
      "None\n",
      "None\n",
      "None\n",
      " \n",
      "None\n",
      "Peter  Kazarinoff\n",
      "None\n",
      "credit\n",
      "None\n",
      "found a navigablestring\n",
      "\n",
      "\n",
      "found another tag object\n",
      "SY AM\n",
      "F\n",
      "None\n",
      "None\n",
      "None\n",
      " \n",
      "None\n",
      "Peter  Kazarinoff\n",
      "None\n",
      "found a navigablestring\n",
      "\n",
      "\n",
      "found another tag object\n",
      "SY AM\n",
      "F\n",
      "None\n",
      "None\n",
      "None\n",
      " \n",
      "None\n",
      "Grant O Carsen\n",
      "None\n",
      "found a navigablestring\n",
      "\n",
      "\n",
      "found another tag object\n",
      "SY AM\n",
      "F\n",
      "None\n",
      "None\n",
      "None\n",
      " \n",
      "None\n",
      "David P Goldman\n",
      "None\n",
      "found a navigablestring\n",
      "\n",
      "\n",
      "found another tag object\n",
      "found a navigablestring\n",
      "\n",
      "\n"
     ]
    }
   ],
   "source": [
    "table = get_course_table(soup_obj)\n",
    "for r in table.children:\n",
    "    if isinstance(r, bs4.element.Tag):\n",
    "        print(\"found another tag object\")\n",
    "        for d in r.children:\n",
    "            if isinstance(d,bs4.element.Tag):\n",
    "                for el in d.children:\n",
    "                    if isinstance(el, bs4.element.Tag):\n",
    "                        print(el.string)\n",
    "    else:\n",
    "        print('found a navigablestring')\n",
    "        print(r)\n",
    "    \n",
    "    #for d in r.td:\n",
    "    #print(type(d))\n",
    "    #print(type(r))\n",
    "#print(type(rows))\n",
    "#instr = get_instructor(rows)\n",
    "#print(instr)"
   ]
  },
  {
   "cell_type": "code",
   "execution_count": 94,
   "metadata": {},
   "outputs": [
    {
     "name": "stdout",
     "output_type": "stream",
     "text": [
      "None\n"
     ]
    }
   ],
   "source": [
    "c = get_instructor(table)\n",
    "print(c)"
   ]
  },
  {
   "cell_type": "code",
   "execution_count": 43,
   "metadata": {},
   "outputs": [
    {
     "ename": "AttributeError",
     "evalue": "ResultSet object has no attribute 'string'. You're probably treating a list of items like a single item. Did you call find_all() when you meant to call find()?",
     "output_type": "error",
     "traceback": [
      "\u001b[1;31m------------------------------------------------------------------------\u001b[0m",
      "\u001b[1;31mAttributeError\u001b[0m                         Traceback (most recent call last)",
      "\u001b[1;32m<ipython-input-43-33b39be9556e>\u001b[0m in \u001b[0;36m<module>\u001b[1;34m\u001b[0m\n\u001b[1;32m----> 1\u001b[1;33m \u001b[0mnew_soup\u001b[0m \u001b[1;33m=\u001b[0m \u001b[0mBeautifulSoup\u001b[0m\u001b[1;33m(\u001b[0m\u001b[0mtable\u001b[0m\u001b[1;33m.\u001b[0m\u001b[0mstring\u001b[0m\u001b[1;33m)\u001b[0m\u001b[1;33m\u001b[0m\u001b[1;33m\u001b[0m\u001b[0m\n\u001b[0m",
      "\u001b[1;32m~\\Anaconda3\\lib\\site-packages\\bs4\\element.py\u001b[0m in \u001b[0;36m__getattr__\u001b[1;34m(self, key)\u001b[0m\n\u001b[0;32m   1882\u001b[0m     \u001b[1;32mdef\u001b[0m \u001b[0m__getattr__\u001b[0m\u001b[1;33m(\u001b[0m\u001b[0mself\u001b[0m\u001b[1;33m,\u001b[0m \u001b[0mkey\u001b[0m\u001b[1;33m)\u001b[0m\u001b[1;33m:\u001b[0m\u001b[1;33m\u001b[0m\u001b[1;33m\u001b[0m\u001b[0m\n\u001b[0;32m   1883\u001b[0m         raise AttributeError(\n\u001b[1;32m-> 1884\u001b[1;33m             \u001b[1;34m\"ResultSet object has no attribute '%s'. You're probably treating a list of items like a single item. Did you call find_all() when you meant to call find()?\"\u001b[0m \u001b[1;33m%\u001b[0m \u001b[0mkey\u001b[0m\u001b[1;33m\u001b[0m\u001b[1;33m\u001b[0m\u001b[0m\n\u001b[0m\u001b[0;32m   1885\u001b[0m         )\n",
      "\u001b[1;31mAttributeError\u001b[0m: ResultSet object has no attribute 'string'. You're probably treating a list of items like a single item. Did you call find_all() when you meant to call find()?"
     ]
    }
   ],
   "source": [
    "new_soup = BeautifulSoup(table.string)"
   ]
  },
  {
   "cell_type": "code",
   "execution_count": null,
   "metadata": {},
   "outputs": [],
   "source": []
  }
 ],
 "metadata": {
  "kernelspec": {
   "display_name": "Python 3",
   "language": "python",
   "name": "python3"
  },
  "language_info": {
   "codemirror_mode": {
    "name": "ipython",
    "version": 3
   },
   "file_extension": ".py",
   "mimetype": "text/x-python",
   "name": "python",
   "nbconvert_exporter": "python",
   "pygments_lexer": "ipython3",
   "version": "3.6.7"
  }
 },
 "nbformat": 4,
 "nbformat_minor": 2
}
