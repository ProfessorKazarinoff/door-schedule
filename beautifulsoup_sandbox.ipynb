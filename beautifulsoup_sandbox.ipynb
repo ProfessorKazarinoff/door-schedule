{
 "cells": [
  {
   "cell_type": "markdown",
   "metadata": {},
   "source": [
    "# Beautiful Soup Sandbox\n",
    "a notebook to investigate pulling class information out of PCC class schedule webpages"
   ]
  },
  {
   "cell_type": "code",
   "execution_count": 2,
   "metadata": {},
   "outputs": [
    {
     "ename": "ModuleNotFoundError",
     "evalue": "No module named 'bs4'",
     "output_type": "error",
     "traceback": [
      "\u001b[0;31m---------------------------------------------------------------------------\u001b[0m",
      "\u001b[0;31mModuleNotFoundError\u001b[0m                       Traceback (most recent call last)",
      "\u001b[0;32m<ipython-input-2-10ca0c9990f3>\u001b[0m in \u001b[0;36m<module>\u001b[0;34m()\u001b[0m\n\u001b[1;32m      1\u001b[0m \u001b[0;32mimport\u001b[0m \u001b[0mrequests\u001b[0m\u001b[0;34m\u001b[0m\u001b[0m\n\u001b[0;32m----> 2\u001b[0;31m \u001b[0;32mfrom\u001b[0m \u001b[0mbs4\u001b[0m \u001b[0;32mimport\u001b[0m \u001b[0mBeautifulSoup\u001b[0m\u001b[0;34m\u001b[0m\u001b[0m\n\u001b[0m",
      "\u001b[0;31mModuleNotFoundError\u001b[0m: No module named 'bs4'"
     ]
    }
   ],
   "source": [
    "import requests\n",
    "from bs4 import BeautifulSoup"
   ]
  },
  {
   "cell_type": "code",
   "execution_count": 2,
   "metadata": {},
   "outputs": [],
   "source": [
    "base_url = 'https://www.pcc.edu/schedule/default.cfm?fa=dspTopic&thisTerm=200701&type=Credit'\n",
    "page = requests.get(base_url)"
   ]
  },
  {
   "cell_type": "code",
   "execution_count": 3,
   "metadata": {},
   "outputs": [],
   "source": [
    "soup = BeautifulSoup(page.content, 'html.parser')"
   ]
  },
  {
   "cell_type": "code",
   "execution_count": 4,
   "metadata": {},
   "outputs": [
    {
     "name": "stdout",
     "output_type": "stream",
     "text": [
      "Found Engineering Link\n",
      "Found Engineering Link\n",
      "Found Engineering Link\n",
      "Found Engineering Link\n"
     ]
    }
   ],
   "source": [
    "for link in soup.find_all('a', href=True):\n",
    "    #print(link['href'])\n",
    "    if 'Engineering' in link.text:\n",
    "        print('Found Engineering Link')"
   ]
  },
  {
   "cell_type": "code",
   "execution_count": 5,
   "metadata": {},
   "outputs": [],
   "source": [
    "depts = ['Civil and Mechanical Engineering Technology', 'Engineering', 'Electronic Engineering Technology']"
   ]
  },
  {
   "cell_type": "code",
   "execution_count": 6,
   "metadata": {},
   "outputs": [
    {
     "name": "stdout",
     "output_type": "stream",
     "text": [
      "Found an Engineering Department Link\n",
      "Found an Engineering Department Link\n",
      "Found an Engineering Department Link\n"
     ]
    }
   ],
   "source": [
    "link_lst=[]\n",
    "for link in soup.find_all('a', href=True):\n",
    "    #print(link['href'])\n",
    "    if link.text in depts:\n",
    "        print('Found an Engineering Department Link')\n",
    "        link_lst.append(link.get(\"href\"))"
   ]
  },
  {
   "cell_type": "code",
   "execution_count": 7,
   "metadata": {},
   "outputs": [
    {
     "data": {
      "text/plain": [
       "'default.cfm?fa=dspTopicDetails&thisTerm=201802&topicid=CMET&type=Credit'"
      ]
     },
     "execution_count": 7,
     "metadata": {},
     "output_type": "execute_result"
    }
   ],
   "source": [
    "link_lst[0]"
   ]
  },
  {
   "cell_type": "code",
   "execution_count": 8,
   "metadata": {},
   "outputs": [],
   "source": [
    "# link = 'https://www.pcc.edu/schedule/default.cfm?fa=dspTopicDetails&thisTerm=201802&topicid=MET&type=Credit\n",
    "import urllib\n",
    "base_url = 'https://www.pcc.edu/schedule/'\n",
    "extension = link_lst[0]\n",
    "url = urllib.parse.urljoin(base_url,extension)\n",
    "page = requests.get(url)"
   ]
  },
  {
   "cell_type": "code",
   "execution_count": 9,
   "metadata": {},
   "outputs": [],
   "source": [
    "soup = BeautifulSoup(page.content, 'html.parser')"
   ]
  },
  {
   "cell_type": "code",
   "execution_count": 10,
   "metadata": {},
   "outputs": [
    {
     "data": {
      "text/plain": [
       "'CMET 121'"
      ]
     },
     "execution_count": 10,
     "metadata": {},
     "output_type": "execute_result"
    }
   ],
   "source": [
    "soup.dt.text"
   ]
  },
  {
   "cell_type": "code",
   "execution_count": 11,
   "metadata": {},
   "outputs": [
    {
     "name": "stdout",
     "output_type": "stream",
     "text": [
      "Strength of Materials\n",
      "Global Energy Physics\n",
      "Tech Algebra w/Analyt Geometry\n",
      "Surveying II\n",
      "Thermodynamics II\n",
      "Project Management\n",
      "CET Applied CAD\n",
      "Machine Design\n",
      "Structural Design\n",
      "MET Applied CAD\n"
     ]
    }
   ],
   "source": [
    "class_lst=[]\n",
    "for course in soup.find_all('dd'):\n",
    "    print(course.string)\n",
    "    class_lst.append(course)"
   ]
  },
  {
   "cell_type": "code",
   "execution_count": 12,
   "metadata": {},
   "outputs": [
    {
     "data": {
      "text/plain": [
       "[<dd><a href=\"default.cfm?fa=dspCourse2&amp;thisTerm=201802&amp;crsCode=CMET121&amp;subjCode=CMET&amp;crsNum=121&amp;topicCode=CMET&amp;subtopicCode=%20\">Strength of Materials</a></dd>,\n",
       " <dd><a href=\"default.cfm?fa=dspCourse2&amp;thisTerm=201802&amp;crsCode=CMET122&amp;subjCode=CMET&amp;crsNum=122&amp;topicCode=CMET&amp;subtopicCode=%20\">Global Energy Physics</a></dd>,\n",
       " <dd><a href=\"default.cfm?fa=dspCourse2&amp;thisTerm=201802&amp;crsCode=CMET123&amp;subjCode=CMET&amp;crsNum=123&amp;topicCode=CMET&amp;subtopicCode=%20\">Tech Algebra w/Analyt Geometry</a></dd>,\n",
       " <dd><a href=\"default.cfm?fa=dspCourse2&amp;thisTerm=201802&amp;crsCode=CMET214&amp;subjCode=CMET&amp;crsNum=214&amp;topicCode=CMET&amp;subtopicCode=%20\">Surveying II</a></dd>,\n",
       " <dd><a href=\"default.cfm?fa=dspCourse2&amp;thisTerm=201802&amp;crsCode=CMET222&amp;subjCode=CMET&amp;crsNum=222&amp;topicCode=CMET&amp;subtopicCode=%20\">Thermodynamics II</a></dd>,\n",
       " <dd><a href=\"default.cfm?fa=dspCourse2&amp;thisTerm=201802&amp;crsCode=CMET223&amp;subjCode=CMET&amp;crsNum=223&amp;topicCode=CMET&amp;subtopicCode=%20\">Project Management</a></dd>,\n",
       " <dd><a href=\"default.cfm?fa=dspCourse2&amp;thisTerm=201802&amp;crsCode=CMET233&amp;subjCode=CMET&amp;crsNum=233&amp;topicCode=CMET&amp;subtopicCode=%20\">CET Applied CAD</a></dd>,\n",
       " <dd><a href=\"default.cfm?fa=dspCourse2&amp;thisTerm=201802&amp;crsCode=CMET235&amp;subjCode=CMET&amp;crsNum=235&amp;topicCode=CMET&amp;subtopicCode=%20\">Machine Design</a></dd>,\n",
       " <dd><a href=\"default.cfm?fa=dspCourse2&amp;thisTerm=201802&amp;crsCode=CMET236&amp;subjCode=CMET&amp;crsNum=236&amp;topicCode=CMET&amp;subtopicCode=%20\">Structural Design</a></dd>,\n",
       " <dd><a href=\"default.cfm?fa=dspCourse2&amp;thisTerm=201802&amp;crsCode=CMET237&amp;subjCode=CMET&amp;crsNum=237&amp;topicCode=CMET&amp;subtopicCode=%20\">MET Applied CAD</a></dd>]"
      ]
     },
     "execution_count": 12,
     "metadata": {},
     "output_type": "execute_result"
    }
   ],
   "source": [
    "class_lst"
   ]
  },
  {
   "cell_type": "code",
   "execution_count": 13,
   "metadata": {},
   "outputs": [],
   "source": [
    "course_link = class_lst[7].a"
   ]
  },
  {
   "cell_type": "code",
   "execution_count": 14,
   "metadata": {},
   "outputs": [
    {
     "data": {
      "text/plain": [
       "<a href=\"default.cfm?fa=dspCourse2&amp;thisTerm=201802&amp;crsCode=CMET235&amp;subjCode=CMET&amp;crsNum=235&amp;topicCode=CMET&amp;subtopicCode=%20\">Machine Design</a>"
      ]
     },
     "execution_count": 14,
     "metadata": {},
     "output_type": "execute_result"
    }
   ],
   "source": [
    "course_link"
   ]
  },
  {
   "cell_type": "code",
   "execution_count": 15,
   "metadata": {},
   "outputs": [
    {
     "data": {
      "text/plain": [
       "'default.cfm?fa=dspCourse2&thisTerm=201802&crsCode=CMET235&subjCode=CMET&crsNum=235&topicCode=CMET&subtopicCode=%20'"
      ]
     },
     "execution_count": 15,
     "metadata": {},
     "output_type": "execute_result"
    }
   ],
   "source": [
    "course_link.get(\"href\")"
   ]
  },
  {
   "cell_type": "code",
   "execution_count": 16,
   "metadata": {},
   "outputs": [
    {
     "name": "stdout",
     "output_type": "stream",
     "text": [
      "default.cfm?fa=dspCourse2&thisTerm=201802&crsCode=CMET235&subjCode=CMET&crsNum=235&topicCode=CMET&subtopicCode=%20\n"
     ]
    }
   ],
   "source": [
    "print(course_link.get(\"href\"))"
   ]
  },
  {
   "cell_type": "code",
   "execution_count": 17,
   "metadata": {},
   "outputs": [],
   "source": [
    "base_url = 'https://www.pcc.edu/schedule/'\n",
    "extension = class_lst[7].a.get(\"href\")\n",
    "url = urllib.parse.urljoin(base_url,extension)\n",
    "page = requests.get(url)"
   ]
  },
  {
   "cell_type": "code",
   "execution_count": 18,
   "metadata": {},
   "outputs": [],
   "source": [
    "soup = BeautifulSoup(page.content, 'html.parser')"
   ]
  },
  {
   "cell_type": "code",
   "execution_count": 19,
   "metadata": {},
   "outputs": [
    {
     "data": {
      "text/plain": [
       "'\\n\\n\\n\\n\\n\\n\\n\\n\\n    \\n\\t\\tCMET235 Machine Design | Class Schedule | PCC\\n\\t\\n    \\n\\n\\n\\n\\n\\n\\n\\n\\n\\n\\nSkip to page content\\n\\n\\n\\n\\n\\nPortland Community College\\n\\n\\n\\n\\n\\n\\n\\n\\n\\n\\n\\nMenu\\n\\n\\n\\n\\nGet Started\\nAcademic ProgramsAcademics\\nClass Schedule\\nAbout PCCAbout\\nStudent Life\\n\\n\\n\\n\\nSearch\\nA-Z Resources\\nContacts\\nCalendars\\nGive\\nMyPCC\\n\\n\\n\\n\\n\\n\\n\\n\\n\\n\\n\\nCMET235 Machine Design \\nCampus Contacts\\n\\n \\n\\n\\n\\n\\n\\n\\nPCC / Class Schedule / Spring 2018: Credit / Civil and Mechanical Engineering Technology / \\nExamines fundamentals of machine design, including analysis and design of mechanical components. Covers shafts, fasteners, belt and chain drives, brakes, gears, springs and bearings. Includes predicting static and fatigue failures for various loadings and materials. Prerequisite: CMET 121, 226. Audit available.\\xa0\\n\\n(For detailed information, see the Course Content and Outcome Guide ). \\n\\nCredits: \\n3.00\\n\\n\\nRegistration:you will need the CRN to register.\\nFees:many classes have additional fees.\\nMaterials:classes marked with $0 or <$40 use low cost materials. Cost does not include art supplies, calculators, fees, and equipment.\\n\\n\\n\\n\\nCRN\\nCampus / Bldg / Rm\\nTime\\nDays\\nDates\\nMaterials\\n\\n\\n\\n\\xa0\\n\\n20240\\n Sylvania  Campus / AM / 105 \\n\\t\\t\\t\\t\\t\\t\\t\\n09:00 AM-11:50 AM\\nM\\n02-Apr-2018 thru 11-Jun-2018\\nTextbooks for CRN 20240 < $40\\n\\n\\n\\n\\n\\n\\t\\t\\t\\t\\t\\t\\t\\t\\n\\t\\t\\t\\t\\t\\t\\t\\tInstructor: Peter  Kazarinoff\\n\\n\\t\\t\\t\\t\\t\\t\\t\\t\\n\\t\\t\\t\\t\\t\\t\\t\\t\\n\\t\\t\\t\\t\\t\\t\\t\\t\\n\\t\\t\\t\\t\\t\\t\\t\\t\\n\\t\\t\\t\\t\\t\\t\\t\\tTuition: credit Fees: $18.00\\n\\t\\t\\t\\t\\t\\t\\t\\t\\n\\n\\n\\nand\\n Sylvania  Campus / AM / 105 \\n\\t\\t\\t\\t\\t\\t\\t\\n09:00 AM-11:50 AM\\nW\\n04-Apr-2018 thru 13-Jun-2018\\nTextbooks for CRN 20240 < $40\\n\\n\\n\\n\\n\\n\\t\\t\\t\\t\\t\\t\\t\\t\\n\\t\\t\\t\\t\\t\\t\\t\\tInstructor: Peter  Kazarinoff\\n\\n\\n\\n\\xa0\\n\\n25728\\n Sylvania  Campus / AM / 105 \\n\\t\\t\\t\\t\\t\\t\\t\\n09:00 AM-11:50 AM\\nM\\n02-Apr-2018 thru 11-Jun-2018\\nTextbooks for CRN 25728 < $40\\n\\n\\n\\n\\n\\n\\t\\t\\t\\t\\t\\t\\t\\t\\n\\t\\t\\t\\t\\t\\t\\t\\tInstructor: Peter  Kazarinoff\\n\\n\\t\\t\\t\\t\\t\\t\\t\\t\\n\\t\\t\\t\\t\\t\\t\\t\\t\\n\\t\\t\\t\\t\\t\\t\\t\\t\\n\\t\\t\\t\\t\\t\\t\\t\\t\\n\\t\\t\\t\\t\\t\\t\\t\\tTuition: credit Fees: $18.00\\n\\t\\t\\t\\t\\t\\t\\t\\t\\n\\n\\n\\nand\\n Sylvania  Campus / AM / 105 \\n\\t\\t\\t\\t\\t\\t\\t\\n01:00 PM-03:50 PM\\nF\\n06-Apr-2018 thru 15-Jun-2018\\nTextbooks for CRN 25728 < $40\\n\\n\\n\\n\\n\\n\\t\\t\\t\\t\\t\\t\\t\\t\\n\\t\\t\\t\\t\\t\\t\\t\\tInstructor: Peter  Kazarinoff\\n\\n\\n\\n\\xa0\\n\\n\\n\\n\\n\\n\\n\\n\\n\\n\\n\\n\\n\\n $(document).foundation();\\n\\n\\n'"
      ]
     },
     "execution_count": 19,
     "metadata": {},
     "output_type": "execute_result"
    }
   ],
   "source": [
    "soup.text"
   ]
  },
  {
   "cell_type": "code",
   "execution_count": 20,
   "metadata": {},
   "outputs": [],
   "source": [
    "table = soup.table"
   ]
  },
  {
   "cell_type": "code",
   "execution_count": 21,
   "metadata": {},
   "outputs": [
    {
     "data": {
      "text/plain": [
       "[<thead>\n",
       " <tr>\n",
       " <th>CRN</th>\n",
       " <th>Campus / Bldg / Rm</th>\n",
       " <th>Time</th>\n",
       " <th>Days</th>\n",
       " <th>Dates</th>\n",
       " <th>Materials</th>\n",
       " </tr>\n",
       " </thead>, <tr>\n",
       " <th>CRN</th>\n",
       " <th>Campus / Bldg / Rm</th>\n",
       " <th>Time</th>\n",
       " <th>Days</th>\n",
       " <th>Dates</th>\n",
       " <th>Materials</th>\n",
       " </tr>, <th>CRN</th>, <th>Campus / Bldg / Rm</th>, <th>Time</th>, <th>Days</th>, <th>Dates</th>, <th>Materials</th>, <tbody>\n",
       " <tr class=\"space-row\"><td colspan=\"7\"> </td></tr>\n",
       " <tr class=\"data-row \">\n",
       " <td>20240</td>\n",
       " <td><a href=\"http://www.pcc.edu/location/default.cfm?fa=findLocation&amp;siteCode=SY&amp;frm_location=AM\"> Sylvania  Campus / AM</a> / 105 \n",
       " \t\t\t\t\t\t\t</td>\n",
       " <td>09:00 AM-11:50 AM</td>\n",
       " <td><acronym title=\"Monday \">M</acronym></td>\n",
       " <td>02-Apr-2018 thru 11-Jun-2018</td>\n",
       " <td class=\"materials\" rowspan=\"2\"><a href=\"http://bookstore.pcc.edu/store1/SelectCourses.aspx?src=2&amp;type=2&amp;stoid=41&amp;trm=Spring 18&amp;cid=20240\">Textbooks<span class=\"visually-hide\"> for CRN 20240</span></a> &lt; $40</td>\n",
       " </tr>\n",
       " <tr class=\"info-row \">\n",
       " <td>\n",
       " </td>\n",
       " <td colspan=\"4\">\n",
       " \t\t\t\t\t\t\t\t\n",
       " \t\t\t\t\t\t\t\tInstructor: <a href=\"http://www.pcc.edu/scripts/sdquery.pl?all=peter%2Ekazarinoff%40pcc%2Eedu\">Peter  Kazarinoff</a>\n",
       " <br/>\n",
       " \t\t\t\t\t\t\t\t\n",
       " \t\t\t\t\t\t\t\t\n",
       " \t\t\t\t\t\t\t\t\n",
       " \t\t\t\t\t\t\t\t\n",
       " \t\t\t\t\t\t\t\tTuition: <a href=\"http://www.pcc.edu/enroll/paying-for-college/tuition/\">credit</a> Fees: $18.00\n",
       " \t\t\t\t\t\t\t\t<br/>\n",
       " </td>\n",
       " </tr>\n",
       " <tr class=\"data-row \">\n",
       " <td>and</td>\n",
       " <td><a href=\"http://www.pcc.edu/location/default.cfm?fa=findLocation&amp;siteCode=SY&amp;frm_location=AM\"> Sylvania  Campus / AM</a> / 105 \n",
       " \t\t\t\t\t\t\t</td>\n",
       " <td>09:00 AM-11:50 AM</td>\n",
       " <td><acronym title=\"Wednesday \">W</acronym></td>\n",
       " <td>04-Apr-2018 thru 13-Jun-2018</td>\n",
       " <td class=\"materials\" rowspan=\"2\"><a href=\"http://bookstore.pcc.edu/store1/SelectCourses.aspx?src=2&amp;type=2&amp;stoid=41&amp;trm=Spring 18&amp;cid=20240\">Textbooks<span class=\"visually-hide\"> for CRN 20240</span></a> &lt; $40</td>\n",
       " </tr>\n",
       " <tr class=\"info-row \">\n",
       " <td>\n",
       " </td>\n",
       " <td colspan=\"4\">\n",
       " \t\t\t\t\t\t\t\t\n",
       " \t\t\t\t\t\t\t\tInstructor: <a href=\"http://www.pcc.edu/scripts/sdquery.pl?all=peter%2Ekazarinoff%40pcc%2Eedu\">Peter  Kazarinoff</a>\n",
       " <br/>\n",
       " </td>\n",
       " </tr>\n",
       " <tr class=\"space-row\"><td colspan=\"7\"> </td></tr>\n",
       " <tr class=\"data-row alt-color\">\n",
       " <td>25728</td>\n",
       " <td><a href=\"http://www.pcc.edu/location/default.cfm?fa=findLocation&amp;siteCode=SY&amp;frm_location=AM\"> Sylvania  Campus / AM</a> / 105 \n",
       " \t\t\t\t\t\t\t</td>\n",
       " <td>09:00 AM-11:50 AM</td>\n",
       " <td><acronym title=\"Monday \">M</acronym></td>\n",
       " <td>02-Apr-2018 thru 11-Jun-2018</td>\n",
       " <td class=\"materials\" rowspan=\"2\"><a href=\"http://bookstore.pcc.edu/store1/SelectCourses.aspx?src=2&amp;type=2&amp;stoid=41&amp;trm=Spring 18&amp;cid=25728\">Textbooks<span class=\"visually-hide\"> for CRN 25728</span></a> &lt; $40</td>\n",
       " </tr>\n",
       " <tr class=\"info-row alt-color\">\n",
       " <td>\n",
       " </td>\n",
       " <td colspan=\"4\">\n",
       " \t\t\t\t\t\t\t\t\n",
       " \t\t\t\t\t\t\t\tInstructor: <a href=\"http://www.pcc.edu/scripts/sdquery.pl?all=peter%2Ekazarinoff%40pcc%2Eedu\">Peter  Kazarinoff</a>\n",
       " <br/>\n",
       " \t\t\t\t\t\t\t\t\n",
       " \t\t\t\t\t\t\t\t\n",
       " \t\t\t\t\t\t\t\t\n",
       " \t\t\t\t\t\t\t\t\n",
       " \t\t\t\t\t\t\t\tTuition: <a href=\"http://www.pcc.edu/enroll/paying-for-college/tuition/\">credit</a> Fees: $18.00\n",
       " \t\t\t\t\t\t\t\t<br/>\n",
       " </td>\n",
       " </tr>\n",
       " <tr class=\"data-row alt-color\">\n",
       " <td>and</td>\n",
       " <td><a href=\"http://www.pcc.edu/location/default.cfm?fa=findLocation&amp;siteCode=SY&amp;frm_location=AM\"> Sylvania  Campus / AM</a> / 105 \n",
       " \t\t\t\t\t\t\t</td>\n",
       " <td>01:00 PM-03:50 PM</td>\n",
       " <td><acronym title=\"Friday \">F</acronym></td>\n",
       " <td>06-Apr-2018 thru 15-Jun-2018</td>\n",
       " <td class=\"materials\" rowspan=\"2\"><a href=\"http://bookstore.pcc.edu/store1/SelectCourses.aspx?src=2&amp;type=2&amp;stoid=41&amp;trm=Spring 18&amp;cid=25728\">Textbooks<span class=\"visually-hide\"> for CRN 25728</span></a> &lt; $40</td>\n",
       " </tr>\n",
       " <tr class=\"info-row alt-color\">\n",
       " <td>\n",
       " </td>\n",
       " <td colspan=\"4\">\n",
       " \t\t\t\t\t\t\t\t\n",
       " \t\t\t\t\t\t\t\tInstructor: <a href=\"http://www.pcc.edu/scripts/sdquery.pl?all=peter%2Ekazarinoff%40pcc%2Eedu\">Peter  Kazarinoff</a>\n",
       " <br/>\n",
       " </td>\n",
       " </tr>\n",
       " <tr class=\"space-row space-bottom\"><td colspan=\"7\"> </td></tr>\n",
       " </tbody>, <tr class=\"space-row\"><td colspan=\"7\"> </td></tr>, <td colspan=\"7\"> </td>, <tr class=\"data-row \">\n",
       " <td>20240</td>\n",
       " <td><a href=\"http://www.pcc.edu/location/default.cfm?fa=findLocation&amp;siteCode=SY&amp;frm_location=AM\"> Sylvania  Campus / AM</a> / 105 \n",
       " \t\t\t\t\t\t\t</td>\n",
       " <td>09:00 AM-11:50 AM</td>\n",
       " <td><acronym title=\"Monday \">M</acronym></td>\n",
       " <td>02-Apr-2018 thru 11-Jun-2018</td>\n",
       " <td class=\"materials\" rowspan=\"2\"><a href=\"http://bookstore.pcc.edu/store1/SelectCourses.aspx?src=2&amp;type=2&amp;stoid=41&amp;trm=Spring 18&amp;cid=20240\">Textbooks<span class=\"visually-hide\"> for CRN 20240</span></a> &lt; $40</td>\n",
       " </tr>, <td>20240</td>, <td><a href=\"http://www.pcc.edu/location/default.cfm?fa=findLocation&amp;siteCode=SY&amp;frm_location=AM\"> Sylvania  Campus / AM</a> / 105 \n",
       " \t\t\t\t\t\t\t</td>, <a href=\"http://www.pcc.edu/location/default.cfm?fa=findLocation&amp;siteCode=SY&amp;frm_location=AM\"> Sylvania  Campus / AM</a>, <td>09:00 AM-11:50 AM</td>, <td><acronym title=\"Monday \">M</acronym></td>, <acronym title=\"Monday \">M</acronym>, <td>02-Apr-2018 thru 11-Jun-2018</td>, <td class=\"materials\" rowspan=\"2\"><a href=\"http://bookstore.pcc.edu/store1/SelectCourses.aspx?src=2&amp;type=2&amp;stoid=41&amp;trm=Spring 18&amp;cid=20240\">Textbooks<span class=\"visually-hide\"> for CRN 20240</span></a> &lt; $40</td>, <a href=\"http://bookstore.pcc.edu/store1/SelectCourses.aspx?src=2&amp;type=2&amp;stoid=41&amp;trm=Spring 18&amp;cid=20240\">Textbooks<span class=\"visually-hide\"> for CRN 20240</span></a>, <span class=\"visually-hide\"> for CRN 20240</span>, <tr class=\"info-row \">\n",
       " <td>\n",
       " </td>\n",
       " <td colspan=\"4\">\n",
       " \t\t\t\t\t\t\t\t\n",
       " \t\t\t\t\t\t\t\tInstructor: <a href=\"http://www.pcc.edu/scripts/sdquery.pl?all=peter%2Ekazarinoff%40pcc%2Eedu\">Peter  Kazarinoff</a>\n",
       " <br/>\n",
       " \t\t\t\t\t\t\t\t\n",
       " \t\t\t\t\t\t\t\t\n",
       " \t\t\t\t\t\t\t\t\n",
       " \t\t\t\t\t\t\t\t\n",
       " \t\t\t\t\t\t\t\tTuition: <a href=\"http://www.pcc.edu/enroll/paying-for-college/tuition/\">credit</a> Fees: $18.00\n",
       " \t\t\t\t\t\t\t\t<br/>\n",
       " </td>\n",
       " </tr>, <td>\n",
       " </td>, <td colspan=\"4\">\n",
       " \t\t\t\t\t\t\t\t\n",
       " \t\t\t\t\t\t\t\tInstructor: <a href=\"http://www.pcc.edu/scripts/sdquery.pl?all=peter%2Ekazarinoff%40pcc%2Eedu\">Peter  Kazarinoff</a>\n",
       " <br/>\n",
       " \t\t\t\t\t\t\t\t\n",
       " \t\t\t\t\t\t\t\t\n",
       " \t\t\t\t\t\t\t\t\n",
       " \t\t\t\t\t\t\t\t\n",
       " \t\t\t\t\t\t\t\tTuition: <a href=\"http://www.pcc.edu/enroll/paying-for-college/tuition/\">credit</a> Fees: $18.00\n",
       " \t\t\t\t\t\t\t\t<br/>\n",
       " </td>, <a href=\"http://www.pcc.edu/scripts/sdquery.pl?all=peter%2Ekazarinoff%40pcc%2Eedu\">Peter  Kazarinoff</a>, <br/>, <a href=\"http://www.pcc.edu/enroll/paying-for-college/tuition/\">credit</a>, <br/>, <tr class=\"data-row \">\n",
       " <td>and</td>\n",
       " <td><a href=\"http://www.pcc.edu/location/default.cfm?fa=findLocation&amp;siteCode=SY&amp;frm_location=AM\"> Sylvania  Campus / AM</a> / 105 \n",
       " \t\t\t\t\t\t\t</td>\n",
       " <td>09:00 AM-11:50 AM</td>\n",
       " <td><acronym title=\"Wednesday \">W</acronym></td>\n",
       " <td>04-Apr-2018 thru 13-Jun-2018</td>\n",
       " <td class=\"materials\" rowspan=\"2\"><a href=\"http://bookstore.pcc.edu/store1/SelectCourses.aspx?src=2&amp;type=2&amp;stoid=41&amp;trm=Spring 18&amp;cid=20240\">Textbooks<span class=\"visually-hide\"> for CRN 20240</span></a> &lt; $40</td>\n",
       " </tr>, <td>and</td>, <td><a href=\"http://www.pcc.edu/location/default.cfm?fa=findLocation&amp;siteCode=SY&amp;frm_location=AM\"> Sylvania  Campus / AM</a> / 105 \n",
       " \t\t\t\t\t\t\t</td>, <a href=\"http://www.pcc.edu/location/default.cfm?fa=findLocation&amp;siteCode=SY&amp;frm_location=AM\"> Sylvania  Campus / AM</a>, <td>09:00 AM-11:50 AM</td>, <td><acronym title=\"Wednesday \">W</acronym></td>, <acronym title=\"Wednesday \">W</acronym>, <td>04-Apr-2018 thru 13-Jun-2018</td>, <td class=\"materials\" rowspan=\"2\"><a href=\"http://bookstore.pcc.edu/store1/SelectCourses.aspx?src=2&amp;type=2&amp;stoid=41&amp;trm=Spring 18&amp;cid=20240\">Textbooks<span class=\"visually-hide\"> for CRN 20240</span></a> &lt; $40</td>, <a href=\"http://bookstore.pcc.edu/store1/SelectCourses.aspx?src=2&amp;type=2&amp;stoid=41&amp;trm=Spring 18&amp;cid=20240\">Textbooks<span class=\"visually-hide\"> for CRN 20240</span></a>, <span class=\"visually-hide\"> for CRN 20240</span>, <tr class=\"info-row \">\n",
       " <td>\n",
       " </td>\n",
       " <td colspan=\"4\">\n",
       " \t\t\t\t\t\t\t\t\n",
       " \t\t\t\t\t\t\t\tInstructor: <a href=\"http://www.pcc.edu/scripts/sdquery.pl?all=peter%2Ekazarinoff%40pcc%2Eedu\">Peter  Kazarinoff</a>\n",
       " <br/>\n",
       " </td>\n",
       " </tr>, <td>\n",
       " </td>, <td colspan=\"4\">\n",
       " \t\t\t\t\t\t\t\t\n",
       " \t\t\t\t\t\t\t\tInstructor: <a href=\"http://www.pcc.edu/scripts/sdquery.pl?all=peter%2Ekazarinoff%40pcc%2Eedu\">Peter  Kazarinoff</a>\n",
       " <br/>\n",
       " </td>, <a href=\"http://www.pcc.edu/scripts/sdquery.pl?all=peter%2Ekazarinoff%40pcc%2Eedu\">Peter  Kazarinoff</a>, <br/>, <tr class=\"space-row\"><td colspan=\"7\"> </td></tr>, <td colspan=\"7\"> </td>, <tr class=\"data-row alt-color\">\n",
       " <td>25728</td>\n",
       " <td><a href=\"http://www.pcc.edu/location/default.cfm?fa=findLocation&amp;siteCode=SY&amp;frm_location=AM\"> Sylvania  Campus / AM</a> / 105 \n",
       " \t\t\t\t\t\t\t</td>\n",
       " <td>09:00 AM-11:50 AM</td>\n",
       " <td><acronym title=\"Monday \">M</acronym></td>\n",
       " <td>02-Apr-2018 thru 11-Jun-2018</td>\n",
       " <td class=\"materials\" rowspan=\"2\"><a href=\"http://bookstore.pcc.edu/store1/SelectCourses.aspx?src=2&amp;type=2&amp;stoid=41&amp;trm=Spring 18&amp;cid=25728\">Textbooks<span class=\"visually-hide\"> for CRN 25728</span></a> &lt; $40</td>\n",
       " </tr>, <td>25728</td>, <td><a href=\"http://www.pcc.edu/location/default.cfm?fa=findLocation&amp;siteCode=SY&amp;frm_location=AM\"> Sylvania  Campus / AM</a> / 105 \n",
       " \t\t\t\t\t\t\t</td>, <a href=\"http://www.pcc.edu/location/default.cfm?fa=findLocation&amp;siteCode=SY&amp;frm_location=AM\"> Sylvania  Campus / AM</a>, <td>09:00 AM-11:50 AM</td>, <td><acronym title=\"Monday \">M</acronym></td>, <acronym title=\"Monday \">M</acronym>, <td>02-Apr-2018 thru 11-Jun-2018</td>, <td class=\"materials\" rowspan=\"2\"><a href=\"http://bookstore.pcc.edu/store1/SelectCourses.aspx?src=2&amp;type=2&amp;stoid=41&amp;trm=Spring 18&amp;cid=25728\">Textbooks<span class=\"visually-hide\"> for CRN 25728</span></a> &lt; $40</td>, <a href=\"http://bookstore.pcc.edu/store1/SelectCourses.aspx?src=2&amp;type=2&amp;stoid=41&amp;trm=Spring 18&amp;cid=25728\">Textbooks<span class=\"visually-hide\"> for CRN 25728</span></a>, <span class=\"visually-hide\"> for CRN 25728</span>, <tr class=\"info-row alt-color\">\n",
       " <td>\n",
       " </td>\n",
       " <td colspan=\"4\">\n",
       " \t\t\t\t\t\t\t\t\n",
       " \t\t\t\t\t\t\t\tInstructor: <a href=\"http://www.pcc.edu/scripts/sdquery.pl?all=peter%2Ekazarinoff%40pcc%2Eedu\">Peter  Kazarinoff</a>\n",
       " <br/>\n",
       " \t\t\t\t\t\t\t\t\n",
       " \t\t\t\t\t\t\t\t\n",
       " \t\t\t\t\t\t\t\t\n",
       " \t\t\t\t\t\t\t\t\n",
       " \t\t\t\t\t\t\t\tTuition: <a href=\"http://www.pcc.edu/enroll/paying-for-college/tuition/\">credit</a> Fees: $18.00\n",
       " \t\t\t\t\t\t\t\t<br/>\n",
       " </td>\n",
       " </tr>, <td>\n",
       " </td>, <td colspan=\"4\">\n",
       " \t\t\t\t\t\t\t\t\n",
       " \t\t\t\t\t\t\t\tInstructor: <a href=\"http://www.pcc.edu/scripts/sdquery.pl?all=peter%2Ekazarinoff%40pcc%2Eedu\">Peter  Kazarinoff</a>\n",
       " <br/>\n",
       " \t\t\t\t\t\t\t\t\n",
       " \t\t\t\t\t\t\t\t\n",
       " \t\t\t\t\t\t\t\t\n",
       " \t\t\t\t\t\t\t\t\n",
       " \t\t\t\t\t\t\t\tTuition: <a href=\"http://www.pcc.edu/enroll/paying-for-college/tuition/\">credit</a> Fees: $18.00\n",
       " \t\t\t\t\t\t\t\t<br/>\n",
       " </td>, <a href=\"http://www.pcc.edu/scripts/sdquery.pl?all=peter%2Ekazarinoff%40pcc%2Eedu\">Peter  Kazarinoff</a>, <br/>, <a href=\"http://www.pcc.edu/enroll/paying-for-college/tuition/\">credit</a>, <br/>, <tr class=\"data-row alt-color\">\n",
       " <td>and</td>\n",
       " <td><a href=\"http://www.pcc.edu/location/default.cfm?fa=findLocation&amp;siteCode=SY&amp;frm_location=AM\"> Sylvania  Campus / AM</a> / 105 \n",
       " \t\t\t\t\t\t\t</td>\n",
       " <td>01:00 PM-03:50 PM</td>\n",
       " <td><acronym title=\"Friday \">F</acronym></td>\n",
       " <td>06-Apr-2018 thru 15-Jun-2018</td>\n",
       " <td class=\"materials\" rowspan=\"2\"><a href=\"http://bookstore.pcc.edu/store1/SelectCourses.aspx?src=2&amp;type=2&amp;stoid=41&amp;trm=Spring 18&amp;cid=25728\">Textbooks<span class=\"visually-hide\"> for CRN 25728</span></a> &lt; $40</td>\n",
       " </tr>, <td>and</td>, <td><a href=\"http://www.pcc.edu/location/default.cfm?fa=findLocation&amp;siteCode=SY&amp;frm_location=AM\"> Sylvania  Campus / AM</a> / 105 \n",
       " \t\t\t\t\t\t\t</td>, <a href=\"http://www.pcc.edu/location/default.cfm?fa=findLocation&amp;siteCode=SY&amp;frm_location=AM\"> Sylvania  Campus / AM</a>, <td>01:00 PM-03:50 PM</td>, <td><acronym title=\"Friday \">F</acronym></td>, <acronym title=\"Friday \">F</acronym>, <td>06-Apr-2018 thru 15-Jun-2018</td>, <td class=\"materials\" rowspan=\"2\"><a href=\"http://bookstore.pcc.edu/store1/SelectCourses.aspx?src=2&amp;type=2&amp;stoid=41&amp;trm=Spring 18&amp;cid=25728\">Textbooks<span class=\"visually-hide\"> for CRN 25728</span></a> &lt; $40</td>, <a href=\"http://bookstore.pcc.edu/store1/SelectCourses.aspx?src=2&amp;type=2&amp;stoid=41&amp;trm=Spring 18&amp;cid=25728\">Textbooks<span class=\"visually-hide\"> for CRN 25728</span></a>, <span class=\"visually-hide\"> for CRN 25728</span>, <tr class=\"info-row alt-color\">\n",
       " <td>\n",
       " </td>\n",
       " <td colspan=\"4\">\n",
       " \t\t\t\t\t\t\t\t\n",
       " \t\t\t\t\t\t\t\tInstructor: <a href=\"http://www.pcc.edu/scripts/sdquery.pl?all=peter%2Ekazarinoff%40pcc%2Eedu\">Peter  Kazarinoff</a>\n",
       " <br/>\n",
       " </td>\n",
       " </tr>, <td>\n",
       " </td>, <td colspan=\"4\">\n",
       " \t\t\t\t\t\t\t\t\n",
       " \t\t\t\t\t\t\t\tInstructor: <a href=\"http://www.pcc.edu/scripts/sdquery.pl?all=peter%2Ekazarinoff%40pcc%2Eedu\">Peter  Kazarinoff</a>\n",
       " <br/>\n",
       " </td>, <a href=\"http://www.pcc.edu/scripts/sdquery.pl?all=peter%2Ekazarinoff%40pcc%2Eedu\">Peter  Kazarinoff</a>, <br/>, <tr class=\"space-row space-bottom\"><td colspan=\"7\"> </td></tr>, <td colspan=\"7\"> </td>]"
      ]
     },
     "execution_count": 21,
     "metadata": {},
     "output_type": "execute_result"
    }
   ],
   "source": [
    "table()"
   ]
  },
  {
   "cell_type": "code",
   "execution_count": null,
   "metadata": {},
   "outputs": [],
   "source": []
  },
  {
   "cell_type": "code",
   "execution_count": 22,
   "metadata": {},
   "outputs": [],
   "source": [
    "td_lst = table.find_all(\"td\")"
   ]
  },
  {
   "cell_type": "code",
   "execution_count": 23,
   "metadata": {},
   "outputs": [],
   "source": [
    "import bs4"
   ]
  },
  {
   "cell_type": "code",
   "execution_count": 68,
   "metadata": {},
   "outputs": [],
   "source": [
    "import bs4\n",
    "class courseTable(bs4.element.Tag):\n",
    "    def __init__(self,bs4elementtage):\n",
    "        self.contents = bs4elementtage\n",
    "        \n",
    "        \n",
    "class SuperMan(bs4.element.Tag): #subclass, inherits from SuperHero\n",
    "    pass"
   ]
  },
  {
   "cell_type": "code",
   "execution_count": 69,
   "metadata": {},
   "outputs": [
    {
     "data": {
      "text/plain": [
       "['HTML_FORMATTERS',\n",
       " 'XML_FORMATTERS',\n",
       " '__bool__',\n",
       " '__call__',\n",
       " '__class__',\n",
       " '__contains__',\n",
       " '__copy__',\n",
       " '__delattr__',\n",
       " '__delitem__',\n",
       " '__dict__',\n",
       " '__dir__',\n",
       " '__doc__',\n",
       " '__eq__',\n",
       " '__format__',\n",
       " '__ge__',\n",
       " '__getattr__',\n",
       " '__getattribute__',\n",
       " '__getitem__',\n",
       " '__gt__',\n",
       " '__hash__',\n",
       " '__init__',\n",
       " '__init_subclass__',\n",
       " '__iter__',\n",
       " '__le__',\n",
       " '__len__',\n",
       " '__lt__',\n",
       " '__module__',\n",
       " '__ne__',\n",
       " '__new__',\n",
       " '__reduce__',\n",
       " '__reduce_ex__',\n",
       " '__repr__',\n",
       " '__setattr__',\n",
       " '__setitem__',\n",
       " '__sizeof__',\n",
       " '__str__',\n",
       " '__subclasshook__',\n",
       " '__unicode__',\n",
       " '__weakref__',\n",
       " '_all_strings',\n",
       " '_attr_value_as_string',\n",
       " '_attribute_checker',\n",
       " '_find_all',\n",
       " '_find_one',\n",
       " '_formatter_for_name',\n",
       " '_is_xml',\n",
       " '_lastRecursiveChild',\n",
       " '_last_descendant',\n",
       " '_select_debug',\n",
       " '_selector_combinators',\n",
       " '_should_pretty_print',\n",
       " '_tag_name_matches_and',\n",
       " 'append',\n",
       " 'attribselect_re',\n",
       " 'attrs',\n",
       " 'can_be_empty_element',\n",
       " 'childGenerator',\n",
       " 'children',\n",
       " 'clear',\n",
       " 'contents',\n",
       " 'decode',\n",
       " 'decode_contents',\n",
       " 'decompose',\n",
       " 'descendants',\n",
       " 'encode',\n",
       " 'encode_contents',\n",
       " 'extract',\n",
       " 'fetchNextSiblings',\n",
       " 'fetchParents',\n",
       " 'fetchPrevious',\n",
       " 'fetchPreviousSiblings',\n",
       " 'find',\n",
       " 'findAll',\n",
       " 'findAllNext',\n",
       " 'findAllPrevious',\n",
       " 'findChild',\n",
       " 'findChildren',\n",
       " 'findNext',\n",
       " 'findNextSibling',\n",
       " 'findNextSiblings',\n",
       " 'findParent',\n",
       " 'findParents',\n",
       " 'findPrevious',\n",
       " 'findPreviousSibling',\n",
       " 'findPreviousSiblings',\n",
       " 'find_all',\n",
       " 'find_all_next',\n",
       " 'find_all_previous',\n",
       " 'find_next',\n",
       " 'find_next_sibling',\n",
       " 'find_next_siblings',\n",
       " 'find_parent',\n",
       " 'find_parents',\n",
       " 'find_previous',\n",
       " 'find_previous_sibling',\n",
       " 'find_previous_siblings',\n",
       " 'format_string',\n",
       " 'get',\n",
       " 'getText',\n",
       " 'get_attribute_list',\n",
       " 'get_text',\n",
       " 'has_attr',\n",
       " 'has_key',\n",
       " 'hidden',\n",
       " 'index',\n",
       " 'insert',\n",
       " 'insert_after',\n",
       " 'insert_before',\n",
       " 'isSelfClosing',\n",
       " 'is_empty_element',\n",
       " 'known_xml',\n",
       " 'name',\n",
       " 'namespace',\n",
       " 'next',\n",
       " 'nextGenerator',\n",
       " 'nextSibling',\n",
       " 'nextSiblingGenerator',\n",
       " 'next_element',\n",
       " 'next_elements',\n",
       " 'next_sibling',\n",
       " 'next_siblings',\n",
       " 'parent',\n",
       " 'parentGenerator',\n",
       " 'parents',\n",
       " 'parserClass',\n",
       " 'parser_class',\n",
       " 'prefix',\n",
       " 'preserve_whitespace_tags',\n",
       " 'prettify',\n",
       " 'previous',\n",
       " 'previousGenerator',\n",
       " 'previousSibling',\n",
       " 'previousSiblingGenerator',\n",
       " 'previous_element',\n",
       " 'previous_elements',\n",
       " 'previous_sibling',\n",
       " 'previous_siblings',\n",
       " 'quoted_colon',\n",
       " 'recursiveChildGenerator',\n",
       " 'renderContents',\n",
       " 'replaceWith',\n",
       " 'replaceWithChildren',\n",
       " 'replace_with',\n",
       " 'replace_with_children',\n",
       " 'select',\n",
       " 'select_one',\n",
       " 'setup',\n",
       " 'string',\n",
       " 'strings',\n",
       " 'stripped_strings',\n",
       " 'tag_name_re',\n",
       " 'text',\n",
       " 'unwrap',\n",
       " 'wrap']"
      ]
     },
     "execution_count": 69,
     "metadata": {},
     "output_type": "execute_result"
    }
   ],
   "source": [
    "dir(table)"
   ]
  },
  {
   "cell_type": "code",
   "execution_count": 26,
   "metadata": {},
   "outputs": [
    {
     "data": {
      "text/plain": [
       "__main__.courseTable"
      ]
     },
     "execution_count": 26,
     "metadata": {},
     "output_type": "execute_result"
    }
   ],
   "source": [
    "type(coursetableobject)"
   ]
  },
  {
   "cell_type": "code",
   "execution_count": 27,
   "metadata": {},
   "outputs": [],
   "source": [
    "#for td in td_lst:\n",
    "   #print(td.text)\n",
    "str = td_lst[1].text"
   ]
  },
  {
   "cell_type": "code",
   "execution_count": 28,
   "metadata": {},
   "outputs": [
    {
     "data": {
      "text/plain": [
       "'20240'"
      ]
     },
     "execution_count": 28,
     "metadata": {},
     "output_type": "execute_result"
    }
   ],
   "source": [
    "str"
   ]
  },
  {
   "cell_type": "code",
   "execution_count": 29,
   "metadata": {},
   "outputs": [
    {
     "data": {
      "text/plain": [
       "True"
      ]
     },
     "execution_count": 29,
     "metadata": {},
     "output_type": "execute_result"
    }
   ],
   "source": [
    "str.strip().isalnum()"
   ]
  },
  {
   "cell_type": "code",
   "execution_count": 30,
   "metadata": {},
   "outputs": [
    {
     "data": {
      "text/plain": [
       "['20240', '25728']"
      ]
     },
     "execution_count": 30,
     "metadata": {},
     "output_type": "execute_result"
    }
   ],
   "source": [
    "CRN_lst=[]\n",
    "for td in td_lst:\n",
    "    if td.text.strip().isdigit() and len(td.text.strip()) == 5:\n",
    "        CRN_lst.append(td.text.strip())\n",
    "    \n",
    "CRN_lst"
   ]
  },
  {
   "cell_type": "code",
   "execution_count": 31,
   "metadata": {},
   "outputs": [
    {
     "data": {
      "text/plain": [
       "['Sylvania  Campus / AM / 105',\n",
       " 'Sylvania  Campus / AM / 105',\n",
       " 'Sylvania  Campus / AM / 105',\n",
       " 'Sylvania  Campus / AM / 105']"
      ]
     },
     "execution_count": 31,
     "metadata": {},
     "output_type": "execute_result"
    }
   ],
   "source": [
    "loc_lst=[]\n",
    "for td in td_lst:\n",
    "    #print(td.text.strip())\n",
    "    if \" / \" in td.text.strip():\n",
    "        loc_lst.append(td.text.strip())\n",
    "loc_lst\n",
    "#td_lst[1].text"
   ]
  },
  {
   "cell_type": "code",
   "execution_count": 32,
   "metadata": {},
   "outputs": [
    {
     "data": {
      "text/plain": [
       "['09:00 AM-11:50 AM',\n",
       " '09:00 AM-11:50 AM',\n",
       " '09:00 AM-11:50 AM',\n",
       " '01:00 PM-03:50 PM']"
      ]
     },
     "execution_count": 32,
     "metadata": {},
     "output_type": "execute_result"
    }
   ],
   "source": [
    "time_lst=[]\n",
    "for td in td_lst:\n",
    "    #print(td.text.strip())\n",
    "    if \":\" in td.text.strip() and \"-\" in td.text.strip():\n",
    "        time_lst.append(td.text.strip())\n",
    "time_lst\n",
    "#td_lst[1].text"
   ]
  },
  {
   "cell_type": "code",
   "execution_count": 33,
   "metadata": {},
   "outputs": [],
   "source": [
    "course_dict = {}"
   ]
  },
  {
   "cell_type": "code",
   "execution_count": 34,
   "metadata": {},
   "outputs": [],
   "source": [
    "course_sec_dict ={}"
   ]
  },
  {
   "cell_type": "code",
   "execution_count": 35,
   "metadata": {},
   "outputs": [],
   "source": [
    "course_sec_dict['ID']=\"\".join([CRN_lst[0],'-00'])"
   ]
  },
  {
   "cell_type": "code",
   "execution_count": 36,
   "metadata": {},
   "outputs": [
    {
     "data": {
      "text/plain": [
       "{'ID': '20240-00'}"
      ]
     },
     "execution_count": 36,
     "metadata": {},
     "output_type": "execute_result"
    }
   ],
   "source": [
    "course_sec_dict"
   ]
  },
  {
   "cell_type": "code",
   "execution_count": 37,
   "metadata": {},
   "outputs": [],
   "source": [
    "course_sec_dict['CRN']=CRN_lst[0]"
   ]
  },
  {
   "cell_type": "code",
   "execution_count": 38,
   "metadata": {},
   "outputs": [
    {
     "data": {
      "text/plain": [
       "{'ID': '20240-00', 'CRN': '20240'}"
      ]
     },
     "execution_count": 38,
     "metadata": {},
     "output_type": "execute_result"
    }
   ],
   "source": [
    "course_sec_dict"
   ]
  },
  {
   "cell_type": "code",
   "execution_count": 39,
   "metadata": {},
   "outputs": [
    {
     "data": {
      "text/plain": [
       "'09:00 AM-11:50 AM'"
      ]
     },
     "execution_count": 39,
     "metadata": {},
     "output_type": "execute_result"
    }
   ],
   "source": [
    "time_str = time_lst[0]\n",
    "time_str"
   ]
  },
  {
   "cell_type": "code",
   "execution_count": 40,
   "metadata": {},
   "outputs": [
    {
     "data": {
      "text/plain": [
       "'09:00 AM'"
      ]
     },
     "execution_count": 40,
     "metadata": {},
     "output_type": "execute_result"
    }
   ],
   "source": [
    "start_time = time_str.split('-')[0]\n",
    "start_time"
   ]
  },
  {
   "cell_type": "code",
   "execution_count": 41,
   "metadata": {},
   "outputs": [
    {
     "data": {
      "text/plain": [
       "'11:50 AM'"
      ]
     },
     "execution_count": 41,
     "metadata": {},
     "output_type": "execute_result"
    }
   ],
   "source": [
    "end_time = time_str.split('-')[1]\n",
    "end_time"
   ]
  },
  {
   "cell_type": "code",
   "execution_count": 42,
   "metadata": {},
   "outputs": [],
   "source": [
    "course_sec_dict['start_time']=time_lst[0].split('-')[0]"
   ]
  },
  {
   "cell_type": "code",
   "execution_count": 43,
   "metadata": {},
   "outputs": [],
   "source": [
    "course_sec_dict['end_time']=time_lst[0].split('-')[1]"
   ]
  },
  {
   "cell_type": "code",
   "execution_count": 44,
   "metadata": {},
   "outputs": [
    {
     "data": {
      "text/plain": [
       "{'ID': '20240-00',\n",
       " 'CRN': '20240',\n",
       " 'start_time': '09:00 AM',\n",
       " 'end_time': '11:50 AM'}"
      ]
     },
     "execution_count": 44,
     "metadata": {},
     "output_type": "execute_result"
    }
   ],
   "source": [
    "course_sec_dict"
   ]
  },
  {
   "cell_type": "code",
   "execution_count": 45,
   "metadata": {},
   "outputs": [
    {
     "data": {
      "text/plain": [
       "['M', 'W', 'M', 'F']"
      ]
     },
     "execution_count": 45,
     "metadata": {},
     "output_type": "execute_result"
    }
   ],
   "source": [
    "day_lst=[]\n",
    "for td in td_lst:\n",
    "    #print(td.text.strip())\n",
    "    if len(td.text.strip())==1 and td.text.strip().isalpha:\n",
    "        day_lst.append(td.text.strip())\n",
    "day_lst"
   ]
  },
  {
   "cell_type": "code",
   "execution_count": 46,
   "metadata": {},
   "outputs": [],
   "source": [
    "course_sec_dict['day']=day_lst[0].strip()"
   ]
  },
  {
   "cell_type": "code",
   "execution_count": 47,
   "metadata": {},
   "outputs": [
    {
     "data": {
      "text/plain": [
       "{'ID': '20240-00',\n",
       " 'CRN': '20240',\n",
       " 'start_time': '09:00 AM',\n",
       " 'end_time': '11:50 AM',\n",
       " 'day': 'M'}"
      ]
     },
     "execution_count": 47,
     "metadata": {},
     "output_type": "execute_result"
    }
   ],
   "source": [
    "course_sec_dict"
   ]
  },
  {
   "cell_type": "code",
   "execution_count": 48,
   "metadata": {},
   "outputs": [
    {
     "data": {
      "text/plain": [
       "['Peter  Kazarinoff',\n",
       " 'Peter  Kazarinoff',\n",
       " 'Peter  Kazarinoff',\n",
       " 'Peter  Kazarinoff']"
      ]
     },
     "execution_count": 48,
     "metadata": {},
     "output_type": "execute_result"
    }
   ],
   "source": [
    "instr_lst=[]\n",
    "for td in td_lst:\n",
    "    #print(td.text.strip())\n",
    "    if \"Instructor: \" in td.text.strip():\n",
    "        instr_lst.append(td.text.strip().rstrip().lstrip().split('\\n')[0].strip('Instructor: '))\n",
    "instr_lst"
   ]
  },
  {
   "cell_type": "code",
   "execution_count": 49,
   "metadata": {},
   "outputs": [],
   "source": [
    "course_sec_dict['instructor'] = instr_lst[0].strip()"
   ]
  },
  {
   "cell_type": "code",
   "execution_count": 50,
   "metadata": {},
   "outputs": [
    {
     "data": {
      "text/plain": [
       "{'ID': '20240-00',\n",
       " 'CRN': '20240',\n",
       " 'start_time': '09:00 AM',\n",
       " 'end_time': '11:50 AM',\n",
       " 'day': 'M',\n",
       " 'instructor': 'Peter  Kazarinoff'}"
      ]
     },
     "execution_count": 50,
     "metadata": {},
     "output_type": "execute_result"
    }
   ],
   "source": [
    "course_sec_dict"
   ]
  },
  {
   "cell_type": "code",
   "execution_count": 51,
   "metadata": {},
   "outputs": [
    {
     "data": {
      "text/plain": [
       "['Sylvania  Campus / AM / 105',\n",
       " 'Sylvania  Campus / AM / 105',\n",
       " 'Sylvania  Campus / AM / 105',\n",
       " 'Sylvania  Campus / AM / 105']"
      ]
     },
     "execution_count": 51,
     "metadata": {},
     "output_type": "execute_result"
    }
   ],
   "source": [
    "loc_lst"
   ]
  },
  {
   "cell_type": "code",
   "execution_count": 52,
   "metadata": {},
   "outputs": [
    {
     "data": {
      "text/plain": [
       "{'ID': '20240-00',\n",
       " 'CRN': '20240',\n",
       " 'start_time': '09:00 AM',\n",
       " 'end_time': '11:50 AM',\n",
       " 'day': 'M',\n",
       " 'instructor': 'Peter  Kazarinoff',\n",
       " 'building': 'AM'}"
      ]
     },
     "execution_count": 52,
     "metadata": {},
     "output_type": "execute_result"
    }
   ],
   "source": [
    "course_sec_dict['building'] = loc_lst[0].split(' / ')[1].strip()\n",
    "course_sec_dict"
   ]
  },
  {
   "cell_type": "code",
   "execution_count": 53,
   "metadata": {},
   "outputs": [
    {
     "data": {
      "text/plain": [
       "{'ID': '20240-00',\n",
       " 'CRN': '20240',\n",
       " 'start_time': '09:00 AM',\n",
       " 'end_time': '11:50 AM',\n",
       " 'day': 'M',\n",
       " 'instructor': 'Peter  Kazarinoff',\n",
       " 'building': 'AM',\n",
       " 'room_num': '105'}"
      ]
     },
     "execution_count": 53,
     "metadata": {},
     "output_type": "execute_result"
    }
   ],
   "source": [
    "course_sec_dict['room_num'] = loc_lst[0].split(' / ')[2].strip()\n",
    "course_sec_dict"
   ]
  },
  {
   "cell_type": "code",
   "execution_count": 54,
   "metadata": {},
   "outputs": [],
   "source": [
    "class InstrSect():\n",
    "    def __init__(self):\n",
    "        self.ID=''\n",
    "        self.CRN=''\n",
    "        self.building=''\n",
    "        self.day=''\n",
    "        self.start_time=''\n",
    "        self.end_time=''\n",
    "        self.room_num=''\n",
    "        self.instructor=''\n",
    "        self.campus=''\n",
    "        self.course_name=''\n",
    "        self.course_number=''\n",
    "        self.dept=''\n",
    "        self.start_date=''\n",
    "        self.end_date=''\n",
    "        self.textbook_cost=''\n",
    "        self.tuition=''\n",
    "        self.fees=''"
   ]
  },
  {
   "cell_type": "code",
   "execution_count": 55,
   "metadata": {},
   "outputs": [],
   "source": [
    "CMET235_01=InstrSect()"
   ]
  },
  {
   "cell_type": "code",
   "execution_count": 56,
   "metadata": {},
   "outputs": [
    {
     "data": {
      "text/plain": [
       "''"
      ]
     },
     "execution_count": 56,
     "metadata": {},
     "output_type": "execute_result"
    }
   ],
   "source": [
    "CMET235_01.ID"
   ]
  },
  {
   "cell_type": "code",
   "execution_count": 57,
   "metadata": {},
   "outputs": [],
   "source": [
    "CMET235_01.ID=course_sec_dict['ID']"
   ]
  },
  {
   "cell_type": "code",
   "execution_count": 58,
   "metadata": {},
   "outputs": [
    {
     "data": {
      "text/plain": [
       "'20240-00'"
      ]
     },
     "execution_count": 58,
     "metadata": {},
     "output_type": "execute_result"
    }
   ],
   "source": [
    "CMET235_01.ID"
   ]
  },
  {
   "cell_type": "code",
   "execution_count": 59,
   "metadata": {},
   "outputs": [],
   "source": [
    "CMET235_01.CRN=course_sec_dict['CRN']\n",
    "CMET235_01.building=course_sec_dict['building']\n",
    "CMET235_01.day=course_sec_dict['day']\n",
    "CMET235_01.start_time=course_sec_dict['start_time']\n",
    "CMET235_01.end_time=course_sec_dict['end_time']\n",
    "CMET235_01.start_date='02-Apr-2018'\n",
    "CMET235_01.end_date='11-Jun-2018'\n",
    "CMET235_01.fees='$18.00'"
   ]
  },
  {
   "cell_type": "code",
   "execution_count": 60,
   "metadata": {},
   "outputs": [
    {
     "name": "stdout",
     "output_type": "stream",
     "text": [
      "\n",
      "20240\n",
      "Sylvania  Campus / AM / 105\n",
      "09:00 AM-11:50 AM\n",
      "M\n",
      "02-Apr-2018 thru 11-Jun-2018\n",
      "Textbooks for CRN 20240 < $40\n",
      "\n",
      "Instructor: Peter  Kazarinoff\n",
      "\n",
      "\t\t\t\t\t\t\t\t\n",
      "\t\t\t\t\t\t\t\t\n",
      "\t\t\t\t\t\t\t\t\n",
      "\t\t\t\t\t\t\t\t\n",
      "\t\t\t\t\t\t\t\tTuition: credit Fees: $18.00\n",
      "and\n",
      "Sylvania  Campus / AM / 105\n",
      "09:00 AM-11:50 AM\n",
      "W\n",
      "04-Apr-2018 thru 13-Jun-2018\n",
      "Textbooks for CRN 20240 < $40\n",
      "\n",
      "Instructor: Peter  Kazarinoff\n",
      "\n",
      "25728\n",
      "Sylvania  Campus / AM / 105\n",
      "09:00 AM-11:50 AM\n",
      "M\n",
      "02-Apr-2018 thru 11-Jun-2018\n",
      "Textbooks for CRN 25728 < $40\n",
      "\n",
      "Instructor: Peter  Kazarinoff\n",
      "\n",
      "\t\t\t\t\t\t\t\t\n",
      "\t\t\t\t\t\t\t\t\n",
      "\t\t\t\t\t\t\t\t\n",
      "\t\t\t\t\t\t\t\t\n",
      "\t\t\t\t\t\t\t\tTuition: credit Fees: $18.00\n",
      "and\n",
      "Sylvania  Campus / AM / 105\n",
      "01:00 PM-03:50 PM\n",
      "F\n",
      "06-Apr-2018 thru 15-Jun-2018\n",
      "Textbooks for CRN 25728 < $40\n",
      "\n",
      "Instructor: Peter  Kazarinoff\n",
      "\n"
     ]
    }
   ],
   "source": [
    "#instr_lst=[]\n",
    "for td in td_lst:\n",
    "    print(td.text.strip())\n",
    "    #if \"Instructor: \" in td.text.strip():\n",
    "        #instr_lst.append(td.text.strip().rstrip().lstrip().split('\\n')[0].strip('Instructor: '))\n",
    "#instr_lst"
   ]
  },
  {
   "cell_type": "code",
   "execution_count": 61,
   "metadata": {},
   "outputs": [
    {
     "name": "stdout",
     "output_type": "stream",
     "text": [
      "<tr>\n",
      "<th>CRN</th>\n",
      "<th>Campus / Bldg / Rm</th>\n",
      "<th>Time</th>\n",
      "<th>Days</th>\n",
      "<th>Dates</th>\n",
      "<th>Materials</th>\n",
      "</tr>\n",
      "<tr class=\"space-row\"><td colspan=\"7\"> </td></tr>\n",
      "<tr class=\"data-row \">\n",
      "<td>20240</td>\n",
      "<td><a href=\"http://www.pcc.edu/location/default.cfm?fa=findLocation&amp;siteCode=SY&amp;frm_location=AM\"> Sylvania  Campus / AM</a> / 105 \n",
      "\t\t\t\t\t\t\t</td>\n",
      "<td>09:00 AM-11:50 AM</td>\n",
      "<td><acronym title=\"Monday \">M</acronym></td>\n",
      "<td>02-Apr-2018 thru 11-Jun-2018</td>\n",
      "<td class=\"materials\" rowspan=\"2\"><a href=\"http://bookstore.pcc.edu/store1/SelectCourses.aspx?src=2&amp;type=2&amp;stoid=41&amp;trm=Spring 18&amp;cid=20240\">Textbooks<span class=\"visually-hide\"> for CRN 20240</span></a> &lt; $40</td>\n",
      "</tr>\n",
      "<tr class=\"info-row \">\n",
      "<td>\n",
      "</td>\n",
      "<td colspan=\"4\">\n",
      "\t\t\t\t\t\t\t\t\n",
      "\t\t\t\t\t\t\t\tInstructor: <a href=\"http://www.pcc.edu/scripts/sdquery.pl?all=peter%2Ekazarinoff%40pcc%2Eedu\">Peter  Kazarinoff</a>\n",
      "<br/>\n",
      "\t\t\t\t\t\t\t\t\n",
      "\t\t\t\t\t\t\t\t\n",
      "\t\t\t\t\t\t\t\t\n",
      "\t\t\t\t\t\t\t\t\n",
      "\t\t\t\t\t\t\t\tTuition: <a href=\"http://www.pcc.edu/enroll/paying-for-college/tuition/\">credit</a> Fees: $18.00\n",
      "\t\t\t\t\t\t\t\t<br/>\n",
      "</td>\n",
      "</tr>\n",
      "<tr class=\"data-row \">\n",
      "<td>and</td>\n",
      "<td><a href=\"http://www.pcc.edu/location/default.cfm?fa=findLocation&amp;siteCode=SY&amp;frm_location=AM\"> Sylvania  Campus / AM</a> / 105 \n",
      "\t\t\t\t\t\t\t</td>\n",
      "<td>09:00 AM-11:50 AM</td>\n",
      "<td><acronym title=\"Wednesday \">W</acronym></td>\n",
      "<td>04-Apr-2018 thru 13-Jun-2018</td>\n",
      "<td class=\"materials\" rowspan=\"2\"><a href=\"http://bookstore.pcc.edu/store1/SelectCourses.aspx?src=2&amp;type=2&amp;stoid=41&amp;trm=Spring 18&amp;cid=20240\">Textbooks<span class=\"visually-hide\"> for CRN 20240</span></a> &lt; $40</td>\n",
      "</tr>\n",
      "<tr class=\"info-row \">\n",
      "<td>\n",
      "</td>\n",
      "<td colspan=\"4\">\n",
      "\t\t\t\t\t\t\t\t\n",
      "\t\t\t\t\t\t\t\tInstructor: <a href=\"http://www.pcc.edu/scripts/sdquery.pl?all=peter%2Ekazarinoff%40pcc%2Eedu\">Peter  Kazarinoff</a>\n",
      "<br/>\n",
      "</td>\n",
      "</tr>\n",
      "<tr class=\"space-row\"><td colspan=\"7\"> </td></tr>\n",
      "<tr class=\"data-row alt-color\">\n",
      "<td>25728</td>\n",
      "<td><a href=\"http://www.pcc.edu/location/default.cfm?fa=findLocation&amp;siteCode=SY&amp;frm_location=AM\"> Sylvania  Campus / AM</a> / 105 \n",
      "\t\t\t\t\t\t\t</td>\n",
      "<td>09:00 AM-11:50 AM</td>\n",
      "<td><acronym title=\"Monday \">M</acronym></td>\n",
      "<td>02-Apr-2018 thru 11-Jun-2018</td>\n",
      "<td class=\"materials\" rowspan=\"2\"><a href=\"http://bookstore.pcc.edu/store1/SelectCourses.aspx?src=2&amp;type=2&amp;stoid=41&amp;trm=Spring 18&amp;cid=25728\">Textbooks<span class=\"visually-hide\"> for CRN 25728</span></a> &lt; $40</td>\n",
      "</tr>\n",
      "<tr class=\"info-row alt-color\">\n",
      "<td>\n",
      "</td>\n",
      "<td colspan=\"4\">\n",
      "\t\t\t\t\t\t\t\t\n",
      "\t\t\t\t\t\t\t\tInstructor: <a href=\"http://www.pcc.edu/scripts/sdquery.pl?all=peter%2Ekazarinoff%40pcc%2Eedu\">Peter  Kazarinoff</a>\n",
      "<br/>\n",
      "\t\t\t\t\t\t\t\t\n",
      "\t\t\t\t\t\t\t\t\n",
      "\t\t\t\t\t\t\t\t\n",
      "\t\t\t\t\t\t\t\t\n",
      "\t\t\t\t\t\t\t\tTuition: <a href=\"http://www.pcc.edu/enroll/paying-for-college/tuition/\">credit</a> Fees: $18.00\n",
      "\t\t\t\t\t\t\t\t<br/>\n",
      "</td>\n",
      "</tr>\n",
      "<tr class=\"data-row alt-color\">\n",
      "<td>and</td>\n",
      "<td><a href=\"http://www.pcc.edu/location/default.cfm?fa=findLocation&amp;siteCode=SY&amp;frm_location=AM\"> Sylvania  Campus / AM</a> / 105 \n",
      "\t\t\t\t\t\t\t</td>\n",
      "<td>01:00 PM-03:50 PM</td>\n",
      "<td><acronym title=\"Friday \">F</acronym></td>\n",
      "<td>06-Apr-2018 thru 15-Jun-2018</td>\n",
      "<td class=\"materials\" rowspan=\"2\"><a href=\"http://bookstore.pcc.edu/store1/SelectCourses.aspx?src=2&amp;type=2&amp;stoid=41&amp;trm=Spring 18&amp;cid=25728\">Textbooks<span class=\"visually-hide\"> for CRN 25728</span></a> &lt; $40</td>\n",
      "</tr>\n",
      "<tr class=\"info-row alt-color\">\n",
      "<td>\n",
      "</td>\n",
      "<td colspan=\"4\">\n",
      "\t\t\t\t\t\t\t\t\n",
      "\t\t\t\t\t\t\t\tInstructor: <a href=\"http://www.pcc.edu/scripts/sdquery.pl?all=peter%2Ekazarinoff%40pcc%2Eedu\">Peter  Kazarinoff</a>\n",
      "<br/>\n",
      "</td>\n",
      "</tr>\n",
      "<tr class=\"space-row space-bottom\"><td colspan=\"7\"> </td></tr>\n"
     ]
    }
   ],
   "source": [
    "tr_lst = table.find_all(\"tr\")\n",
    "for row in tr_lst:\n",
    "    print(row)"
   ]
  },
  {
   "cell_type": "code",
   "execution_count": 70,
   "metadata": {},
   "outputs": [
    {
     "name": "stdout",
     "output_type": "stream",
     "text": [
      "\n",
      "and\n",
      " Sylvania  Campus / AM / 105 \n",
      "\t\t\t\t\t\t\t\n",
      "01:00 PM-03:50 PM\n",
      "F\n",
      "06-Apr-2018 thru 15-Jun-2018\n",
      "Textbooks for CRN 25728 < $40\n",
      "\n",
      "\n",
      "\n",
      "\n",
      "\n",
      "\t\t\t\t\t\t\t\t\n",
      "\t\t\t\t\t\t\t\tInstructor: Peter  Kazarinoff\n",
      "\n",
      "\n",
      "\n"
     ]
    }
   ],
   "source": [
    "## This works, need to pair rows so that:\n",
    "#Intr sect 1\n",
    "#<data-row>\n",
    "#<info-row>\n",
    "\n",
    "#Intr sect 2\n",
    "#<data-row>\n",
    "#<info-row>\n",
    "\n",
    "#Intr sect 3\n",
    "#<data-row alt-color>\n",
    "#<info-row alt-color>\n",
    "\n",
    "#Intr sect 4\n",
    "#<data-row alt-color>\n",
    "#<info-row alt-color>\n",
    "\n",
    "\n",
    "rows = soup.findAll('tr', attrs={'class': ['data-row ','info-row ','data-row alt-color','info-row alt-color']})\n",
    "#print(rows)\n",
    "print(rows[6].text)\n",
    "print(rows[7].text)"
   ]
  },
  {
   "cell_type": "code",
   "execution_count": 71,
   "metadata": {},
   "outputs": [],
   "source": [
    "def get_course_rows(soupObject):\n",
    "    rows = soupObject.findAll('tr', attrs={'class': ['data-row ','info-row ','data-row alt-color','info-row alt-color']})\n",
    "    return rows"
   ]
  },
  {
   "cell_type": "code",
   "execution_count": 72,
   "metadata": {},
   "outputs": [],
   "source": [
    "row_lst = get_course_rows(soup)"
   ]
  },
  {
   "cell_type": "code",
   "execution_count": 2,
   "metadata": {},
   "outputs": [
    {
     "ename": "NameError",
     "evalue": "name 'rows' is not defined",
     "output_type": "error",
     "traceback": [
      "\u001b[0;31m---------------------------------------------------------------------------\u001b[0m",
      "\u001b[0;31mNameError\u001b[0m                                 Traceback (most recent call last)",
      "\u001b[0;32m<ipython-input-2-f01f71b7af6b>\u001b[0m in \u001b[0;36m<module>\u001b[0;34m()\u001b[0m\n\u001b[1;32m      1\u001b[0m \u001b[0;31m#type(row_lst)\u001b[0m\u001b[0;34m\u001b[0m\u001b[0;34m\u001b[0m\u001b[0m\n\u001b[0;32m----> 2\u001b[0;31m \u001b[0mtwo_rows\u001b[0m \u001b[0;34m=\u001b[0m \u001b[0mrows\u001b[0m\u001b[0;34m[\u001b[0m\u001b[0;36m0\u001b[0m\u001b[0;34m:\u001b[0m\u001b[0;36m2\u001b[0m\u001b[0;34m]\u001b[0m\u001b[0;34m\u001b[0m\u001b[0m\n\u001b[0m",
      "\u001b[0;31mNameError\u001b[0m: name 'rows' is not defined"
     ]
    }
   ],
   "source": [
    "#type(row_lst)\n",
    "two_rows = rows[0:2]"
   ]
  },
  {
   "cell_type": "code",
   "execution_count": 97,
   "metadata": {},
   "outputs": [],
   "source": [
    "def get_instructor(soupRowObject):\n",
    "    #td_lst = soupRowObject.find('td')\n",
    "    for td in soupRowObject.find_all('td'):\n",
    "    #print(td.text.strip())\n",
    "        if \"Instructor: \" in td.text.strip():\n",
    "            return (td.text.strip().rstrip().lstrip().split('\\n')[0].strip('Instructor: '))\n",
    "        else:\n",
    "            return None\n",
    "\n",
    "                "
   ]
  },
  {
   "cell_type": "code",
   "execution_count": 101,
   "metadata": {},
   "outputs": [
    {
     "name": "stdout",
     "output_type": "stream",
     "text": [
      "None\n"
     ]
    }
   ],
   "source": [
    "inst= get_instructor(row_lst[0])\n",
    "print(inst)"
   ]
  },
  {
   "cell_type": "code",
   "execution_count": 81,
   "metadata": {},
   "outputs": [
    {
     "data": {
      "text/plain": [
       "<tr class=\"data-row \">\n",
       "<td>20240</td>\n",
       "<td><a href=\"http://www.pcc.edu/location/default.cfm?fa=findLocation&amp;siteCode=SY&amp;frm_location=AM\"> Sylvania  Campus / AM</a> / 105 \n",
       "\t\t\t\t\t\t\t</td>\n",
       "<td>09:00 AM-11:50 AM</td>\n",
       "<td><acronym title=\"Monday \">M</acronym></td>\n",
       "<td>02-Apr-2018 thru 11-Jun-2018</td>\n",
       "<td class=\"materials\" rowspan=\"2\"><a href=\"http://bookstore.pcc.edu/store1/SelectCourses.aspx?src=2&amp;type=2&amp;stoid=41&amp;trm=Spring 18&amp;cid=20240\">Textbooks<span class=\"visually-hide\"> for CRN 20240</span></a> &lt; $40</td>\n",
       "</tr>"
      ]
     },
     "execution_count": 81,
     "metadata": {},
     "output_type": "execute_result"
    }
   ],
   "source": [
    "row_lst[0]"
   ]
  },
  {
   "cell_type": "code",
   "execution_count": 102,
   "metadata": {},
   "outputs": [
    {
     "data": {
      "text/plain": [
       "bs4.element.ResultSet"
      ]
     },
     "execution_count": 102,
     "metadata": {},
     "output_type": "execute_result"
    }
   ],
   "source": [
    "type(row_lst)"
   ]
  },
  {
   "cell_type": "code",
   "execution_count": 103,
   "metadata": {},
   "outputs": [
    {
     "data": {
      "text/plain": [
       "['__add__',\n",
       " '__class__',\n",
       " '__contains__',\n",
       " '__delattr__',\n",
       " '__delitem__',\n",
       " '__dict__',\n",
       " '__dir__',\n",
       " '__doc__',\n",
       " '__eq__',\n",
       " '__format__',\n",
       " '__ge__',\n",
       " '__getattr__',\n",
       " '__getattribute__',\n",
       " '__getitem__',\n",
       " '__gt__',\n",
       " '__hash__',\n",
       " '__iadd__',\n",
       " '__imul__',\n",
       " '__init__',\n",
       " '__init_subclass__',\n",
       " '__iter__',\n",
       " '__le__',\n",
       " '__len__',\n",
       " '__lt__',\n",
       " '__module__',\n",
       " '__mul__',\n",
       " '__ne__',\n",
       " '__new__',\n",
       " '__reduce__',\n",
       " '__reduce_ex__',\n",
       " '__repr__',\n",
       " '__reversed__',\n",
       " '__rmul__',\n",
       " '__setattr__',\n",
       " '__setitem__',\n",
       " '__sizeof__',\n",
       " '__str__',\n",
       " '__subclasshook__',\n",
       " '__weakref__',\n",
       " 'append',\n",
       " 'clear',\n",
       " 'copy',\n",
       " 'count',\n",
       " 'extend',\n",
       " 'index',\n",
       " 'insert',\n",
       " 'pop',\n",
       " 'remove',\n",
       " 'reverse',\n",
       " 'sort',\n",
       " 'source']"
      ]
     },
     "execution_count": 103,
     "metadata": {},
     "output_type": "execute_result"
    }
   ],
   "source": [
    "dir(row_lst)"
   ]
  },
  {
   "cell_type": "code",
   "execution_count": 104,
   "metadata": {},
   "outputs": [
    {
     "data": {
      "text/plain": [
       "\n",
       "<!DOCTYPE doctype html>\n",
       "\n",
       "<html class=\"no-js\" lang=\"en\">\n",
       "<head>\n",
       "<meta charset=\"utf-8\"/>\n",
       "<meta content=\"width=device-width, initial-scale=1.0\" name=\"viewport\"/>\n",
       "<meta content=\"IE=Edge\" http-equiv=\"X-UA-Compatible\"/>\n",
       "<meta content=\"webteam@pcc.edu\" name=\"author\"/>\n",
       "<title>\n",
       "    \n",
       "\t\tCMET235 Machine Design | Class Schedule | PCC\n",
       "\t\n",
       "    </title>\n",
       "<script src=\"/_source-v6/vendor/foundation-5.4.0/js/vendor/modernizr.js\"></script>\n",
       "<link href=\"/_source-v6/vendor/foundation-5.4.0/css/foundation.min.css\" rel=\"stylesheet\"/>\n",
       "<link href=\"/_source-v6/styles/style.min.css\" rel=\"stylesheet\"/>\n",
       "<link href=\"/_source-v6/styles/print.min.css\" media=\"print\" rel=\"stylesheet\"/>\n",
       "<link href=\"/_source-v6/vendor/fonts/font-awesome-3.2.1/css/font-awesome.min.css\" rel=\"stylesheet\"/>\n",
       "<link href=\"/_source-v6/images/favicon.ico\" rel=\"icon\" type=\"image/x-icon\"/>\n",
       "<link href=\"/_source-v6/images/favicon.ico\" rel=\"shortcut icon\"/>\n",
       "<link href=\"/_source-v6/styles/applications/schedule.css\" media=\"all\" rel=\"stylesheet\" type=\"text/css\">\n",
       "</link></head>\n",
       "<body class=\"design-time\">\n",
       "<section aria-label=\"Skip to page content\"><a href=\"#main\" id=\"skip\">Skip to page content</a></section>\n",
       "<!--GLOBAL HEADER-->\n",
       "<header aria-label=\"PCC main header\" id=\"sitewide-header\" role=\"banner\">\n",
       "<div class=\"row\">\n",
       "<div class=\"small-12 medium-3 large-3 columns\">\n",
       "<h1>\n",
       "<span class=\"visually-hide\">Portland Community College</span>\n",
       "<a href=\"/\">\n",
       "<img alt=\"Portland Community College | Portland, Oregon\" onerror=\"this.src='/_source-v6/images/logo.png'; this.onerror=null;\" src=\"/_source-v6/images/logo.svg\"/>\n",
       "</a>\n",
       "</h1>\n",
       "</div>\n",
       "<!--UTILITY AND MAIN NAV-->\n",
       "<div class=\"small-12 medium-9 large-9 columns\">\n",
       "<nav aria-label=\"PCC global navigation\" class=\"top-bar\" data-topbar=\"\">\n",
       "<ul class=\"title-area\">\n",
       "<li class=\"name\"></li>\n",
       "<li class=\"toggle-topbar menu-icon c-hamburger c-hamburger--htx\">\n",
       "<a href=\"#\"><span>Menu</span></a>\n",
       "</li>\n",
       "</ul>\n",
       "<section aria-label=\"Main navigation\" class=\"top-bar-section\">\n",
       "<ul class=\"right\" id=\"gnav\">\n",
       "<li><a href=\"/enroll/get-started.html\">Get Started</a></li>\n",
       "<li><a href=\"/programs/\"><span class=\"hide-for-medium-only\">Academic Programs</span><span aria-hidden=\"true\" class=\"show-for-medium-only\">Academics</span></a></li>\n",
       "<li><a href=\"/schedule/\">Class Schedule</a></li>\n",
       "<li><a href=\"/about/\"><span class=\"hide-for-medium-only\">About PCC</span><span aria-hidden=\"true\" class=\"show-for-medium-only\">About</span></a></li>\n",
       "<li><a href=\"/student-life/\">Student Life</a></li>\n",
       "</ul>\n",
       "</section>\n",
       "<section aria-label=\"Secondary navigation\" class=\"top-bar-section\">\n",
       "<ul class=\"right\" id=\"hnav\">\n",
       "<li><a href=\"//www.pcc.edu/search/\" id=\"search\"><span>Search</span></a></li>\n",
       "<li><a href=\"//www.pcc.edu/resources/\" id=\"resources\"><span><span class=\"show-for-small-only\">A-Z </span>Resources</span></a></li>\n",
       "<li><a href=\"//www.pcc.edu/about/contact/\" id=\"contacts\"><span>Contacts</span></a></li>\n",
       "<li><a href=\"//www.pcc.edu/about/calendars/\" id=\"calendars\"><span>Calendars</span></a></li>\n",
       "<li><a href=\"//www.pcc.edu/foundation/\" id=\"give\"><span>Give</span></a></li>\n",
       "<li><a href=\"https://my.pcc.edu/\" id=\"mypcc\">MyPCC</a></li>\n",
       "</ul>\n",
       "</section>\n",
       "</nav>\n",
       "</div><!--end .columns-->\n",
       "</div><!--end .row-->\n",
       "</header><!--end global header-->\n",
       "<main id=\"main\">\n",
       "<!--SECONDARY HEADER-->\n",
       "<header aria-label=\"Page title\" id=\"secondary-header\" role=\"heading\">\n",
       "<div class=\"row\">\n",
       "<div id=\"page-title\">\n",
       "<h2>CMET235 Machine Design </h2>\n",
       "<p><a class=\"popup-form\" href=\"default.cfm?fa=popContact&amp;thisTerm=201802&amp;topicid=CMET&amp;tpcTitle=Civil%20and%20Mechanical%20Engineering%20Technology\">Campus Contacts</a></p>\n",
       "</div>\n",
       "</div> <!--end .row-->\n",
       "</header>\n",
       "<!--CONTENT-->\n",
       "<div aria-label=\"Page content\" id=\"content\">\n",
       "<div class=\"row\">\n",
       "<!--CONTENT AREA-->\n",
       "<div class=\"small-12 columns\">\n",
       "<nav id=\"breadcrumbs\"><a href=\"http://www.pcc.edu\" title=\"Portland Community College Home\">PCC</a> / <a href=\"default.cfm\">Class Schedule</a> / <a href=\"default.cfm?fa=dspTopic&amp;thisTerm=201802&amp;type=Credit\">Spring 2018: Credit</a> / <a href=\"default.cfm?fa=dspTopicDetails&amp;thisTerm=201802&amp;topicid=CMET&amp;type=Credit\">Civil and Mechanical Engineering Technology</a> / </nav>\n",
       "<p>Examines fundamentals of machine design, including analysis and design of mechanical components. Covers shafts, fasteners, belt and chain drives, brakes, gears, springs and bearings. Includes predicting static and fatigue failures for various loadings and materials. Prerequisite: CMET 121, 226. Audit available. \n",
       "\n",
       "(For detailed information, see the <a class=\"popup\" href=\"http://www.pcc.edu/ccog/default.cfm?fa=ccog&amp;subject=CMET&amp;course=235\">Course Content and Outcome Guide </a>). </p>\n",
       "<dl>\n",
       "<dt class=\"concise\">Credits: </dt>\n",
       "<dd>3.00</dd>\n",
       "</dl>\n",
       "<dl class=\"concise\">\n",
       "<dt>Registration:</dt><dd>you will need the CRN <a href=\"http://www.pcc.edu/registration/\">to register</a>.</dd>\n",
       "<dt>Fees:</dt><dd>many classes have <a href=\"http://www.pcc.edu/enroll/paying-for-college/tuition/\">additional fees</a>.</dd>\n",
       "<dt>Materials:</dt><dd>classes marked with <em>$0</em> or <em>&lt;$40</em> use low cost materials. Cost does not include art supplies, calculators, fees, and equipment.</dd></dl>\n",
       "</div></div></div></main></body></html>\n",
       "<table cellspacing=\"0\">\n",
       "<thead>\n",
       "<tr>\n",
       "<th>CRN</th>\n",
       "<th>Campus / Bldg / Rm</th>\n",
       "<th>Time</th>\n",
       "<th>Days</th>\n",
       "<th>Dates</th>\n",
       "<th>Materials</th>\n",
       "</tr>\n",
       "</thead>\n",
       "<tbody>\n",
       "<tr class=\"space-row\"><td colspan=\"7\"> </td></tr>\n",
       "<tr class=\"data-row \">\n",
       "<td>20240</td>\n",
       "<td><a href=\"http://www.pcc.edu/location/default.cfm?fa=findLocation&amp;siteCode=SY&amp;frm_location=AM\"> Sylvania  Campus / AM</a> / 105 \n",
       "\t\t\t\t\t\t\t</td>\n",
       "<td>09:00 AM-11:50 AM</td>\n",
       "<td><acronym title=\"Monday \">M</acronym></td>\n",
       "<td>02-Apr-2018 thru 11-Jun-2018</td>\n",
       "<td class=\"materials\" rowspan=\"2\"><a href=\"http://bookstore.pcc.edu/store1/SelectCourses.aspx?src=2&amp;type=2&amp;stoid=41&amp;trm=Spring 18&amp;cid=20240\">Textbooks<span class=\"visually-hide\"> for CRN 20240</span></a> &lt; $40</td>\n",
       "</tr>\n",
       "<tr class=\"info-row \">\n",
       "<td>\n",
       "</td>\n",
       "<td colspan=\"4\">\n",
       "\t\t\t\t\t\t\t\t\n",
       "\t\t\t\t\t\t\t\tInstructor: <a href=\"http://www.pcc.edu/scripts/sdquery.pl?all=peter%2Ekazarinoff%40pcc%2Eedu\">Peter  Kazarinoff</a>\n",
       "<br/>\n",
       "\t\t\t\t\t\t\t\t\n",
       "\t\t\t\t\t\t\t\t\n",
       "\t\t\t\t\t\t\t\t\n",
       "\t\t\t\t\t\t\t\t\n",
       "\t\t\t\t\t\t\t\tTuition: <a href=\"http://www.pcc.edu/enroll/paying-for-college/tuition/\">credit</a> Fees: $18.00\n",
       "\t\t\t\t\t\t\t\t<br/>\n",
       "</td>\n",
       "</tr>\n",
       "<tr class=\"data-row \">\n",
       "<td>and</td>\n",
       "<td><a href=\"http://www.pcc.edu/location/default.cfm?fa=findLocation&amp;siteCode=SY&amp;frm_location=AM\"> Sylvania  Campus / AM</a> / 105 \n",
       "\t\t\t\t\t\t\t</td>\n",
       "<td>09:00 AM-11:50 AM</td>\n",
       "<td><acronym title=\"Wednesday \">W</acronym></td>\n",
       "<td>04-Apr-2018 thru 13-Jun-2018</td>\n",
       "<td class=\"materials\" rowspan=\"2\"><a href=\"http://bookstore.pcc.edu/store1/SelectCourses.aspx?src=2&amp;type=2&amp;stoid=41&amp;trm=Spring 18&amp;cid=20240\">Textbooks<span class=\"visually-hide\"> for CRN 20240</span></a> &lt; $40</td>\n",
       "</tr>\n",
       "<tr class=\"info-row \">\n",
       "<td>\n",
       "</td>\n",
       "<td colspan=\"4\">\n",
       "\t\t\t\t\t\t\t\t\n",
       "\t\t\t\t\t\t\t\tInstructor: <a href=\"http://www.pcc.edu/scripts/sdquery.pl?all=peter%2Ekazarinoff%40pcc%2Eedu\">Peter  Kazarinoff</a>\n",
       "<br/>\n",
       "</td>\n",
       "</tr>\n",
       "<tr class=\"space-row\"><td colspan=\"7\"> </td></tr>\n",
       "<tr class=\"data-row alt-color\">\n",
       "<td>25728</td>\n",
       "<td><a href=\"http://www.pcc.edu/location/default.cfm?fa=findLocation&amp;siteCode=SY&amp;frm_location=AM\"> Sylvania  Campus / AM</a> / 105 \n",
       "\t\t\t\t\t\t\t</td>\n",
       "<td>09:00 AM-11:50 AM</td>\n",
       "<td><acronym title=\"Monday \">M</acronym></td>\n",
       "<td>02-Apr-2018 thru 11-Jun-2018</td>\n",
       "<td class=\"materials\" rowspan=\"2\"><a href=\"http://bookstore.pcc.edu/store1/SelectCourses.aspx?src=2&amp;type=2&amp;stoid=41&amp;trm=Spring 18&amp;cid=25728\">Textbooks<span class=\"visually-hide\"> for CRN 25728</span></a> &lt; $40</td>\n",
       "</tr>\n",
       "<tr class=\"info-row alt-color\">\n",
       "<td>\n",
       "</td>\n",
       "<td colspan=\"4\">\n",
       "\t\t\t\t\t\t\t\t\n",
       "\t\t\t\t\t\t\t\tInstructor: <a href=\"http://www.pcc.edu/scripts/sdquery.pl?all=peter%2Ekazarinoff%40pcc%2Eedu\">Peter  Kazarinoff</a>\n",
       "<br/>\n",
       "\t\t\t\t\t\t\t\t\n",
       "\t\t\t\t\t\t\t\t\n",
       "\t\t\t\t\t\t\t\t\n",
       "\t\t\t\t\t\t\t\t\n",
       "\t\t\t\t\t\t\t\tTuition: <a href=\"http://www.pcc.edu/enroll/paying-for-college/tuition/\">credit</a> Fees: $18.00\n",
       "\t\t\t\t\t\t\t\t<br/>\n",
       "</td>\n",
       "</tr>\n",
       "<tr class=\"data-row alt-color\">\n",
       "<td>and</td>\n",
       "<td><a href=\"http://www.pcc.edu/location/default.cfm?fa=findLocation&amp;siteCode=SY&amp;frm_location=AM\"> Sylvania  Campus / AM</a> / 105 \n",
       "\t\t\t\t\t\t\t</td>\n",
       "<td>01:00 PM-03:50 PM</td>\n",
       "<td><acronym title=\"Friday \">F</acronym></td>\n",
       "<td>06-Apr-2018 thru 15-Jun-2018</td>\n",
       "<td class=\"materials\" rowspan=\"2\"><a href=\"http://bookstore.pcc.edu/store1/SelectCourses.aspx?src=2&amp;type=2&amp;stoid=41&amp;trm=Spring 18&amp;cid=25728\">Textbooks<span class=\"visually-hide\"> for CRN 25728</span></a> &lt; $40</td>\n",
       "</tr>\n",
       "<tr class=\"info-row alt-color\">\n",
       "<td>\n",
       "</td>\n",
       "<td colspan=\"4\">\n",
       "\t\t\t\t\t\t\t\t\n",
       "\t\t\t\t\t\t\t\tInstructor: <a href=\"http://www.pcc.edu/scripts/sdquery.pl?all=peter%2Ekazarinoff%40pcc%2Eedu\">Peter  Kazarinoff</a>\n",
       "<br/>\n",
       "</td>\n",
       "</tr>\n",
       "<tr class=\"space-row space-bottom\"><td colspan=\"7\"> </td></tr>\n",
       "</tbody>\n",
       "</table>\n",
       "<!--end content-area-->\n",
       "<!--end .row-->\n",
       "<!--end content-->\n",
       "<!--end main-->\n",
       "<!--FOOTER-->\n",
       "<footer aria-label=\"PCC footer\" role=\"menu\"></footer>\n",
       "<script src=\"/_source-v6/scripts/pcc-basic.min.js\"></script>\n",
       "<!--[if gt IE 8]><!-->\n",
       "<script src=\"/_source-v6/vendor/jquery-2.1.1/jquery.min.js\"></script>\n",
       "<script src=\"/_source-v6/vendor/foundation-5.4.0/js/foundation.min.js\"></script>\n",
       "<script src=\"/_source-v5/scripts/other/schedule.js\" type=\"text/javascript\"></script>\n",
       "<script src=\"/_source-v6/scripts/pcc.min.js\"></script> <script>$(document).foundation();</script>\n",
       "<!--<![endif]-->\n"
      ]
     },
     "execution_count": 104,
     "metadata": {},
     "output_type": "execute_result"
    }
   ],
   "source": [
    "soup"
   ]
  },
  {
   "cell_type": "code",
   "execution_count": 105,
   "metadata": {},
   "outputs": [
    {
     "data": {
      "text/plain": [
       "<table cellspacing=\"0\">\n",
       "<thead>\n",
       "<tr>\n",
       "<th>CRN</th>\n",
       "<th>Campus / Bldg / Rm</th>\n",
       "<th>Time</th>\n",
       "<th>Days</th>\n",
       "<th>Dates</th>\n",
       "<th>Materials</th>\n",
       "</tr>\n",
       "</thead>\n",
       "<tbody>\n",
       "<tr class=\"space-row\"><td colspan=\"7\"> </td></tr>\n",
       "<tr class=\"data-row \">\n",
       "<td>20240</td>\n",
       "<td><a href=\"http://www.pcc.edu/location/default.cfm?fa=findLocation&amp;siteCode=SY&amp;frm_location=AM\"> Sylvania  Campus / AM</a> / 105 \n",
       "\t\t\t\t\t\t\t</td>\n",
       "<td>09:00 AM-11:50 AM</td>\n",
       "<td><acronym title=\"Monday \">M</acronym></td>\n",
       "<td>02-Apr-2018 thru 11-Jun-2018</td>\n",
       "<td class=\"materials\" rowspan=\"2\"><a href=\"http://bookstore.pcc.edu/store1/SelectCourses.aspx?src=2&amp;type=2&amp;stoid=41&amp;trm=Spring 18&amp;cid=20240\">Textbooks<span class=\"visually-hide\"> for CRN 20240</span></a> &lt; $40</td>\n",
       "</tr>\n",
       "<tr class=\"info-row \">\n",
       "<td>\n",
       "</td>\n",
       "<td colspan=\"4\">\n",
       "\t\t\t\t\t\t\t\t\n",
       "\t\t\t\t\t\t\t\tInstructor: <a href=\"http://www.pcc.edu/scripts/sdquery.pl?all=peter%2Ekazarinoff%40pcc%2Eedu\">Peter  Kazarinoff</a>\n",
       "<br/>\n",
       "\t\t\t\t\t\t\t\t\n",
       "\t\t\t\t\t\t\t\t\n",
       "\t\t\t\t\t\t\t\t\n",
       "\t\t\t\t\t\t\t\t\n",
       "\t\t\t\t\t\t\t\tTuition: <a href=\"http://www.pcc.edu/enroll/paying-for-college/tuition/\">credit</a> Fees: $18.00\n",
       "\t\t\t\t\t\t\t\t<br/>\n",
       "</td>\n",
       "</tr>\n",
       "<tr class=\"data-row \">\n",
       "<td>and</td>\n",
       "<td><a href=\"http://www.pcc.edu/location/default.cfm?fa=findLocation&amp;siteCode=SY&amp;frm_location=AM\"> Sylvania  Campus / AM</a> / 105 \n",
       "\t\t\t\t\t\t\t</td>\n",
       "<td>09:00 AM-11:50 AM</td>\n",
       "<td><acronym title=\"Wednesday \">W</acronym></td>\n",
       "<td>04-Apr-2018 thru 13-Jun-2018</td>\n",
       "<td class=\"materials\" rowspan=\"2\"><a href=\"http://bookstore.pcc.edu/store1/SelectCourses.aspx?src=2&amp;type=2&amp;stoid=41&amp;trm=Spring 18&amp;cid=20240\">Textbooks<span class=\"visually-hide\"> for CRN 20240</span></a> &lt; $40</td>\n",
       "</tr>\n",
       "<tr class=\"info-row \">\n",
       "<td>\n",
       "</td>\n",
       "<td colspan=\"4\">\n",
       "\t\t\t\t\t\t\t\t\n",
       "\t\t\t\t\t\t\t\tInstructor: <a href=\"http://www.pcc.edu/scripts/sdquery.pl?all=peter%2Ekazarinoff%40pcc%2Eedu\">Peter  Kazarinoff</a>\n",
       "<br/>\n",
       "</td>\n",
       "</tr>\n",
       "<tr class=\"space-row\"><td colspan=\"7\"> </td></tr>\n",
       "<tr class=\"data-row alt-color\">\n",
       "<td>25728</td>\n",
       "<td><a href=\"http://www.pcc.edu/location/default.cfm?fa=findLocation&amp;siteCode=SY&amp;frm_location=AM\"> Sylvania  Campus / AM</a> / 105 \n",
       "\t\t\t\t\t\t\t</td>\n",
       "<td>09:00 AM-11:50 AM</td>\n",
       "<td><acronym title=\"Monday \">M</acronym></td>\n",
       "<td>02-Apr-2018 thru 11-Jun-2018</td>\n",
       "<td class=\"materials\" rowspan=\"2\"><a href=\"http://bookstore.pcc.edu/store1/SelectCourses.aspx?src=2&amp;type=2&amp;stoid=41&amp;trm=Spring 18&amp;cid=25728\">Textbooks<span class=\"visually-hide\"> for CRN 25728</span></a> &lt; $40</td>\n",
       "</tr>\n",
       "<tr class=\"info-row alt-color\">\n",
       "<td>\n",
       "</td>\n",
       "<td colspan=\"4\">\n",
       "\t\t\t\t\t\t\t\t\n",
       "\t\t\t\t\t\t\t\tInstructor: <a href=\"http://www.pcc.edu/scripts/sdquery.pl?all=peter%2Ekazarinoff%40pcc%2Eedu\">Peter  Kazarinoff</a>\n",
       "<br/>\n",
       "\t\t\t\t\t\t\t\t\n",
       "\t\t\t\t\t\t\t\t\n",
       "\t\t\t\t\t\t\t\t\n",
       "\t\t\t\t\t\t\t\t\n",
       "\t\t\t\t\t\t\t\tTuition: <a href=\"http://www.pcc.edu/enroll/paying-for-college/tuition/\">credit</a> Fees: $18.00\n",
       "\t\t\t\t\t\t\t\t<br/>\n",
       "</td>\n",
       "</tr>\n",
       "<tr class=\"data-row alt-color\">\n",
       "<td>and</td>\n",
       "<td><a href=\"http://www.pcc.edu/location/default.cfm?fa=findLocation&amp;siteCode=SY&amp;frm_location=AM\"> Sylvania  Campus / AM</a> / 105 \n",
       "\t\t\t\t\t\t\t</td>\n",
       "<td>01:00 PM-03:50 PM</td>\n",
       "<td><acronym title=\"Friday \">F</acronym></td>\n",
       "<td>06-Apr-2018 thru 15-Jun-2018</td>\n",
       "<td class=\"materials\" rowspan=\"2\"><a href=\"http://bookstore.pcc.edu/store1/SelectCourses.aspx?src=2&amp;type=2&amp;stoid=41&amp;trm=Spring 18&amp;cid=25728\">Textbooks<span class=\"visually-hide\"> for CRN 25728</span></a> &lt; $40</td>\n",
       "</tr>\n",
       "<tr class=\"info-row alt-color\">\n",
       "<td>\n",
       "</td>\n",
       "<td colspan=\"4\">\n",
       "\t\t\t\t\t\t\t\t\n",
       "\t\t\t\t\t\t\t\tInstructor: <a href=\"http://www.pcc.edu/scripts/sdquery.pl?all=peter%2Ekazarinoff%40pcc%2Eedu\">Peter  Kazarinoff</a>\n",
       "<br/>\n",
       "</td>\n",
       "</tr>\n",
       "<tr class=\"space-row space-bottom\"><td colspan=\"7\"> </td></tr>\n",
       "</tbody>\n",
       "</table>"
      ]
     },
     "execution_count": 105,
     "metadata": {},
     "output_type": "execute_result"
    }
   ],
   "source": [
    "soup.table"
   ]
  },
  {
   "cell_type": "code",
   "execution_count": 106,
   "metadata": {},
   "outputs": [
    {
     "data": {
      "text/plain": [
       "bs4.element.Tag"
      ]
     },
     "execution_count": 106,
     "metadata": {},
     "output_type": "execute_result"
    }
   ],
   "source": [
    "type(table)"
   ]
  },
  {
   "cell_type": "code",
   "execution_count": 107,
   "metadata": {},
   "outputs": [
    {
     "data": {
      "text/plain": [
       "<tr>\n",
       "<th>CRN</th>\n",
       "<th>Campus / Bldg / Rm</th>\n",
       "<th>Time</th>\n",
       "<th>Days</th>\n",
       "<th>Dates</th>\n",
       "<th>Materials</th>\n",
       "</tr>"
      ]
     },
     "execution_count": 107,
     "metadata": {},
     "output_type": "execute_result"
    }
   ],
   "source": [
    "soup.table.tr"
   ]
  },
  {
   "cell_type": "code",
   "execution_count": 108,
   "metadata": {},
   "outputs": [
    {
     "data": {
      "text/plain": [
       "bs4.element.Tag"
      ]
     },
     "execution_count": 108,
     "metadata": {},
     "output_type": "execute_result"
    }
   ],
   "source": [
    "type(soup.table.tr)"
   ]
  },
  {
   "cell_type": "code",
   "execution_count": 109,
   "metadata": {},
   "outputs": [
    {
     "data": {
      "text/plain": [
       "[<tr>\n",
       " <th>CRN</th>\n",
       " <th>Campus / Bldg / Rm</th>\n",
       " <th>Time</th>\n",
       " <th>Days</th>\n",
       " <th>Dates</th>\n",
       " <th>Materials</th>\n",
       " </tr>,\n",
       " <tr class=\"space-row\"><td colspan=\"7\"> </td></tr>,\n",
       " <tr class=\"data-row \">\n",
       " <td>20240</td>\n",
       " <td><a href=\"http://www.pcc.edu/location/default.cfm?fa=findLocation&amp;siteCode=SY&amp;frm_location=AM\"> Sylvania  Campus / AM</a> / 105 \n",
       " \t\t\t\t\t\t\t</td>\n",
       " <td>09:00 AM-11:50 AM</td>\n",
       " <td><acronym title=\"Monday \">M</acronym></td>\n",
       " <td>02-Apr-2018 thru 11-Jun-2018</td>\n",
       " <td class=\"materials\" rowspan=\"2\"><a href=\"http://bookstore.pcc.edu/store1/SelectCourses.aspx?src=2&amp;type=2&amp;stoid=41&amp;trm=Spring 18&amp;cid=20240\">Textbooks<span class=\"visually-hide\"> for CRN 20240</span></a> &lt; $40</td>\n",
       " </tr>,\n",
       " <tr class=\"info-row \">\n",
       " <td>\n",
       " </td>\n",
       " <td colspan=\"4\">\n",
       " \t\t\t\t\t\t\t\t\n",
       " \t\t\t\t\t\t\t\tInstructor: <a href=\"http://www.pcc.edu/scripts/sdquery.pl?all=peter%2Ekazarinoff%40pcc%2Eedu\">Peter  Kazarinoff</a>\n",
       " <br/>\n",
       " \t\t\t\t\t\t\t\t\n",
       " \t\t\t\t\t\t\t\t\n",
       " \t\t\t\t\t\t\t\t\n",
       " \t\t\t\t\t\t\t\t\n",
       " \t\t\t\t\t\t\t\tTuition: <a href=\"http://www.pcc.edu/enroll/paying-for-college/tuition/\">credit</a> Fees: $18.00\n",
       " \t\t\t\t\t\t\t\t<br/>\n",
       " </td>\n",
       " </tr>,\n",
       " <tr class=\"data-row \">\n",
       " <td>and</td>\n",
       " <td><a href=\"http://www.pcc.edu/location/default.cfm?fa=findLocation&amp;siteCode=SY&amp;frm_location=AM\"> Sylvania  Campus / AM</a> / 105 \n",
       " \t\t\t\t\t\t\t</td>\n",
       " <td>09:00 AM-11:50 AM</td>\n",
       " <td><acronym title=\"Wednesday \">W</acronym></td>\n",
       " <td>04-Apr-2018 thru 13-Jun-2018</td>\n",
       " <td class=\"materials\" rowspan=\"2\"><a href=\"http://bookstore.pcc.edu/store1/SelectCourses.aspx?src=2&amp;type=2&amp;stoid=41&amp;trm=Spring 18&amp;cid=20240\">Textbooks<span class=\"visually-hide\"> for CRN 20240</span></a> &lt; $40</td>\n",
       " </tr>,\n",
       " <tr class=\"info-row \">\n",
       " <td>\n",
       " </td>\n",
       " <td colspan=\"4\">\n",
       " \t\t\t\t\t\t\t\t\n",
       " \t\t\t\t\t\t\t\tInstructor: <a href=\"http://www.pcc.edu/scripts/sdquery.pl?all=peter%2Ekazarinoff%40pcc%2Eedu\">Peter  Kazarinoff</a>\n",
       " <br/>\n",
       " </td>\n",
       " </tr>,\n",
       " <tr class=\"space-row\"><td colspan=\"7\"> </td></tr>,\n",
       " <tr class=\"data-row alt-color\">\n",
       " <td>25728</td>\n",
       " <td><a href=\"http://www.pcc.edu/location/default.cfm?fa=findLocation&amp;siteCode=SY&amp;frm_location=AM\"> Sylvania  Campus / AM</a> / 105 \n",
       " \t\t\t\t\t\t\t</td>\n",
       " <td>09:00 AM-11:50 AM</td>\n",
       " <td><acronym title=\"Monday \">M</acronym></td>\n",
       " <td>02-Apr-2018 thru 11-Jun-2018</td>\n",
       " <td class=\"materials\" rowspan=\"2\"><a href=\"http://bookstore.pcc.edu/store1/SelectCourses.aspx?src=2&amp;type=2&amp;stoid=41&amp;trm=Spring 18&amp;cid=25728\">Textbooks<span class=\"visually-hide\"> for CRN 25728</span></a> &lt; $40</td>\n",
       " </tr>,\n",
       " <tr class=\"info-row alt-color\">\n",
       " <td>\n",
       " </td>\n",
       " <td colspan=\"4\">\n",
       " \t\t\t\t\t\t\t\t\n",
       " \t\t\t\t\t\t\t\tInstructor: <a href=\"http://www.pcc.edu/scripts/sdquery.pl?all=peter%2Ekazarinoff%40pcc%2Eedu\">Peter  Kazarinoff</a>\n",
       " <br/>\n",
       " \t\t\t\t\t\t\t\t\n",
       " \t\t\t\t\t\t\t\t\n",
       " \t\t\t\t\t\t\t\t\n",
       " \t\t\t\t\t\t\t\t\n",
       " \t\t\t\t\t\t\t\tTuition: <a href=\"http://www.pcc.edu/enroll/paying-for-college/tuition/\">credit</a> Fees: $18.00\n",
       " \t\t\t\t\t\t\t\t<br/>\n",
       " </td>\n",
       " </tr>,\n",
       " <tr class=\"data-row alt-color\">\n",
       " <td>and</td>\n",
       " <td><a href=\"http://www.pcc.edu/location/default.cfm?fa=findLocation&amp;siteCode=SY&amp;frm_location=AM\"> Sylvania  Campus / AM</a> / 105 \n",
       " \t\t\t\t\t\t\t</td>\n",
       " <td>01:00 PM-03:50 PM</td>\n",
       " <td><acronym title=\"Friday \">F</acronym></td>\n",
       " <td>06-Apr-2018 thru 15-Jun-2018</td>\n",
       " <td class=\"materials\" rowspan=\"2\"><a href=\"http://bookstore.pcc.edu/store1/SelectCourses.aspx?src=2&amp;type=2&amp;stoid=41&amp;trm=Spring 18&amp;cid=25728\">Textbooks<span class=\"visually-hide\"> for CRN 25728</span></a> &lt; $40</td>\n",
       " </tr>,\n",
       " <tr class=\"info-row alt-color\">\n",
       " <td>\n",
       " </td>\n",
       " <td colspan=\"4\">\n",
       " \t\t\t\t\t\t\t\t\n",
       " \t\t\t\t\t\t\t\tInstructor: <a href=\"http://www.pcc.edu/scripts/sdquery.pl?all=peter%2Ekazarinoff%40pcc%2Eedu\">Peter  Kazarinoff</a>\n",
       " <br/>\n",
       " </td>\n",
       " </tr>,\n",
       " <tr class=\"space-row space-bottom\"><td colspan=\"7\"> </td></tr>]"
      ]
     },
     "execution_count": 109,
     "metadata": {},
     "output_type": "execute_result"
    }
   ],
   "source": [
    "soup.table.find_all(\"tr\")"
   ]
  },
  {
   "cell_type": "code",
   "execution_count": 110,
   "metadata": {},
   "outputs": [
    {
     "data": {
      "text/plain": [
       "bs4.element.ResultSet"
      ]
     },
     "execution_count": 110,
     "metadata": {},
     "output_type": "execute_result"
    }
   ],
   "source": [
    "type(soup.table.find_all(\"tr\"))"
   ]
  },
  {
   "cell_type": "code",
   "execution_count": 111,
   "metadata": {},
   "outputs": [
    {
     "data": {
      "text/plain": [
       "list_iterator"
      ]
     },
     "execution_count": 111,
     "metadata": {},
     "output_type": "execute_result"
    }
   ],
   "source": [
    "type(soup.table.children)"
   ]
  },
  {
   "cell_type": "code",
   "execution_count": 114,
   "metadata": {},
   "outputs": [
    {
     "data": {
      "text/plain": [
       "'\\n'"
      ]
     },
     "execution_count": 114,
     "metadata": {},
     "output_type": "execute_result"
    }
   ],
   "source": [
    "soup.tr.next_sibling"
   ]
  },
  {
   "cell_type": "code",
   "execution_count": 115,
   "metadata": {},
   "outputs": [
    {
     "data": {
      "text/plain": [
       "'\\n'"
      ]
     },
     "execution_count": 115,
     "metadata": {},
     "output_type": "execute_result"
    }
   ],
   "source": [
    "soup.tr.next_sibling"
   ]
  },
  {
   "cell_type": "code",
   "execution_count": 116,
   "metadata": {},
   "outputs": [
    {
     "data": {
      "text/plain": [
       "'\\n'"
      ]
     },
     "execution_count": 116,
     "metadata": {},
     "output_type": "execute_result"
    }
   ],
   "source": [
    "soup.tr.next_sibling"
   ]
  },
  {
   "cell_type": "code",
   "execution_count": 117,
   "metadata": {},
   "outputs": [],
   "source": [
    "soup.tr.contnets"
   ]
  },
  {
   "cell_type": "code",
   "execution_count": 118,
   "metadata": {},
   "outputs": [
    {
     "data": {
      "text/plain": [
       "list"
      ]
     },
     "execution_count": 118,
     "metadata": {},
     "output_type": "execute_result"
    }
   ],
   "source": [
    "type(soup.tr.contents)"
   ]
  },
  {
   "cell_type": "code",
   "execution_count": 119,
   "metadata": {},
   "outputs": [
    {
     "data": {
      "text/plain": [
       "['\\n',\n",
       " <th>CRN</th>,\n",
       " '\\n',\n",
       " <th>Campus / Bldg / Rm</th>,\n",
       " '\\n',\n",
       " <th>Time</th>,\n",
       " '\\n',\n",
       " <th>Days</th>,\n",
       " '\\n',\n",
       " <th>Dates</th>,\n",
       " '\\n',\n",
       " <th>Materials</th>,\n",
       " '\\n']"
      ]
     },
     "execution_count": 119,
     "metadata": {},
     "output_type": "execute_result"
    }
   ],
   "source": [
    "soup.table.tr.contents"
   ]
  },
  {
   "cell_type": "code",
   "execution_count": 120,
   "metadata": {},
   "outputs": [
    {
     "data": {
      "text/plain": [
       "'\\n'"
      ]
     },
     "execution_count": 120,
     "metadata": {},
     "output_type": "execute_result"
    }
   ],
   "source": [
    "soup.tr.next_sibling"
   ]
  },
  {
   "cell_type": "code",
   "execution_count": 121,
   "metadata": {},
   "outputs": [
    {
     "data": {
      "text/plain": [
       "'\\n'"
      ]
     },
     "execution_count": 121,
     "metadata": {},
     "output_type": "execute_result"
    }
   ],
   "source": [
    "soup.tr.next_sibling"
   ]
  },
  {
   "cell_type": "code",
   "execution_count": 122,
   "metadata": {},
   "outputs": [
    {
     "data": {
      "text/plain": [
       "'\\n'"
      ]
     },
     "execution_count": 122,
     "metadata": {},
     "output_type": "execute_result"
    }
   ],
   "source": [
    "soup.tr.next_sibling"
   ]
  },
  {
   "cell_type": "code",
   "execution_count": 126,
   "metadata": {},
   "outputs": [
    {
     "name": "stdout",
     "output_type": "stream",
     "text": [
      "<list_iterator object at 0x000001C15E784C88>\n",
      "<list_iterator object at 0x000001C15E784C88>\n",
      "<list_iterator object at 0x000001C15E784C88>\n",
      "<list_iterator object at 0x000001C15E784C88>\n",
      "<list_iterator object at 0x000001C15E784C88>\n",
      "<list_iterator object at 0x000001C15E784C88>\n",
      "<list_iterator object at 0x000001C15E784C88>\n",
      "<list_iterator object at 0x000001C15E784C88>\n",
      "<list_iterator object at 0x000001C15E784C88>\n",
      "<list_iterator object at 0x000001C15E784C88>\n"
     ]
    }
   ],
   "source": [
    "for i in range(10):\n",
    "    print(soup.table.children)"
   ]
  },
  {
   "cell_type": "code",
   "execution_count": null,
   "metadata": {},
   "outputs": [],
   "source": []
  }
 ],
 "metadata": {
  "kernelspec": {
   "display_name": "Python 3",
   "language": "python",
   "name": "python3"
  },
  "language_info": {
   "codemirror_mode": {
    "name": "ipython",
    "version": 3
   },
   "file_extension": ".py",
   "mimetype": "text/x-python",
   "name": "python",
   "nbconvert_exporter": "python",
   "pygments_lexer": "ipython3",
   "version": "3.6.4"
  }
 },
 "nbformat": 4,
 "nbformat_minor": 2
}
