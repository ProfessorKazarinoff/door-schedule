{
 "cells": [
  {
   "cell_type": "markdown",
   "metadata": {},
   "source": [
    "a notebook to investigate openpyxl and modify and excel template"
   ]
  },
  {
   "cell_type": "code",
   "execution_count": 8,
   "metadata": {},
   "outputs": [],
   "source": [
    "from openpyxl import load_workbook\n",
    "from openpyxl.utils import get_column_letter, column_index_from_string\n",
    "\n",
    "import os"
   ]
  },
  {
   "cell_type": "code",
   "execution_count": 9,
   "metadata": {},
   "outputs": [
    {
     "data": {
      "text/plain": [
       "['schedule_template.xlsx', '.~lock.schedule_template.xlsx#']"
      ]
     },
     "execution_count": 9,
     "metadata": {},
     "output_type": "execute_result"
    }
   ],
   "source": [
    "os.listdir(os.path.join(os.getcwd(),'templates'))"
   ]
  },
  {
   "cell_type": "code",
   "execution_count": 10,
   "metadata": {},
   "outputs": [
    {
     "data": {
      "text/plain": [
       "'/home/tribilium/Documents/schedule/templates/schedule_template.xlsx'"
      ]
     },
     "execution_count": 10,
     "metadata": {},
     "output_type": "execute_result"
    }
   ],
   "source": [
    "template_path = os.path.join(os.getcwd(),'templates','schedule_template.xlsx')\n",
    "template_path"
   ]
  },
  {
   "cell_type": "code",
   "execution_count": 11,
   "metadata": {},
   "outputs": [],
   "source": [
    "wb = load_workbook(template_path)"
   ]
  },
  {
   "cell_type": "code",
   "execution_count": 12,
   "metadata": {},
   "outputs": [
    {
     "data": {
      "text/plain": [
       "['Sheet1', 'Sheet2', 'Sheet3']"
      ]
     },
     "execution_count": 12,
     "metadata": {},
     "output_type": "execute_result"
    }
   ],
   "source": [
    "wb.sheetnames"
   ]
  },
  {
   "cell_type": "code",
   "execution_count": 13,
   "metadata": {},
   "outputs": [],
   "source": [
    "sheet = wb['Sheet1']"
   ]
  },
  {
   "cell_type": "code",
   "execution_count": 14,
   "metadata": {},
   "outputs": [
    {
     "name": "stdout",
     "output_type": "stream",
     "text": [
      "SPRING 2018\n",
      "CLASS SCHEDULE\n",
      "Instructor:  \n",
      "Phone: \n",
      "None\n",
      "TIME\n",
      "07:00:00\n",
      "=A7+time(0,30,0)\n"
     ]
    }
   ],
   "source": [
    "print(sheet['A1'].value)\n",
    "print(sheet['A2'].value)\n",
    "print(sheet['A3'].value)\n",
    "print(sheet['A4'].value)\n",
    "print(sheet['A5'].value)\n",
    "print(sheet['A6'].value)\n",
    "print(sheet['A7'].value)\n",
    "print(sheet['A8'].value)"
   ]
  },
  {
   "cell_type": "code",
   "execution_count": 15,
   "metadata": {},
   "outputs": [
    {
     "data": {
      "text/plain": [
       "'=A7+time(0,30,0)'"
      ]
     },
     "execution_count": 15,
     "metadata": {},
     "output_type": "execute_result"
    }
   ],
   "source": [
    "cell = sheet['A8']\n",
    "cell.internal_value"
   ]
  },
  {
   "cell_type": "code",
   "execution_count": 16,
   "metadata": {},
   "outputs": [
    {
     "name": "stdout",
     "output_type": "stream",
     "text": [
      "1 SPRING 2018\n",
      "2 CLASS SCHEDULE\n",
      "3 Instructor:  \n",
      "4 Phone: \n",
      "5 None\n",
      "6 TIME\n",
      "7 07:00:00\n",
      "8 =A7+time(0,30,0)\n",
      "9 =A8+time(0,30,0)\n"
     ]
    }
   ],
   "source": [
    "for i in range(1, 10):\n",
    "     print(i, sheet.cell(row=i, column=1).value)"
   ]
  },
  {
   "cell_type": "code",
   "execution_count": 17,
   "metadata": {},
   "outputs": [
    {
     "data": {
      "text/plain": [
       "'A'"
      ]
     },
     "execution_count": 17,
     "metadata": {},
     "output_type": "execute_result"
    }
   ],
   "source": [
    "# Return 'A'\n",
    "get_column_letter(1)"
   ]
  },
  {
   "cell_type": "code",
   "execution_count": 18,
   "metadata": {},
   "outputs": [
    {
     "data": {
      "text/plain": [
       "1"
      ]
     },
     "execution_count": 18,
     "metadata": {},
     "output_type": "execute_result"
    }
   ],
   "source": [
    "# Return '1'\n",
    "column_index_from_string('A')"
   ]
  },
  {
   "cell_type": "code",
   "execution_count": 19,
   "metadata": {},
   "outputs": [
    {
     "data": {
      "text/plain": [
       "36"
      ]
     },
     "execution_count": 19,
     "metadata": {},
     "output_type": "execute_result"
    }
   ],
   "source": [
    "# Retrieve the maximum amount of rows \n",
    "sheet.max_row"
   ]
  },
  {
   "cell_type": "code",
   "execution_count": 20,
   "metadata": {},
   "outputs": [
    {
     "data": {
      "text/plain": [
       "8"
      ]
     },
     "execution_count": 20,
     "metadata": {},
     "output_type": "execute_result"
    }
   ],
   "source": [
    "# Retrieve the maximum amount of columns\n",
    "sheet.max_column"
   ]
  },
  {
   "cell_type": "code",
   "execution_count": 4,
   "metadata": {},
   "outputs": [],
   "source": [
    "# Import `xlwt` \n",
    "import xlwt\n",
    "import os\n",
    "\n",
    "# Initialize a workbook \n",
    "book = xlwt.Workbook(encoding=\"utf-8\")\n",
    "\n",
    "# Add a sheet to the workbook \n",
    "sheet1 = book.add_sheet(\"Python Sheet 1\") \n",
    "\n",
    "# Write to the sheet of the workbook \n",
    "sheet1.write(0, 0, \"This is the First Cell of the First Sheet\") \n",
    "\n",
    "# Save the workbook \n",
    "wkbk_path = os.path.join(os.getcwd(),'out','spreadsheet.xls')\n",
    "if not os.path.exists(os.path.join(os.getcwd(),'out')):\n",
    "    os.mkdir('out')\n",
    "book.save(wkbk_path)"
   ]
  },
  {
   "cell_type": "code",
   "execution_count": 93,
   "metadata": {},
   "outputs": [
    {
     "name": "stdout",
     "output_type": "stream",
     "text": [
      "time range: ['7:00 AM', '7:30 AM', '8:00 AM', '8:30 AM', '9:00 AM', '9:30 AM', '10:00 AM', '10:30 AM', '11:00 AM', '11:30 AM', '12:00 PM', '12:30 PM', '1:00 PM', '1:30 PM', '2:00 PM', '2:30 PM', '3:00 PM', '3:30 PM', '4:00 PM', '4:30 PM', '5:00 PM', '5:30 PM', '6:00 PM', '6:30 PM', '7:00 PM', '7:30 PM', '8:00 PM', '8:30 PM', '9:00 PM']\n"
     ]
    }
   ],
   "source": [
    "from datetime import datetime, timedelta\n",
    "\n",
    "def datetime_range(start, end, delta):\n",
    "    current = start\n",
    "    while current < end:\n",
    "        yield current\n",
    "        current += delta\n",
    "\n",
    "# Make a list of times from [7:00 AM, 7:30AM, ... 9:00 PM]\n",
    "dts = [dt.strftime('%-I:%M %p') for dt in \n",
    "       datetime_range(datetime(2018, 4, 19, 7), datetime(2018, 4, 19, 7+14, 30), \n",
    "       timedelta(minutes=30))]\n",
    "\n",
    "print('time range: {}'.format(dts))\n",
    "\n",
    "from openpyxl import load_workbook\n",
    "from openpyxl.utils import get_column_letter, column_index_from_string\n",
    "from datetime import datetime, timedelta\n",
    "\n",
    "import os\n",
    "\n",
    "# Initialize a workbook \n",
    "book = xlwt.Workbook(encoding=\"utf-8\")\n",
    "\n",
    "# Add a sheet to the workbook \n",
    "sheet1 = book.add_sheet(\"Sheet1\") \n",
    "\n",
    "\n",
    "# Open the template\n",
    "template_path = os.path.join(os.getcwd(),'templates','schedule_template.xlsx')\n",
    "template_wb = load_workbook(template_path)\n",
    "template_sheet = template_wb['Sheet1']\n",
    "\n",
    "for r in range(1, 7):\n",
    "    for c in range(1, template_sheet.max_column):\n",
    "        cell_val =  template_sheet.cell(row=r, column=c).value\n",
    "        #print(cell_val)\n",
    "        #print('Read Cell {}{}: '.format(get_column_letter(c),r,str(cell_val)))\n",
    "        sheet1.write(r-1,c-1,cell_val)\n",
    "        #print('Wrote Cell {}{}: '.format(get_column_letter(c),r,str(cell_val)))\n",
    "\n",
    "for r in range(len(dts)):\n",
    "    cell_val = dts[r]\n",
    "    sheet1.write(r+6,0,cell_val)\n",
    "\n",
    "# Save the workbook \n",
    "wkbk_path = os.path.join(os.getcwd(),'out','spreadsheet.xls')\n",
    "if not os.path.exists(os.path.join(os.getcwd(),'out')):\n",
    "    os.mkdir('out')\n",
    "book.save(wkbk_path)"
   ]
  },
  {
   "cell_type": "code",
   "execution_count": 94,
   "metadata": {},
   "outputs": [],
   "source": [
    "def fill_time(text,start_time,end_time, xlwt_Workbook_sheet_obj):\n",
    "    #xlwt_Workbook_sheet_obj.write(r,c,cell_val)\n",
    "    \n",
    "    pass"
   ]
  },
  {
   "cell_type": "code",
   "execution_count": null,
   "metadata": {},
   "outputs": [],
   "source": []
  }
 ],
 "metadata": {
  "kernelspec": {
   "display_name": "Python 3",
   "language": "python",
   "name": "python3"
  },
  "language_info": {
   "codemirror_mode": {
    "name": "ipython",
    "version": 3
   },
   "file_extension": ".py",
   "mimetype": "text/x-python",
   "name": "python",
   "nbconvert_exporter": "python",
   "pygments_lexer": "ipython3",
   "version": "3.6.5"
  }
 },
 "nbformat": 4,
 "nbformat_minor": 2
}
