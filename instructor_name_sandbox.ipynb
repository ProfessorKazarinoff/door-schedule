{
 "cells": [
  {
   "cell_type": "markdown",
   "metadata": {},
   "source": [
    "# Get instructor name sandbox\n",
    "a notebook to investigate pulling out the instructor name"
   ]
  },
  {
   "cell_type": "code",
   "execution_count": 13,
   "metadata": {},
   "outputs": [],
   "source": [
    "import requests\n",
    "from bs4 import BeautifulSoup\n",
    "import urllib\n",
    "from bs4_functions import get_instr_sec_lst, get_instrSect\n",
    "import pickle\n",
    "import os\n",
    "import pickle\n",
    "import shutil\n",
    "from class_page_iter_tools import get_dept_urls, get_class_url_lst\n",
    "from bs4_functions import get_instr_sec_lst\n",
    "from schedule_functions import instructorObj\n",
    "from schedule_functions import insert_gen_info, insert_class_sec\n",
    "from openpyxl import load_workbook\n",
    "\n"
   ]
  },
  {
   "cell_type": "code",
   "execution_count": 14,
   "metadata": {},
   "outputs": [],
   "source": [
    "url = 'https://www.pcc.edu/schedule/default.cfm?fa=dspCourse2&thisTerm=201803&crsCode=ENGR&subjCode=ENGR&crsNum=213&topicCode=GE&subtopicCode=%20'"
   ]
  },
  {
   "cell_type": "code",
   "execution_count": 16,
   "metadata": {},
   "outputs": [
    {
     "name": "stdout",
     "output_type": "stream",
     "text": [
      "Doug S Fal\n"
     ]
    }
   ],
   "source": [
    "page = requests.get(url)\n",
    "soup = BeautifulSoup(page.content, 'html.parser')\n",
    "rows = soup.findAll('tr', attrs={'class': ['data-row ', 'info-row ', 'data-row alt-color', 'info-row alt-color']})\n",
    "inst_sec_lst = []\n",
    "for i in range(int(len(rows) / 2)):\n",
    "    # print('This is instructor time block {}'.format(i))\n",
    "    row_lst = rows[i * 2:i * 2 + 2]\n",
    "    instr_sec = get_instrSect(row_lst)\n",
    "    inst_sec_lst.append(instr_sec)\n",
    "\n",
    "print(instr_sec_lst[0].instructor)\n",
    "row_lst = rows[0:2] "
   ]
  },
  {
   "cell_type": "code",
   "execution_count": 17,
   "metadata": {},
   "outputs": [
    {
     "name": "stdout",
     "output_type": "stream",
     "text": [
      "[<tr class=\"data-row \">\n",
      "<td>30130</td>\n",
      "<td><a href=\"http://www.pcc.edu/location/default.cfm?fa=findLocation&amp;siteCode=SY&amp;frm_location=SS\"> Sylvania  Campus / SS</a> / 104 \n",
      "\t\t\t\t\t\t\t</td>\n",
      "<td>03:00 PM-05:20 PM</td>\n",
      "<td><acronym title=\"Tuesday Thursday \">TuTh</acronym></td>\n",
      "<td>26-Jun-2018 thru 06-Sep-2018</td>\n",
      "<td class=\"materials\" rowspan=\"2\"><a href=\"http://bookstore.pcc.edu/store1/SelectCourses.aspx?src=2&amp;type=2&amp;stoid=41&amp;trm=Summer 18&amp;cid=30130\">Textbooks<span class=\"visually-hide\"> for CRN 30130</span></a> </td>\n",
      "</tr>, <tr class=\"info-row \">\n",
      "<td>\n",
      "</td>\n",
      "<td colspan=\"4\">\n",
      "\t\t\t\t\t\t\t\t\n",
      "\t\t\t\t\t\t\t\tInstructor: <a href=\"http://www.pcc.edu/scripts/sdquery.pl?all=douglas%2Efalcon%40pcc%2Eedu\">Doug S Falcon</a>\n",
      "<br/>\n",
      "\t\t\t\t\t\t\t\t\n",
      "\t\t\t\t\t\t\t\t\n",
      "\t\t\t\t\t\t\t\t\n",
      "\t\t\t\t\t\t\t\t\n",
      "\t\t\t\t\t\t\t\tTuition: <a href=\"http://www.pcc.edu/enroll/paying-for-college/tuition/\">credit</a> Fees: $6.00\n",
      "\t\t\t\t\t\t\t\t<br/>\n",
      "</td>\n",
      "</tr>]\n"
     ]
    }
   ],
   "source": [
    "print(row_lst)"
   ]
  },
  {
   "cell_type": "code",
   "execution_count": 37,
   "metadata": {},
   "outputs": [
    {
     "name": "stdout",
     "output_type": "stream",
     "text": [
      "Doug S Falcon\n"
     ]
    }
   ],
   "source": [
    "def get_instructor(row_lst):\n",
    "    \"\"\"\n",
    "    input: row_lst, a list of bs4Tag objects with 2 elements, one data-row and one info-row\n",
    "    \"\"\"\n",
    "    td_lst = row_lst[1].find_all(\"td\")\n",
    "    for td in td_lst:\n",
    "        # print(td.text.strip())\n",
    "        if td.text:\n",
    "            if \"Instructor: \" in td.text.strip():\n",
    "                instructor_long = td.text.strip()\n",
    "                instructor_line = instructor_long.split(\"\\n\")[0]\n",
    "                instructor_name = instructor_line.split(\"Instructor: \")[1]\n",
    "                instructor_name_stripped = instructor_name.strip()\n",
    "                \n",
    "                \n",
    "                \n",
    "                return instructor_name_stripped\n",
    "                \n",
    "\n",
    "instructor = get_instructor(row_lst)\n",
    "print(instructor)"
   ]
  },
  {
   "cell_type": "code",
   "execution_count": 26,
   "metadata": {},
   "outputs": [
    {
     "name": "stdout",
     "output_type": "stream",
     "text": [
      "\n",
      "\t\t\t\t\t\t\t\t\n",
      "\t\t\t\t\t\t\t\tInstructor: Doug S Falcon\n",
      "\n",
      "\t\t\t\t\t\t\t\t\n",
      "\t\t\t\t\t\t\t\t\n",
      "\t\t\t\t\t\t\t\t\n",
      "\t\t\t\t\t\t\t\t\n",
      "\t\t\t\t\t\t\t\tTuition: credit Fees: $6.00\n",
      "\t\t\t\t\t\t\t\t\n",
      "\n"
     ]
    }
   ],
   "source": [
    "import re\n",
    "for row in row_lst:\n",
    "    td_lst = row.findAll('td', attrs={'colspan': ['4']})\n",
    "    for td in td_lst:\n",
    "        #print(td.text)\n",
    "        if \"Instructor: \" in td.text:\n",
    "            print(td.text)\n",
    "        #m = re.search('Instructor: (\\S+)', td.text, re.IGNORECASE)\n",
    "       # print(m.group(2)) \n",
    "    "
   ]
  },
  {
   "cell_type": "code",
   "execution_count": null,
   "metadata": {
    "collapsed": true
   },
   "outputs": [],
   "source": [
    "url ='https://www.pcc.edu/schedule/default.cfm?fa=dspCourse2&thisTerm=201704&crsCode=ENGR&subjCode=ENGR&crsNum=105&topicCode=GE&subtopicCode=%20'\n",
    "page = requests.get(url)\n",
    "soup = BeautifulSoup(page.content, 'html.parser')\n",
    "rows = soup.findAll('tr', attrs={'class': ['data-row ','info-row ','data-row alt-color','info-row alt-color']})"
   ]
  },
  {
   "cell_type": "code",
   "execution_count": null,
   "metadata": {
    "collapsed": true
   },
   "outputs": [],
   "source": [
    "row_lst = [rows[0], rows[1]]"
   ]
  },
  {
   "cell_type": "code",
   "execution_count": null,
   "metadata": {},
   "outputs": [],
   "source": [
    "for row in row_lst:\n",
    "    if row.find('acronym'):\n",
    "        day_lst =[x for x in inputTag['title'].split(' ')[:] if x]\n",
    "print(day_lst)"
   ]
  },
  {
   "cell_type": "code",
   "execution_count": null,
   "metadata": {},
   "outputs": [],
   "source": [
    "for row in row_lst\n",
    "    if row.find('acronym'):\n",
    "        day_lst =[x for x in inputTag['title'].split(' ')[:] if x]\n",
    "        \n",
    "\n",
    "inputTag = soup.find('acronym')\n",
    "\n",
    "#inputTag is a list (probably containing only one element). Depending on what you want exactly you either should do:\n",
    "\n",
    "output = inputTag['title']\n",
    "print(output)\n",
    "\n",
    "day_lst_full =[x for x in inputTag['title'].split(' ')[:] if x]\n",
    "print(day_lst_full)\n",
    "#or use .find() method which returns only one (first) found element:\n",
    "day_lst = [x for x in day_lst_full if x]\n",
    "\n",
    "print(day_lst)\n",
    "# inputTag = soup.find(attrs={\"name\": \"stainfo\"})\n",
    "# output = inputTag['value']"
   ]
  },
  {
   "cell_type": "code",
   "execution_count": null,
   "metadata": {},
   "outputs": [],
   "source": [
    "#i=0\n",
    "#for fac in fac_lst: \n",
    "   # print(i)\n",
    "    #print(fac.name)\n",
    "    #i += 1\n",
    "fac_lst[16].print_schedule()"
   ]
  },
  {
   "cell_type": "code",
   "execution_count": null,
   "metadata": {},
   "outputs": [],
   "source": [
    "from class_page_iter_tools import main\n",
    "main()"
   ]
  },
  {
   "cell_type": "code",
   "execution_count": null,
   "metadata": {
    "collapsed": true
   },
   "outputs": [],
   "source": [
    "base_url = 'https://www.pcc.edu/schedule/default.cfm?fa=dspTopic&thisTerm=200701&type=Credit'\n",
    "page = requests.get(base_url)\n",
    "soup = BeautifulSoup(page.content, 'html.parser')"
   ]
  },
  {
   "cell_type": "code",
   "execution_count": null,
   "metadata": {
    "collapsed": true
   },
   "outputs": [],
   "source": [
    "depts = ['Civil and Mechanical Engineering Technology', 'Engineering', 'Electronic Engineering Technology']"
   ]
  },
  {
   "cell_type": "code",
   "execution_count": null,
   "metadata": {
    "collapsed": true
   },
   "outputs": [],
   "source": [
    "def get_dept_urls(main_url='https://www.pcc.edu/schedule/default.cfm?fa=dspTopic&thisTerm=200701&type=Credit', dept_lst=['Civil and Mechanical Engineering Technology', 'Engineering', 'Electronic Engineering Technology']):\n",
    "    dept_url_lst=[]\n",
    "    base_url = 'https://www.pcc.edu/schedule/'\n",
    "    page = requests.get(main_url)\n",
    "    soup = BeautifulSoup(page.content, 'html.parser')\n",
    "    for link in soup.find_all('a', href=True):\n",
    "        if link.text in depts:\n",
    "            extension = link.get(\"href\")\n",
    "            url = urllib.parse.urljoin(base_url,extension)\n",
    "            dept_url_lst.append(url)\n",
    "    \n",
    "    return dept_url_lst\n",
    "            \n",
    "            \n",
    "    \n",
    "    "
   ]
  },
  {
   "cell_type": "code",
   "execution_count": null,
   "metadata": {
    "collapsed": true
   },
   "outputs": [],
   "source": [
    "dept_url_lst = get_dept_urls()\n",
    "print(dept_url_lst)"
   ]
  },
  {
   "cell_type": "code",
   "execution_count": null,
   "metadata": {
    "collapsed": true
   },
   "outputs": [],
   "source": [
    "dept_url_lst=[]\n",
    "base_url = 'https://www.pcc.edu/schedule/'\n",
    "for link in soup.find_all('a', href=True):\n",
    "    if link.text in depts:\n",
    "        extension = link.get(\"href\")\n",
    "        url = urllib.parse.urljoin(base_url,extension)\n",
    "        dept_url_lst.append(url)\n",
    "        \n",
    "for link in dept_url_lst:\n",
    "    print(link)"
   ]
  },
  {
   "cell_type": "code",
   "execution_count": null,
   "metadata": {
    "collapsed": true
   },
   "outputs": [],
   "source": [
    "def get_class_url_lst(dept_url_lst=['https://www.pcc.edu/schedule/default.cfm?fa=dspTopicDetails&thisTerm=201802&topicid=CMET&type=Credit', 'https://www.pcc.edu/schedule/default.cfm?fa=dspTopicDetails&thisTerm=201802&topicid=EET&type=Credit', 'https://www.pcc.edu/schedule/default.cfm?fa=dspTopicDetails&thisTerm=201802&topicid=GE&type=Credit']):\n",
    "    class_url_lst=[]\n",
    "    base_url = 'https://www.pcc.edu/schedule/'\n",
    "    for url in dept_url_lst:\n",
    "        page = requests.get(url)\n",
    "        soup = BeautifulSoup(page.content, 'html.parser')\n",
    "        for course in soup.find_all('dd'):\n",
    "            if course.a.get(\"href\"):\n",
    "                ext = course.a.get(\"href\")\n",
    "                url = urllib.parse.urljoin(base_url,ext)\n",
    "                class_url_lst.append(url)\n",
    "                \n",
    "    return class_url_lst"
   ]
  },
  {
   "cell_type": "code",
   "execution_count": null,
   "metadata": {
    "collapsed": true
   },
   "outputs": [],
   "source": [
    "class_url_lst = get_class_url_lst()"
   ]
  },
  {
   "cell_type": "code",
   "execution_count": null,
   "metadata": {
    "collapsed": true
   },
   "outputs": [],
   "source": [
    "class_url_lst=[]\n",
    "base_url = 'https://www.pcc.edu/schedule/'\n",
    "for url in dept_url_lst:\n",
    "    page = requests.get(url)\n",
    "    soup = BeautifulSoup(page.content, 'html.parser')\n",
    "    for course in soup.find_all('dd'):\n",
    "        if course.a.get(\"href\"):\n",
    "            ext = course.a.get(\"href\")\n",
    "            url = urllib.parse.urljoin(base_url,ext)\n",
    "            class_url_lst.append(url)"
   ]
  },
  {
   "cell_type": "code",
   "execution_count": null,
   "metadata": {
    "collapsed": true
   },
   "outputs": [],
   "source": [
    "instr_section_list =[]\n",
    "for url in class_url_lst:\n",
    "    #print(x)\n",
    "    instr_section_list.extend(get_instr_sec_lst(url))"
   ]
  },
  {
   "cell_type": "code",
   "execution_count": null,
   "metadata": {
    "collapsed": true
   },
   "outputs": [],
   "source": [
    "instructor_set = set([x.instructor for x in instr_section_list])\n",
    "print(instructor_set)"
   ]
  },
  {
   "cell_type": "code",
   "execution_count": null,
   "metadata": {
    "collapsed": true
   },
   "outputs": [],
   "source": [
    "class instructorObj():\n",
    "    def __init__(self,name):\n",
    "        self.name = name\n",
    "        self.classes=[]\n",
    "        self.departments=[]\n",
    "        self.office=''\n",
    "        self.phone=''\n",
    "        self.email=''\n",
    "        self.year=''\n",
    "        self.quarter=''\n",
    "        \n",
    "    \n",
    "    def __str__(self):\n",
    "        return self.name\n",
    "    \n",
    "    def print_schedule(self):\n",
    "        print(self.name)\n",
    "        print()\n",
    "        for x in self.classes:\n",
    "            print(x.course_number)\n",
    "            print(x.course_name)\n",
    "            print(x.day)\n",
    "            print(x.start_time)\n",
    "            print(x.end_time)\n",
    "            print(x.building)\n",
    "            print(x.room_num)\n",
    "            print()\n",
    "        "
   ]
  },
  {
   "cell_type": "code",
   "execution_count": null,
   "metadata": {
    "collapsed": true
   },
   "outputs": [],
   "source": [
    "peter = instructorObj('Peter  Kazarinoff')\n",
    "peter.office = 'ST200'\n",
    "peter.phone ='971-722-8056'\n",
    "peter.email = 'peter.kazarinoff@pcc.edu'\n",
    "peter.departments = ['CMET','ENGR']\n",
    "peter.classes = [x for x in instr_section_list if x.instructor == 'Peter  Kazarinoff']"
   ]
  },
  {
   "cell_type": "code",
   "execution_count": null,
   "metadata": {
    "collapsed": true
   },
   "outputs": [],
   "source": [
    "peter.classes"
   ]
  },
  {
   "cell_type": "code",
   "execution_count": null,
   "metadata": {
    "collapsed": true
   },
   "outputs": [],
   "source": [
    "instr_Obj_list = [] #a list of instructure Objects, each instructor has a list of class schedule objects\n",
    "for instructor in list(instructor_set):\n",
    "    #print(instructor)\n",
    "    inst_Obj = instructorObj(instructor)\n",
    "    #print(inst_Obj.name)\n",
    "    #print(type(inst_Obj))\n",
    "    inst_Obj.classes = [x for x in instr_section_list if x.instructor == instructor]\n",
    "    inst_Obj.departments = list(set([x.department for x in instr_section_list if x.instructor == instructor]))\n",
    "    instr_Obj_list.append(inst_Obj)"
   ]
  },
  {
   "cell_type": "code",
   "execution_count": null,
   "metadata": {
    "collapsed": true
   },
   "outputs": [],
   "source": [
    "instr_Obj_list[-5].print_schedule()\n"
   ]
  },
  {
   "cell_type": "code",
   "execution_count": null,
   "metadata": {
    "collapsed": true
   },
   "outputs": [],
   "source": [
    "instr_Obj_list[-6].print_schedule()"
   ]
  },
  {
   "cell_type": "code",
   "execution_count": null,
   "metadata": {
    "collapsed": true
   },
   "outputs": [],
   "source": [
    "### Now need to try and build the excel sheets from the peoples schedule\n",
    "### need a fuction that takes in an InstrSectionObject and puts it in an excel doc object"
   ]
  },
  {
   "cell_type": "code",
   "execution_count": null,
   "metadata": {
    "collapsed": true
   },
   "outputs": [],
   "source": [
    "import bs4"
   ]
  },
  {
   "cell_type": "code",
   "execution_count": null,
   "metadata": {
    "collapsed": true
   },
   "outputs": [],
   "source": [
    "import bs4\n",
    "class courseTable(bs4.element.Tag):\n",
    "    def __init__(self,bs4elementtage):\n",
    "        self.contents = bs4elementtage\n",
    "        \n",
    "        \n",
    "class SuperMan(bs4.element.Tag): #subclass, inherits from SuperHero\n",
    "    pass"
   ]
  },
  {
   "cell_type": "code",
   "execution_count": null,
   "metadata": {
    "collapsed": true
   },
   "outputs": [],
   "source": [
    "dir(table)"
   ]
  },
  {
   "cell_type": "code",
   "execution_count": null,
   "metadata": {
    "collapsed": true
   },
   "outputs": [],
   "source": [
    "type(coursetableobject)"
   ]
  },
  {
   "cell_type": "code",
   "execution_count": null,
   "metadata": {
    "collapsed": true
   },
   "outputs": [],
   "source": [
    "#for td in td_lst:\n",
    "   #print(td.text)\n",
    "str = td_lst[1].text"
   ]
  },
  {
   "cell_type": "code",
   "execution_count": null,
   "metadata": {
    "collapsed": true
   },
   "outputs": [],
   "source": [
    "str"
   ]
  },
  {
   "cell_type": "code",
   "execution_count": null,
   "metadata": {
    "collapsed": true
   },
   "outputs": [],
   "source": [
    "str.strip().isalnum()"
   ]
  },
  {
   "cell_type": "code",
   "execution_count": null,
   "metadata": {
    "collapsed": true
   },
   "outputs": [],
   "source": [
    "CRN_lst=[]\n",
    "for td in td_lst:\n",
    "    if td.text.strip().isdigit() and len(td.text.strip()) == 5:\n",
    "        CRN_lst.append(td.text.strip())\n",
    "    \n",
    "CRN_lst"
   ]
  },
  {
   "cell_type": "code",
   "execution_count": null,
   "metadata": {
    "collapsed": true
   },
   "outputs": [],
   "source": [
    "loc_lst=[]\n",
    "for td in td_lst:\n",
    "    #print(td.text.strip())\n",
    "    if \" / \" in td.text.strip():\n",
    "        loc_lst.append(td.text.strip())\n",
    "loc_lst\n",
    "#td_lst[1].text"
   ]
  },
  {
   "cell_type": "code",
   "execution_count": null,
   "metadata": {
    "collapsed": true
   },
   "outputs": [],
   "source": [
    "time_lst=[]\n",
    "for td in td_lst:\n",
    "    #print(td.text.strip())\n",
    "    if \":\" in td.text.strip() and \"-\" in td.text.strip():\n",
    "        time_lst.append(td.text.strip())\n",
    "time_lst\n",
    "#td_lst[1].text"
   ]
  },
  {
   "cell_type": "code",
   "execution_count": null,
   "metadata": {
    "collapsed": true
   },
   "outputs": [],
   "source": [
    "course_dict = {}"
   ]
  },
  {
   "cell_type": "code",
   "execution_count": null,
   "metadata": {
    "collapsed": true
   },
   "outputs": [],
   "source": [
    "course_sec_dict ={}"
   ]
  },
  {
   "cell_type": "code",
   "execution_count": null,
   "metadata": {
    "collapsed": true
   },
   "outputs": [],
   "source": [
    "course_sec_dict['ID']=\"\".join([CRN_lst[0],'-00'])"
   ]
  },
  {
   "cell_type": "code",
   "execution_count": null,
   "metadata": {
    "collapsed": true
   },
   "outputs": [],
   "source": [
    "course_sec_dict"
   ]
  },
  {
   "cell_type": "code",
   "execution_count": null,
   "metadata": {
    "collapsed": true
   },
   "outputs": [],
   "source": [
    "course_sec_dict['CRN']=CRN_lst[0]"
   ]
  },
  {
   "cell_type": "code",
   "execution_count": null,
   "metadata": {
    "collapsed": true
   },
   "outputs": [],
   "source": [
    "course_sec_dict"
   ]
  },
  {
   "cell_type": "code",
   "execution_count": null,
   "metadata": {
    "collapsed": true
   },
   "outputs": [],
   "source": [
    "time_str = time_lst[0]\n",
    "time_str"
   ]
  },
  {
   "cell_type": "code",
   "execution_count": null,
   "metadata": {
    "collapsed": true
   },
   "outputs": [],
   "source": [
    "start_time = time_str.split('-')[0]\n",
    "start_time"
   ]
  },
  {
   "cell_type": "code",
   "execution_count": null,
   "metadata": {
    "collapsed": true
   },
   "outputs": [],
   "source": [
    "end_time = time_str.split('-')[1]\n",
    "end_time"
   ]
  },
  {
   "cell_type": "code",
   "execution_count": null,
   "metadata": {
    "collapsed": true
   },
   "outputs": [],
   "source": [
    "course_sec_dict['start_time']=time_lst[0].split('-')[0]"
   ]
  },
  {
   "cell_type": "code",
   "execution_count": null,
   "metadata": {
    "collapsed": true
   },
   "outputs": [],
   "source": [
    "course_sec_dict['end_time']=time_lst[0].split('-')[1]"
   ]
  },
  {
   "cell_type": "code",
   "execution_count": null,
   "metadata": {
    "collapsed": true
   },
   "outputs": [],
   "source": [
    "course_sec_dict"
   ]
  },
  {
   "cell_type": "code",
   "execution_count": null,
   "metadata": {
    "collapsed": true
   },
   "outputs": [],
   "source": [
    "day_lst=[]\n",
    "for td in td_lst:\n",
    "    #print(td.text.strip())\n",
    "    if len(td.text.strip())==1 and td.text.strip().isalpha:\n",
    "        day_lst.append(td.text.strip())\n",
    "day_lst"
   ]
  },
  {
   "cell_type": "code",
   "execution_count": null,
   "metadata": {
    "collapsed": true
   },
   "outputs": [],
   "source": [
    "course_sec_dict['day']=day_lst[0].strip()"
   ]
  },
  {
   "cell_type": "code",
   "execution_count": null,
   "metadata": {
    "collapsed": true
   },
   "outputs": [],
   "source": [
    "course_sec_dict"
   ]
  },
  {
   "cell_type": "code",
   "execution_count": null,
   "metadata": {
    "collapsed": true
   },
   "outputs": [],
   "source": [
    "instr_lst=[]\n",
    "for td in td_lst:\n",
    "    #print(td.text.strip())\n",
    "    if \"Instructor: \" in td.text.strip():\n",
    "        instr_lst.append(td.text.strip().rstrip().lstrip().split('\\n')[0].strip('Instructor: '))\n",
    "instr_lst"
   ]
  },
  {
   "cell_type": "code",
   "execution_count": null,
   "metadata": {
    "collapsed": true
   },
   "outputs": [],
   "source": [
    "course_sec_dict['instructor'] = instr_lst[0].strip()"
   ]
  },
  {
   "cell_type": "code",
   "execution_count": null,
   "metadata": {
    "collapsed": true
   },
   "outputs": [],
   "source": [
    "course_sec_dict"
   ]
  },
  {
   "cell_type": "code",
   "execution_count": null,
   "metadata": {
    "collapsed": true
   },
   "outputs": [],
   "source": [
    "loc_lst"
   ]
  },
  {
   "cell_type": "code",
   "execution_count": null,
   "metadata": {
    "collapsed": true
   },
   "outputs": [],
   "source": [
    "course_sec_dict['building'] = loc_lst[0].split(' / ')[1].strip()\n",
    "course_sec_dict"
   ]
  },
  {
   "cell_type": "code",
   "execution_count": null,
   "metadata": {
    "collapsed": true
   },
   "outputs": [],
   "source": [
    "course_sec_dict['room_num'] = loc_lst[0].split(' / ')[2].strip()\n",
    "course_sec_dict"
   ]
  },
  {
   "cell_type": "code",
   "execution_count": null,
   "metadata": {
    "collapsed": true
   },
   "outputs": [],
   "source": [
    "class InstrSect():\n",
    "    def __init__(self):\n",
    "        self.ID=''\n",
    "        self.CRN=''\n",
    "        self.building=''\n",
    "        self.day=''\n",
    "        self.start_time=''\n",
    "        self.end_time=''\n",
    "        self.room_num=''\n",
    "        self.instructor=''\n",
    "        self.campus=''\n",
    "        self.course_name=''\n",
    "        self.course_number=''\n",
    "        self.dept=''\n",
    "        self.start_date=''\n",
    "        self.end_date=''\n",
    "        self.textbook_cost=''\n",
    "        self.tuition=''\n",
    "        self.fees=''"
   ]
  },
  {
   "cell_type": "code",
   "execution_count": null,
   "metadata": {
    "collapsed": true
   },
   "outputs": [],
   "source": [
    "CMET235_01=InstrSect()"
   ]
  },
  {
   "cell_type": "code",
   "execution_count": null,
   "metadata": {
    "collapsed": true
   },
   "outputs": [],
   "source": [
    "CMET235_01.ID"
   ]
  },
  {
   "cell_type": "code",
   "execution_count": null,
   "metadata": {
    "collapsed": true
   },
   "outputs": [],
   "source": [
    "CMET235_01.ID=course_sec_dict['ID']"
   ]
  },
  {
   "cell_type": "code",
   "execution_count": null,
   "metadata": {
    "collapsed": true
   },
   "outputs": [],
   "source": [
    "CMET235_01.ID"
   ]
  },
  {
   "cell_type": "code",
   "execution_count": null,
   "metadata": {
    "collapsed": true
   },
   "outputs": [],
   "source": [
    "CMET235_01.CRN=course_sec_dict['CRN']\n",
    "CMET235_01.building=course_sec_dict['building']\n",
    "CMET235_01.day=course_sec_dict['day']\n",
    "CMET235_01.start_time=course_sec_dict['start_time']\n",
    "CMET235_01.end_time=course_sec_dict['end_time']\n",
    "CMET235_01.start_date='02-Apr-2018'\n",
    "CMET235_01.end_date='11-Jun-2018'\n",
    "CMET235_01.fees='$18.00'"
   ]
  },
  {
   "cell_type": "code",
   "execution_count": null,
   "metadata": {
    "collapsed": true
   },
   "outputs": [],
   "source": [
    "#instr_lst=[]\n",
    "for td in td_lst:\n",
    "    print(td.text.strip())\n",
    "    #if \"Instructor: \" in td.text.strip():\n",
    "        #instr_lst.append(td.text.strip().rstrip().lstrip().split('\\n')[0].strip('Instructor: '))\n",
    "#instr_lst"
   ]
  },
  {
   "cell_type": "code",
   "execution_count": null,
   "metadata": {
    "collapsed": true
   },
   "outputs": [],
   "source": [
    "tr_lst = table.find_all(\"tr\")\n",
    "for row in tr_lst:\n",
    "    print(row)"
   ]
  },
  {
   "cell_type": "code",
   "execution_count": null,
   "metadata": {
    "collapsed": true
   },
   "outputs": [],
   "source": [
    "## This works, need to pair rows so that:\n",
    "#Intr sect 1\n",
    "#<data-row>\n",
    "#<info-row>\n",
    "\n",
    "#Intr sect 2\n",
    "#<data-row>\n",
    "#<info-row>\n",
    "\n",
    "#Intr sect 3\n",
    "#<data-row alt-color>\n",
    "#<info-row alt-color>\n",
    "\n",
    "#Intr sect 4\n",
    "#<data-row alt-color>\n",
    "#<info-row alt-color>\n",
    "\n",
    "\n",
    "rows = soup.findAll('tr', attrs={'class': ['data-row ','info-row ','data-row alt-color','info-row alt-color']})\n",
    "#print(rows)\n",
    "print(rows[6].text)\n",
    "print(rows[7].text)"
   ]
  },
  {
   "cell_type": "code",
   "execution_count": null,
   "metadata": {
    "collapsed": true
   },
   "outputs": [],
   "source": [
    "def get_course_rows(soupObject):\n",
    "    rows = soupObject.findAll('tr', attrs={'class': ['data-row ','info-row ','data-row alt-color','info-row alt-color']})\n",
    "    return rows"
   ]
  },
  {
   "cell_type": "code",
   "execution_count": null,
   "metadata": {
    "collapsed": true
   },
   "outputs": [],
   "source": [
    "row_lst = get_course_rows(soup)"
   ]
  },
  {
   "cell_type": "code",
   "execution_count": null,
   "metadata": {
    "collapsed": true
   },
   "outputs": [],
   "source": [
    "#type(row_lst)\n",
    "two_rows = rows[0:2]"
   ]
  },
  {
   "cell_type": "code",
   "execution_count": null,
   "metadata": {
    "collapsed": true
   },
   "outputs": [],
   "source": [
    "def get_instructor(soupRowObject):\n",
    "    #td_lst = soupRowObject.find('td')\n",
    "    for td in soupRowObject.find_all('td'):\n",
    "    #print(td.text.strip())\n",
    "        if \"Instructor: \" in td.text.strip():\n",
    "            return (td.text.strip().rstrip().lstrip().split('\\n')[0].strip('Instructor: '))\n",
    "        else:\n",
    "            return None\n",
    "\n",
    "                "
   ]
  },
  {
   "cell_type": "code",
   "execution_count": null,
   "metadata": {
    "collapsed": true
   },
   "outputs": [],
   "source": [
    "inst= get_instructor(row_lst[0])\n",
    "print(inst)"
   ]
  },
  {
   "cell_type": "code",
   "execution_count": null,
   "metadata": {
    "collapsed": true
   },
   "outputs": [],
   "source": [
    "row_lst[0]"
   ]
  },
  {
   "cell_type": "code",
   "execution_count": null,
   "metadata": {
    "collapsed": true
   },
   "outputs": [],
   "source": [
    "type(row_lst)"
   ]
  },
  {
   "cell_type": "code",
   "execution_count": null,
   "metadata": {
    "collapsed": true
   },
   "outputs": [],
   "source": [
    "dir(row_lst)"
   ]
  },
  {
   "cell_type": "code",
   "execution_count": null,
   "metadata": {
    "collapsed": true
   },
   "outputs": [],
   "source": [
    "soup"
   ]
  },
  {
   "cell_type": "code",
   "execution_count": null,
   "metadata": {
    "collapsed": true
   },
   "outputs": [],
   "source": [
    "soup.table"
   ]
  },
  {
   "cell_type": "code",
   "execution_count": null,
   "metadata": {
    "collapsed": true
   },
   "outputs": [],
   "source": [
    "type(table)"
   ]
  },
  {
   "cell_type": "code",
   "execution_count": null,
   "metadata": {
    "collapsed": true
   },
   "outputs": [],
   "source": [
    "soup.table.tr"
   ]
  },
  {
   "cell_type": "code",
   "execution_count": null,
   "metadata": {
    "collapsed": true
   },
   "outputs": [],
   "source": [
    "type(soup.table.tr)"
   ]
  },
  {
   "cell_type": "code",
   "execution_count": null,
   "metadata": {
    "collapsed": true
   },
   "outputs": [],
   "source": [
    "soup.table.find_all(\"tr\")"
   ]
  },
  {
   "cell_type": "code",
   "execution_count": null,
   "metadata": {
    "collapsed": true
   },
   "outputs": [],
   "source": [
    "type(soup.table.find_all(\"tr\"))"
   ]
  },
  {
   "cell_type": "code",
   "execution_count": null,
   "metadata": {
    "collapsed": true
   },
   "outputs": [],
   "source": [
    "type(soup.table.children)"
   ]
  },
  {
   "cell_type": "code",
   "execution_count": null,
   "metadata": {
    "collapsed": true
   },
   "outputs": [],
   "source": [
    "soup.tr.next_sibling"
   ]
  },
  {
   "cell_type": "code",
   "execution_count": null,
   "metadata": {
    "collapsed": true
   },
   "outputs": [],
   "source": [
    "soup.tr.next_sibling"
   ]
  },
  {
   "cell_type": "code",
   "execution_count": null,
   "metadata": {
    "collapsed": true
   },
   "outputs": [],
   "source": [
    "soup.tr.next_sibling"
   ]
  },
  {
   "cell_type": "code",
   "execution_count": null,
   "metadata": {
    "collapsed": true
   },
   "outputs": [],
   "source": [
    "soup.tr.contnets"
   ]
  },
  {
   "cell_type": "code",
   "execution_count": null,
   "metadata": {
    "collapsed": true
   },
   "outputs": [],
   "source": [
    "type(soup.tr.contents)"
   ]
  },
  {
   "cell_type": "code",
   "execution_count": null,
   "metadata": {
    "collapsed": true
   },
   "outputs": [],
   "source": [
    "soup.table.tr.contents"
   ]
  },
  {
   "cell_type": "code",
   "execution_count": null,
   "metadata": {
    "collapsed": true
   },
   "outputs": [],
   "source": [
    "soup.tr.next_sibling"
   ]
  },
  {
   "cell_type": "code",
   "execution_count": null,
   "metadata": {
    "collapsed": true
   },
   "outputs": [],
   "source": [
    "soup.tr.next_sibling"
   ]
  },
  {
   "cell_type": "code",
   "execution_count": null,
   "metadata": {
    "collapsed": true
   },
   "outputs": [],
   "source": [
    "soup.tr.next_sibling"
   ]
  },
  {
   "cell_type": "code",
   "execution_count": null,
   "metadata": {
    "collapsed": true
   },
   "outputs": [],
   "source": [
    "for i in range(10):\n",
    "    print(soup.table.children)"
   ]
  },
  {
   "cell_type": "code",
   "execution_count": null,
   "metadata": {
    "collapsed": true
   },
   "outputs": [],
   "source": []
  }
 ],
 "metadata": {
  "kernelspec": {
   "display_name": "Python 3",
   "language": "python",
   "name": "python3"
  },
  "language_info": {
   "codemirror_mode": {
    "name": "ipython",
    "version": 3
   },
   "file_extension": ".py",
   "mimetype": "text/x-python",
   "name": "python",
   "nbconvert_exporter": "python",
   "pygments_lexer": "ipython3",
   "version": "3.6.5"
  }
 },
 "nbformat": 4,
 "nbformat_minor": 2
}
