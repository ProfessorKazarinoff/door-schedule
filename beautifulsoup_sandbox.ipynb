{
 "cells": [
  {
   "cell_type": "markdown",
   "metadata": {},
   "source": [
    "# Beautiful Soup Sandbox\n",
    "a notebook to investigate pulling class information out of PCC class schedule webpages"
   ]
  },
  {
   "cell_type": "code",
   "execution_count": 1,
   "metadata": {
    "collapsed": true
   },
   "outputs": [],
   "source": [
    "import requests\n",
    "from bs4 import BeautifulSoup"
   ]
  },
  {
   "cell_type": "code",
   "execution_count": 2,
   "metadata": {
    "collapsed": true
   },
   "outputs": [],
   "source": [
    "base_url = 'https://www.pcc.edu/schedule/default.cfm?fa=dspTopic&thisTerm=200701&type=Credit'\n",
    "page = requests.get(base_url)"
   ]
  },
  {
   "cell_type": "code",
   "execution_count": 3,
   "metadata": {
    "collapsed": true
   },
   "outputs": [],
   "source": [
    "soup = BeautifulSoup(page.content, 'html.parser')"
   ]
  },
  {
   "cell_type": "code",
   "execution_count": 4,
   "metadata": {},
   "outputs": [
    {
     "name": "stdout",
     "output_type": "stream",
     "text": [
      "Found Engineering Link\n",
      "Found Engineering Link\n",
      "Found Engineering Link\n",
      "Found Engineering Link\n"
     ]
    }
   ],
   "source": [
    "for link in soup.find_all('a', href=True):\n",
    "    #print(link['href'])\n",
    "    if 'Engineering' in link.text:\n",
    "        print('Found Engineering Link')"
   ]
  },
  {
   "cell_type": "code",
   "execution_count": 5,
   "metadata": {
    "collapsed": true
   },
   "outputs": [],
   "source": [
    "depts = ['Civil and Mechanical Engineering Technology', 'Engineering', 'Electronic Engineering Technology']"
   ]
  },
  {
   "cell_type": "code",
   "execution_count": 6,
   "metadata": {},
   "outputs": [
    {
     "name": "stdout",
     "output_type": "stream",
     "text": [
      "Found an Engineering Department Link\n",
      "Found an Engineering Department Link\n",
      "Found an Engineering Department Link\n"
     ]
    }
   ],
   "source": [
    "link_lst=[]\n",
    "for link in soup.find_all('a', href=True):\n",
    "    #print(link['href'])\n",
    "    if link.text in depts:\n",
    "        print('Found an Engineering Department Link')\n",
    "        link_lst.append(link.get(\"href\"))"
   ]
  },
  {
   "cell_type": "code",
   "execution_count": 7,
   "metadata": {},
   "outputs": [
    {
     "data": {
      "text/plain": [
       "'default.cfm?fa=dspTopicDetails&thisTerm=201802&topicid=CMET&type=Credit'"
      ]
     },
     "execution_count": 7,
     "metadata": {},
     "output_type": "execute_result"
    }
   ],
   "source": [
    "link_lst[0]"
   ]
  },
  {
   "cell_type": "code",
   "execution_count": 8,
   "metadata": {
    "collapsed": true
   },
   "outputs": [],
   "source": [
    "# link = 'https://www.pcc.edu/schedule/default.cfm?fa=dspTopicDetails&thisTerm=201802&topicid=MET&type=Credit\n",
    "import urllib\n",
    "base_url = 'https://www.pcc.edu/schedule/'\n",
    "extension = link_lst[0]\n",
    "url = urllib.parse.urljoin(base_url,extension)\n",
    "page = requests.get(url)"
   ]
  },
  {
   "cell_type": "code",
   "execution_count": 9,
   "metadata": {
    "collapsed": true
   },
   "outputs": [],
   "source": [
    "soup = BeautifulSoup(page.content, 'html.parser')"
   ]
  },
  {
   "cell_type": "code",
   "execution_count": 10,
   "metadata": {},
   "outputs": [
    {
     "data": {
      "text/plain": [
       "'CMET 121'"
      ]
     },
     "execution_count": 10,
     "metadata": {},
     "output_type": "execute_result"
    }
   ],
   "source": [
    "soup.dt.text"
   ]
  },
  {
   "cell_type": "code",
   "execution_count": 11,
   "metadata": {},
   "outputs": [
    {
     "name": "stdout",
     "output_type": "stream",
     "text": [
      "Strength of Materials\n",
      "Global Energy Physics\n",
      "Tech Algebra w/Analyt Geometry\n",
      "Surveying II\n",
      "Thermodynamics II\n",
      "Project Management\n",
      "CET Applied CAD\n",
      "Machine Design\n",
      "Structural Design\n",
      "MET Applied CAD\n"
     ]
    }
   ],
   "source": [
    "class_lst=[]\n",
    "for course in soup.find_all('dd'):\n",
    "    print(course.string)\n",
    "    class_lst.append(course)"
   ]
  },
  {
   "cell_type": "code",
   "execution_count": 12,
   "metadata": {},
   "outputs": [
    {
     "data": {
      "text/plain": [
       "[<dd><a href=\"default.cfm?fa=dspCourse2&amp;thisTerm=201802&amp;crsCode=CMET121&amp;subjCode=CMET&amp;crsNum=121&amp;topicCode=CMET&amp;subtopicCode=%20\">Strength of Materials</a></dd>,\n",
       " <dd><a href=\"default.cfm?fa=dspCourse2&amp;thisTerm=201802&amp;crsCode=CMET122&amp;subjCode=CMET&amp;crsNum=122&amp;topicCode=CMET&amp;subtopicCode=%20\">Global Energy Physics</a></dd>,\n",
       " <dd><a href=\"default.cfm?fa=dspCourse2&amp;thisTerm=201802&amp;crsCode=CMET123&amp;subjCode=CMET&amp;crsNum=123&amp;topicCode=CMET&amp;subtopicCode=%20\">Tech Algebra w/Analyt Geometry</a></dd>,\n",
       " <dd><a href=\"default.cfm?fa=dspCourse2&amp;thisTerm=201802&amp;crsCode=CMET214&amp;subjCode=CMET&amp;crsNum=214&amp;topicCode=CMET&amp;subtopicCode=%20\">Surveying II</a></dd>,\n",
       " <dd><a href=\"default.cfm?fa=dspCourse2&amp;thisTerm=201802&amp;crsCode=CMET222&amp;subjCode=CMET&amp;crsNum=222&amp;topicCode=CMET&amp;subtopicCode=%20\">Thermodynamics II</a></dd>,\n",
       " <dd><a href=\"default.cfm?fa=dspCourse2&amp;thisTerm=201802&amp;crsCode=CMET223&amp;subjCode=CMET&amp;crsNum=223&amp;topicCode=CMET&amp;subtopicCode=%20\">Project Management</a></dd>,\n",
       " <dd><a href=\"default.cfm?fa=dspCourse2&amp;thisTerm=201802&amp;crsCode=CMET233&amp;subjCode=CMET&amp;crsNum=233&amp;topicCode=CMET&amp;subtopicCode=%20\">CET Applied CAD</a></dd>,\n",
       " <dd><a href=\"default.cfm?fa=dspCourse2&amp;thisTerm=201802&amp;crsCode=CMET235&amp;subjCode=CMET&amp;crsNum=235&amp;topicCode=CMET&amp;subtopicCode=%20\">Machine Design</a></dd>,\n",
       " <dd><a href=\"default.cfm?fa=dspCourse2&amp;thisTerm=201802&amp;crsCode=CMET236&amp;subjCode=CMET&amp;crsNum=236&amp;topicCode=CMET&amp;subtopicCode=%20\">Structural Design</a></dd>,\n",
       " <dd><a href=\"default.cfm?fa=dspCourse2&amp;thisTerm=201802&amp;crsCode=CMET237&amp;subjCode=CMET&amp;crsNum=237&amp;topicCode=CMET&amp;subtopicCode=%20\">MET Applied CAD</a></dd>]"
      ]
     },
     "execution_count": 12,
     "metadata": {},
     "output_type": "execute_result"
    }
   ],
   "source": [
    "class_lst"
   ]
  },
  {
   "cell_type": "code",
   "execution_count": 13,
   "metadata": {
    "collapsed": true
   },
   "outputs": [],
   "source": [
    "course_link = class_lst[7].a"
   ]
  },
  {
   "cell_type": "code",
   "execution_count": 14,
   "metadata": {},
   "outputs": [
    {
     "data": {
      "text/plain": [
       "<a href=\"default.cfm?fa=dspCourse2&amp;thisTerm=201802&amp;crsCode=CMET235&amp;subjCode=CMET&amp;crsNum=235&amp;topicCode=CMET&amp;subtopicCode=%20\">Machine Design</a>"
      ]
     },
     "execution_count": 14,
     "metadata": {},
     "output_type": "execute_result"
    }
   ],
   "source": [
    "course_link"
   ]
  },
  {
   "cell_type": "code",
   "execution_count": 15,
   "metadata": {},
   "outputs": [
    {
     "data": {
      "text/plain": [
       "'default.cfm?fa=dspCourse2&thisTerm=201802&crsCode=CMET235&subjCode=CMET&crsNum=235&topicCode=CMET&subtopicCode=%20'"
      ]
     },
     "execution_count": 15,
     "metadata": {},
     "output_type": "execute_result"
    }
   ],
   "source": [
    "course_link.get(\"href\")"
   ]
  },
  {
   "cell_type": "code",
   "execution_count": 16,
   "metadata": {},
   "outputs": [
    {
     "name": "stdout",
     "output_type": "stream",
     "text": [
      "default.cfm?fa=dspCourse2&thisTerm=201802&crsCode=CMET235&subjCode=CMET&crsNum=235&topicCode=CMET&subtopicCode=%20\n"
     ]
    }
   ],
   "source": [
    "print(course_link.get(\"href\"))"
   ]
  },
  {
   "cell_type": "code",
   "execution_count": 17,
   "metadata": {
    "collapsed": true
   },
   "outputs": [],
   "source": [
    "base_url = 'https://www.pcc.edu/schedule/'\n",
    "extension = class_lst[7].a.get(\"href\")\n",
    "url = urllib.parse.urljoin(base_url,extension)\n",
    "page = requests.get(url)"
   ]
  },
  {
   "cell_type": "code",
   "execution_count": 18,
   "metadata": {
    "collapsed": true
   },
   "outputs": [],
   "source": [
    "soup = BeautifulSoup(page.content, 'html.parser')"
   ]
  },
  {
   "cell_type": "code",
   "execution_count": 19,
   "metadata": {},
   "outputs": [
    {
     "data": {
      "text/plain": [
       "'\\n\\n\\n\\n\\n\\n\\n\\n\\n    \\n\\t\\tCMET235 Machine Design | Class Schedule | PCC\\n\\t\\n    \\n\\n\\n\\n\\n\\n\\n\\n\\n\\n\\nSkip to page content\\n\\n\\n\\n\\n\\nPortland Community College\\n\\n\\n\\n\\n\\n\\n\\n\\n\\n\\n\\nMenu\\n\\n\\n\\n\\nGet Started\\nAcademic ProgramsAcademics\\nClass Schedule\\nAbout PCCAbout\\nStudent Life\\n\\n\\n\\n\\nSearch\\nA-Z Resources\\nContacts\\nCalendars\\nGive\\nMyPCC\\n\\n\\n\\n\\n\\n\\n\\n\\n\\n\\n\\nCMET235 Machine Design \\nCampus Contacts\\n\\n \\n\\n\\n\\n\\n\\n\\nPCC / Class Schedule / Spring 2018: Credit / Civil and Mechanical Engineering Technology / \\nExamines fundamentals of machine design, including analysis and design of mechanical components. Covers shafts, fasteners, belt and chain drives, brakes, gears, springs and bearings. Includes predicting static and fatigue failures for various loadings and materials. Prerequisite: CMET 121, 226. Audit available.\\xa0\\n\\n(For detailed information, see the Course Content and Outcome Guide ). \\n\\nCredits: \\n3.00\\n\\n\\nRegistration:you will need the CRN to register.\\nFees:many classes have additional fees.\\nMaterials:classes marked with $0 or <$40 use low cost materials. Cost does not include art supplies, calculators, fees, and equipment.\\n\\n\\n\\n\\nCRN\\nCampus / Bldg / Rm\\nTime\\nDays\\nDates\\nMaterials\\n\\n\\n\\n\\xa0\\n\\n20240\\n Sylvania  Campus / AM / 105 \\n\\t\\t\\t\\t\\t\\t\\t\\n09:00 AM-11:50 AM\\nM\\n02-Apr-2018 thru 11-Jun-2018\\nTextbooks for CRN 20240 < $40\\n\\n\\n\\n\\n\\n\\t\\t\\t\\t\\t\\t\\t\\t\\n\\t\\t\\t\\t\\t\\t\\t\\tInstructor: Peter  Kazarinoff\\n\\n\\t\\t\\t\\t\\t\\t\\t\\t\\n\\t\\t\\t\\t\\t\\t\\t\\t\\n\\t\\t\\t\\t\\t\\t\\t\\t\\n\\t\\t\\t\\t\\t\\t\\t\\t\\n\\t\\t\\t\\t\\t\\t\\t\\tTuition: credit Fees: $18.00\\n\\t\\t\\t\\t\\t\\t\\t\\t\\n\\n\\n\\nand\\n Sylvania  Campus / AM / 105 \\n\\t\\t\\t\\t\\t\\t\\t\\n09:00 AM-11:50 AM\\nW\\n04-Apr-2018 thru 13-Jun-2018\\nTextbooks for CRN 20240 < $40\\n\\n\\n\\n\\n\\n\\t\\t\\t\\t\\t\\t\\t\\t\\n\\t\\t\\t\\t\\t\\t\\t\\tInstructor: Peter  Kazarinoff\\n\\n\\n\\n\\xa0\\n\\n25728\\n Sylvania  Campus / AM / 105 \\n\\t\\t\\t\\t\\t\\t\\t\\n09:00 AM-11:50 AM\\nM\\n02-Apr-2018 thru 11-Jun-2018\\nTextbooks for CRN 25728 < $40\\n\\n\\n\\n\\n\\n\\t\\t\\t\\t\\t\\t\\t\\t\\n\\t\\t\\t\\t\\t\\t\\t\\tInstructor: Peter  Kazarinoff\\n\\n\\t\\t\\t\\t\\t\\t\\t\\t\\n\\t\\t\\t\\t\\t\\t\\t\\t\\n\\t\\t\\t\\t\\t\\t\\t\\t\\n\\t\\t\\t\\t\\t\\t\\t\\t\\n\\t\\t\\t\\t\\t\\t\\t\\tTuition: credit Fees: $18.00\\n\\t\\t\\t\\t\\t\\t\\t\\t\\n\\n\\n\\nand\\n Sylvania  Campus / AM / 105 \\n\\t\\t\\t\\t\\t\\t\\t\\n01:00 PM-03:50 PM\\nF\\n06-Apr-2018 thru 15-Jun-2018\\nTextbooks for CRN 25728 < $40\\n\\n\\n\\n\\n\\n\\t\\t\\t\\t\\t\\t\\t\\t\\n\\t\\t\\t\\t\\t\\t\\t\\tInstructor: Peter  Kazarinoff\\n\\n\\n\\n\\xa0\\n\\n\\n\\n\\n\\n\\n\\n\\n\\n\\n\\n\\n\\n $(document).foundation();\\n\\n\\n'"
      ]
     },
     "execution_count": 19,
     "metadata": {},
     "output_type": "execute_result"
    }
   ],
   "source": [
    "soup.text"
   ]
  },
  {
   "cell_type": "code",
   "execution_count": 20,
   "metadata": {
    "collapsed": true
   },
   "outputs": [],
   "source": [
    "table = soup.table"
   ]
  },
  {
   "cell_type": "code",
   "execution_count": 21,
   "metadata": {},
   "outputs": [],
   "source": [
    "td_lst = table.find_all(\"td\")"
   ]
  },
  {
   "cell_type": "code",
   "execution_count": 22,
   "metadata": {},
   "outputs": [],
   "source": [
    "#for td in td_lst:\n",
    "   #print(td.text)\n",
    "str = td_lst[1].text"
   ]
  },
  {
   "cell_type": "code",
   "execution_count": 23,
   "metadata": {},
   "outputs": [
    {
     "data": {
      "text/plain": [
       "'20240'"
      ]
     },
     "execution_count": 23,
     "metadata": {},
     "output_type": "execute_result"
    }
   ],
   "source": [
    "str"
   ]
  },
  {
   "cell_type": "code",
   "execution_count": 24,
   "metadata": {},
   "outputs": [
    {
     "data": {
      "text/plain": [
       "True"
      ]
     },
     "execution_count": 24,
     "metadata": {},
     "output_type": "execute_result"
    }
   ],
   "source": [
    "str.strip().isalnum()"
   ]
  },
  {
   "cell_type": "code",
   "execution_count": 25,
   "metadata": {},
   "outputs": [
    {
     "data": {
      "text/plain": [
       "['20240', '25728']"
      ]
     },
     "execution_count": 25,
     "metadata": {},
     "output_type": "execute_result"
    }
   ],
   "source": [
    "CRN_lst=[]\n",
    "for td in td_lst:\n",
    "    if td.text.strip().isdigit() and len(td.text.strip()) == 5:\n",
    "        CRN_lst.append(td.text.strip())\n",
    "    \n",
    "CRN_lst"
   ]
  },
  {
   "cell_type": "code",
   "execution_count": 31,
   "metadata": {},
   "outputs": [
    {
     "data": {
      "text/plain": [
       "['Sylvania  Campus / AM / 105',\n",
       " 'Sylvania  Campus / AM / 105',\n",
       " 'Sylvania  Campus / AM / 105',\n",
       " 'Sylvania  Campus / AM / 105']"
      ]
     },
     "execution_count": 31,
     "metadata": {},
     "output_type": "execute_result"
    }
   ],
   "source": [
    "loc_lst=[]\n",
    "for td in td_lst:\n",
    "    #print(td.text.strip())\n",
    "    if \" / \" in td.text.strip():\n",
    "        loc_lst.append(td.text.strip())\n",
    "loc_lst\n",
    "#td_lst[1].text"
   ]
  },
  {
   "cell_type": "code",
   "execution_count": 34,
   "metadata": {},
   "outputs": [
    {
     "data": {
      "text/plain": [
       "['09:00 AM-11:50 AM',\n",
       " '09:00 AM-11:50 AM',\n",
       " '09:00 AM-11:50 AM',\n",
       " '01:00 PM-03:50 PM']"
      ]
     },
     "execution_count": 34,
     "metadata": {},
     "output_type": "execute_result"
    }
   ],
   "source": [
    "time_lst=[]\n",
    "for td in td_lst:\n",
    "    #print(td.text.strip())\n",
    "    if \":\" in td.text.strip() and \"-\" in td.text.strip():\n",
    "        time_lst.append(td.text.strip())\n",
    "time_lst\n",
    "#td_lst[1].text"
   ]
  },
  {
   "cell_type": "code",
   "execution_count": 35,
   "metadata": {
    "collapsed": true
   },
   "outputs": [],
   "source": [
    "course_dict = {}"
   ]
  },
  {
   "cell_type": "code",
   "execution_count": 36,
   "metadata": {
    "collapsed": true
   },
   "outputs": [],
   "source": [
    "course_sec_dict ={}"
   ]
  },
  {
   "cell_type": "code",
   "execution_count": 38,
   "metadata": {},
   "outputs": [],
   "source": [
    "course_sec_dict['ID']=\"\".join([CRN_lst[0],'-00'])"
   ]
  },
  {
   "cell_type": "code",
   "execution_count": 39,
   "metadata": {},
   "outputs": [
    {
     "data": {
      "text/plain": [
       "{'ID': '20240-00'}"
      ]
     },
     "execution_count": 39,
     "metadata": {},
     "output_type": "execute_result"
    }
   ],
   "source": [
    "course_sec_dict"
   ]
  },
  {
   "cell_type": "code",
   "execution_count": 40,
   "metadata": {
    "collapsed": true
   },
   "outputs": [],
   "source": [
    "course_sec_dict['CRN']=CRN_lst[0]"
   ]
  },
  {
   "cell_type": "code",
   "execution_count": 41,
   "metadata": {},
   "outputs": [
    {
     "data": {
      "text/plain": [
       "{'CRN': '20240', 'ID': '20240-00'}"
      ]
     },
     "execution_count": 41,
     "metadata": {},
     "output_type": "execute_result"
    }
   ],
   "source": [
    "course_sec_dict"
   ]
  },
  {
   "cell_type": "code",
   "execution_count": 42,
   "metadata": {},
   "outputs": [
    {
     "data": {
      "text/plain": [
       "'09:00 AM-11:50 AM'"
      ]
     },
     "execution_count": 42,
     "metadata": {},
     "output_type": "execute_result"
    }
   ],
   "source": [
    "time_str = time_lst[0]\n",
    "time_str"
   ]
  },
  {
   "cell_type": "code",
   "execution_count": 43,
   "metadata": {},
   "outputs": [
    {
     "data": {
      "text/plain": [
       "'09:00 AM'"
      ]
     },
     "execution_count": 43,
     "metadata": {},
     "output_type": "execute_result"
    }
   ],
   "source": [
    "start_time = time_str.split('-')[0]\n",
    "start_time"
   ]
  },
  {
   "cell_type": "code",
   "execution_count": 44,
   "metadata": {},
   "outputs": [
    {
     "data": {
      "text/plain": [
       "'11:50 AM'"
      ]
     },
     "execution_count": 44,
     "metadata": {},
     "output_type": "execute_result"
    }
   ],
   "source": [
    "end_time = time_str.split('-')[1]\n",
    "end_time"
   ]
  },
  {
   "cell_type": "code",
   "execution_count": 45,
   "metadata": {
    "collapsed": true
   },
   "outputs": [],
   "source": [
    "course_sec_dict['start_time']=time_lst[0].split('-')[0]"
   ]
  },
  {
   "cell_type": "code",
   "execution_count": 46,
   "metadata": {
    "collapsed": true
   },
   "outputs": [],
   "source": [
    "course_sec_dict['end_time']=time_lst[0].split('-')[1]"
   ]
  },
  {
   "cell_type": "code",
   "execution_count": 47,
   "metadata": {},
   "outputs": [
    {
     "data": {
      "text/plain": [
       "{'CRN': '20240',\n",
       " 'ID': '20240-00',\n",
       " 'end_time': '11:50 AM',\n",
       " 'start_time': '09:00 AM'}"
      ]
     },
     "execution_count": 47,
     "metadata": {},
     "output_type": "execute_result"
    }
   ],
   "source": [
    "course_sec_dict"
   ]
  },
  {
   "cell_type": "code",
   "execution_count": 49,
   "metadata": {},
   "outputs": [
    {
     "data": {
      "text/plain": [
       "['M', 'W', 'M', 'F']"
      ]
     },
     "execution_count": 49,
     "metadata": {},
     "output_type": "execute_result"
    }
   ],
   "source": [
    "day_lst=[]\n",
    "for td in td_lst:\n",
    "    #print(td.text.strip())\n",
    "    if len(td.text.strip())==1 and td.text.strip().isalpha:\n",
    "        day_lst.append(td.text.strip())\n",
    "day_lst"
   ]
  },
  {
   "cell_type": "code",
   "execution_count": 50,
   "metadata": {
    "collapsed": true
   },
   "outputs": [],
   "source": [
    "course_sec_dict['day']=day_lst[0].strip()"
   ]
  },
  {
   "cell_type": "code",
   "execution_count": 51,
   "metadata": {},
   "outputs": [
    {
     "data": {
      "text/plain": [
       "{'CRN': '20240',\n",
       " 'ID': '20240-00',\n",
       " 'day': 'M',\n",
       " 'end_time': '11:50 AM',\n",
       " 'start_time': '09:00 AM'}"
      ]
     },
     "execution_count": 51,
     "metadata": {},
     "output_type": "execute_result"
    }
   ],
   "source": [
    "course_sec_dict"
   ]
  },
  {
   "cell_type": "code",
   "execution_count": 58,
   "metadata": {},
   "outputs": [
    {
     "data": {
      "text/plain": [
       "['Peter  Kazarinoff',\n",
       " 'Peter  Kazarinoff',\n",
       " 'Peter  Kazarinoff',\n",
       " 'Peter  Kazarinoff']"
      ]
     },
     "execution_count": 58,
     "metadata": {},
     "output_type": "execute_result"
    }
   ],
   "source": [
    "instr_lst=[]\n",
    "for td in td_lst:\n",
    "    #print(td.text.strip())\n",
    "    if \"Instructor: \" in td.text.strip():\n",
    "        instr_lst.append(td.text.strip().rstrip().lstrip().split('\\n')[0].strip('Instructor: '))\n",
    "instr_lst"
   ]
  },
  {
   "cell_type": "code",
   "execution_count": 59,
   "metadata": {},
   "outputs": [],
   "source": [
    "course_sec_dict['instructor'] = instr_lst[0].strip()"
   ]
  },
  {
   "cell_type": "code",
   "execution_count": 60,
   "metadata": {},
   "outputs": [
    {
     "data": {
      "text/plain": [
       "{'CRN': '20240',\n",
       " 'ID': '20240-00',\n",
       " 'day': 'M',\n",
       " 'end_time': '11:50 AM',\n",
       " 'instructor': 'Peter  Kazarinoff',\n",
       " 'start_time': '09:00 AM'}"
      ]
     },
     "execution_count": 60,
     "metadata": {},
     "output_type": "execute_result"
    }
   ],
   "source": [
    "course_sec_dict"
   ]
  },
  {
   "cell_type": "code",
   "execution_count": 61,
   "metadata": {},
   "outputs": [
    {
     "data": {
      "text/plain": [
       "['Sylvania  Campus / AM / 105',\n",
       " 'Sylvania  Campus / AM / 105',\n",
       " 'Sylvania  Campus / AM / 105',\n",
       " 'Sylvania  Campus / AM / 105']"
      ]
     },
     "execution_count": 61,
     "metadata": {},
     "output_type": "execute_result"
    }
   ],
   "source": [
    "loc_lst"
   ]
  },
  {
   "cell_type": "code",
   "execution_count": 69,
   "metadata": {},
   "outputs": [
    {
     "data": {
      "text/plain": [
       "{'CRN': '20240',\n",
       " 'ID': '20240-00',\n",
       " 'building': 'AM',\n",
       " 'day': 'M',\n",
       " 'end_time': '11:50 AM',\n",
       " 'instructor': 'Peter  Kazarinoff',\n",
       " 'start_time': '09:00 AM'}"
      ]
     },
     "execution_count": 69,
     "metadata": {},
     "output_type": "execute_result"
    }
   ],
   "source": [
    "course_sec_dict['building'] = loc_lst[0].split(' / ')[1].strip()\n",
    "course_sec_dict"
   ]
  },
  {
   "cell_type": "code",
   "execution_count": 70,
   "metadata": {},
   "outputs": [
    {
     "data": {
      "text/plain": [
       "{'CRN': '20240',\n",
       " 'ID': '20240-00',\n",
       " 'building': 'AM',\n",
       " 'day': 'M',\n",
       " 'end_time': '11:50 AM',\n",
       " 'instructor': 'Peter  Kazarinoff',\n",
       " 'room_num': '105',\n",
       " 'start_time': '09:00 AM'}"
      ]
     },
     "execution_count": 70,
     "metadata": {},
     "output_type": "execute_result"
    }
   ],
   "source": [
    "course_sec_dict['room_num'] = loc_lst[0].split(' / ')[2].strip()\n",
    "course_sec_dict"
   ]
  },
  {
   "cell_type": "code",
   "execution_count": 89,
   "metadata": {},
   "outputs": [],
   "source": [
    "class CourseSection():\n",
    "    def __init__(self):\n",
    "        self.ID=''\n",
    "        self.CRN=''\n",
    "        self.building=''\n",
    "        self.day=''\n",
    "        self.start_time=''\n",
    "        self.end_time=''\n",
    "        self.room_num=''\n",
    "        self.instructor=''\n",
    "        self.campus=''\n",
    "        self.course_name=''\n",
    "        self.course_number=''\n",
    "        self.dept=''\n",
    "        self.start_date=''\n",
    "        self.end_date=''\n",
    "        self.textbook_cost=''\n",
    "        self.tuition=''\n",
    "        self.fees=''"
   ]
  },
  {
   "cell_type": "code",
   "execution_count": 90,
   "metadata": {
    "collapsed": true
   },
   "outputs": [],
   "source": [
    "CMET235_01=CourseSection()"
   ]
  },
  {
   "cell_type": "code",
   "execution_count": 91,
   "metadata": {},
   "outputs": [
    {
     "data": {
      "text/plain": [
       "''"
      ]
     },
     "execution_count": 91,
     "metadata": {},
     "output_type": "execute_result"
    }
   ],
   "source": [
    "CMET235_01.ID"
   ]
  },
  {
   "cell_type": "code",
   "execution_count": 92,
   "metadata": {
    "collapsed": true
   },
   "outputs": [],
   "source": [
    "CMET235_01.ID=course_sec_dict['ID']"
   ]
  },
  {
   "cell_type": "code",
   "execution_count": 93,
   "metadata": {},
   "outputs": [
    {
     "data": {
      "text/plain": [
       "'20240-00'"
      ]
     },
     "execution_count": 93,
     "metadata": {},
     "output_type": "execute_result"
    }
   ],
   "source": [
    "CMET235_01.ID"
   ]
  },
  {
   "cell_type": "code",
   "execution_count": 94,
   "metadata": {},
   "outputs": [],
   "source": [
    "CMET235_01.CRN=course_sec_dict['CRN']\n",
    "CMET235_01.building=course_sec_dict['building']\n",
    "CMET235_01.day=course_sec_dict['day']\n",
    "CMET235_01.start_time=course_sec_dict['start_time']\n",
    "CMET235_01.end_time=course_sec_dict['end_time']"
   ]
  },
  {
   "cell_type": "code",
   "execution_count": 95,
   "metadata": {},
   "outputs": [
    {
     "name": "stdout",
     "output_type": "stream",
     "text": [
      "\n",
      "20240\n",
      "Sylvania  Campus / AM / 105\n",
      "09:00 AM-11:50 AM\n",
      "M\n",
      "02-Apr-2018 thru 11-Jun-2018\n",
      "Textbooks for CRN 20240 < $40\n",
      "\n",
      "Instructor: Peter  Kazarinoff\n",
      "\n",
      "\t\t\t\t\t\t\t\t\n",
      "\t\t\t\t\t\t\t\t\n",
      "\t\t\t\t\t\t\t\t\n",
      "\t\t\t\t\t\t\t\t\n",
      "\t\t\t\t\t\t\t\tTuition: credit Fees: $18.00\n",
      "and\n",
      "Sylvania  Campus / AM / 105\n",
      "09:00 AM-11:50 AM\n",
      "W\n",
      "04-Apr-2018 thru 13-Jun-2018\n",
      "Textbooks for CRN 20240 < $40\n",
      "\n",
      "Instructor: Peter  Kazarinoff\n",
      "\n",
      "25728\n",
      "Sylvania  Campus / AM / 105\n",
      "09:00 AM-11:50 AM\n",
      "M\n",
      "02-Apr-2018 thru 11-Jun-2018\n",
      "Textbooks for CRN 25728 < $40\n",
      "\n",
      "Instructor: Peter  Kazarinoff\n",
      "\n",
      "\t\t\t\t\t\t\t\t\n",
      "\t\t\t\t\t\t\t\t\n",
      "\t\t\t\t\t\t\t\t\n",
      "\t\t\t\t\t\t\t\t\n",
      "\t\t\t\t\t\t\t\tTuition: credit Fees: $18.00\n",
      "and\n",
      "Sylvania  Campus / AM / 105\n",
      "01:00 PM-03:50 PM\n",
      "F\n",
      "06-Apr-2018 thru 15-Jun-2018\n",
      "Textbooks for CRN 25728 < $40\n",
      "\n",
      "Instructor: Peter  Kazarinoff\n",
      "\n"
     ]
    }
   ],
   "source": [
    "#instr_lst=[]\n",
    "for td in td_lst:\n",
    "    print(td.text.strip())\n",
    "    #if \"Instructor: \" in td.text.strip():\n",
    "        #instr_lst.append(td.text.strip().rstrip().lstrip().split('\\n')[0].strip('Instructor: '))\n",
    "#instr_lst"
   ]
  },
  {
   "cell_type": "code",
   "execution_count": null,
   "metadata": {
    "collapsed": true
   },
   "outputs": [],
   "source": []
  }
 ],
 "metadata": {
  "kernelspec": {
   "display_name": "Python 3",
   "language": "python",
   "name": "python3"
  },
  "language_info": {
   "codemirror_mode": {
    "name": "ipython",
    "version": 3
   },
   "file_extension": ".py",
   "mimetype": "text/x-python",
   "name": "python",
   "nbconvert_exporter": "python",
   "pygments_lexer": "ipython3",
   "version": "3.6.3"
  }
 },
 "nbformat": 4,
 "nbformat_minor": 2
}
