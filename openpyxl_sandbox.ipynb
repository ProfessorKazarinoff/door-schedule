{
 "cells": [
  {
   "cell_type": "markdown",
   "metadata": {},
   "source": [
    "a notebook to investigate openpyxl and modify and excel template"
   ]
  },
  {
   "cell_type": "code",
   "execution_count": 192,
   "metadata": {},
   "outputs": [],
   "source": [
    "\n",
    "from openpyxl import load_workbook, Workbook\n",
    "from openpyxl.utils import get_column_letter, column_index_from_string\n",
    "from openpyxl.styles import PatternFill, Border, Side, Alignment, Protection, Font, Fill, colors\n",
    "\n",
    "import os"
   ]
  },
  {
   "cell_type": "code",
   "execution_count": 153,
   "metadata": {},
   "outputs": [],
   "source": [
    "os.listdir(os.path.join(os.getcwd(),'templates'))\n",
    "template_path = os.path.join(os.getcwd(),'templates','schedule_template.xlsx')\n",
    "wb = load_workbook(template_path)\n",
    "sheet = wb['Sheet1']"
   ]
  },
  {
   "cell_type": "code",
   "execution_count": 154,
   "metadata": {},
   "outputs": [],
   "source": [
    "year = '2018'\n",
    "instructor = 'Peter Kazarinoff'\n",
    "department = 'CMET ENGR'\n",
    "email ='peter.kazarinoff@pc.edu'\n",
    "phone ='971.722.8065'\n",
    "\n",
    "sheet['C3'] = instructor\n",
    "sheet['C4'] = department\n",
    "\n",
    "sheet['F3'] = email\n",
    "sheet['F4'] = phone"
   ]
  },
  {
   "cell_type": "code",
   "execution_count": 155,
   "metadata": {},
   "outputs": [],
   "source": [
    "al=Alignment(horizontal='left', vertical='bottom', text_rotation=0, wrap_text=False, shrink_to_fit=False, indent=1)\n",
    "\n",
    "c3 = sheet['C3']\n",
    "c4 = sheet['C4']\n",
    "\n",
    "f3 = sheet['F3']\n",
    "f4 = sheet['F4']\n",
    "c3.alignment = al\n",
    "c4.alignment = al\n",
    "f3.alignment = al\n",
    "f4.alignment = al"
   ]
  },
  {
   "cell_type": "code",
   "execution_count": 156,
   "metadata": {},
   "outputs": [],
   "source": [
    "wkbk_path = os.path.join(os.getcwd(),'out','spreadsheet.xlsx')\n",
    "if not os.path.exists(os.path.join(os.getcwd(),'out')):\n",
    "    os.mkdir('out')\n",
    "wb.save(wkbk_path)"
   ]
  },
  {
   "cell_type": "code",
   "execution_count": 157,
   "metadata": {},
   "outputs": [],
   "source": [
    "def insert_gen_info(wbsheetObj, quarter='spring', year='2018', instructor ='Peter Kazarinoff', department='CMET ENGR', email='peter.kazarinoff@pcc.edu', phone='971.722.8065'):\n",
    "    \"\"\"\n",
    "    function builds the header part of an excel schedule \n",
    "    \"\"\"\n",
    "    wbsheetObj['D1'] = quarter.upper()\n",
    "    wbsheetObj['D1'] = year\n",
    "    wbsheetObj['C3'] = instructor\n",
    "    wbsheetObj['C4'] = department\n",
    "\n",
    "    wbsheetObj['F3'] = email\n",
    "    wbsheetObj['F4'] = phone\n",
    "    \n",
    "    al=Alignment(horizontal='left', vertical='bottom', text_rotation=0, wrap_text=False, shrink_to_fit=False, indent=1)\n",
    "\n",
    "    c3 = wbsheetObj['C3']\n",
    "    c4 = wbsheetObj['C4']\n",
    "    f3 = wbsheetObj['F3']\n",
    "    f4 = wbsheetObj['F4']\n",
    "    c3.alignment = al\n",
    "    c4.alignment = al\n",
    "    f3.alignment = al\n",
    "    f4.alignment = al\n",
    "    \n",
    "    return wbsheetObj"
   ]
  },
  {
   "cell_type": "code",
   "execution_count": 214,
   "metadata": {},
   "outputs": [],
   "source": [
    "def get_24h_dec_time(time_str):\n",
    "    \"\"\"\n",
    "    This function takes in a time string of the form '2:30 PM' and outputs a 24-hour decimal hour representation of 14.5.\n",
    "    All minutes are rounded to half hour increments\n",
    "    \"\"\"\n",
    "    hour = time_str.split(':')[0]\n",
    "    min_chunk = time_str.split(':')[1]\n",
    "    min_sm_chunk = min_chunk.replace(\" AM\", \"\")\n",
    "    minute = min_sm_chunk.replace(\" PM\",\"\")\n",
    "    if 'PM' in time_str and not hour == '12':\n",
    "        hour = int(hour)+12\n",
    "    elif 'PM' in time_str and hour == '12':\n",
    "        hour = 12\n",
    "    else:\n",
    "        hour = int(hour)\n",
    "    min_dec = float(minute)/60\n",
    "    min_round = round(float(min_dec) * 2) / 2\n",
    "    return hour+min_round"
   ]
  },
  {
   "cell_type": "code",
   "execution_count": 215,
   "metadata": {},
   "outputs": [
    {
     "data": {
      "text/plain": [
       "15.0"
      ]
     },
     "execution_count": 215,
     "metadata": {},
     "output_type": "execute_result"
    }
   ],
   "source": [
    "get_24h_dec_time('2:46 PM')"
   ]
  },
  {
   "cell_type": "code",
   "execution_count": 158,
   "metadata": {},
   "outputs": [],
   "source": [
    "template_path = os.path.join(os.getcwd(),'templates','schedule_template.xlsx')\n",
    "wb = load_workbook(template_path)\n",
    "sheet = wb['Sheet1']\n",
    "sheet = insert_gen_info(sheet)\n",
    "wkbk_path = os.path.join(os.getcwd(),'out','spreadsheet.xlsx')\n",
    "if not os.path.exists(os.path.join(os.getcwd(),'out')):\n",
    "    os.mkdir('out')\n",
    "wb.save(wkbk_path)"
   ]
  },
  {
   "cell_type": "code",
   "execution_count": 219,
   "metadata": {},
   "outputs": [],
   "source": [
    "template_path = os.path.join(os.getcwd(),'templates','schedule_template.xlsx')\n",
    "wb = load_workbook(template_path)\n",
    "ws = wb['Sheet1']\n",
    "ws = insert_gen_info(ws)\n",
    "\n",
    "course_number = 'CMET 235'\n",
    "start_time = '9:00 AM'\n",
    "end_time = '11:00 AM'\n",
    "building = 'AM'\n",
    "room = '105'\n",
    "day = 'Tu'\n",
    "building_and_room = \"\".join([building,room])\n",
    "\n",
    "#day_dict = {'M':'B','Tu':'C','W':'D','Th':'E','F':'F','Sa':'G','Su':'H'}\n",
    "day_dict = {'M':2,'Tu':3,'W':4,'Th':5,'F':6,'Sa':7,'Su':8}\n",
    "col = day_dict[day]\n",
    "\n",
    "lead_num = get_24h_dec_time(start_time)\n",
    "above_7 = lead_num - 7\n",
    "row = 7 + above_7*2\n",
    "\n",
    "lead_num = get_24h_dec_time(end_time)\n",
    "above_7 = lead_num - 7\n",
    "merge_end = 7 + above_7*2 - 1\n",
    "\n",
    "ws.merge_cells(start_row=row, start_column=col, end_row=merge_end, end_column=col)\n",
    "ws.cell(row=row, column=col).value = \"\\n\".join([course_number, building_and_room])\n",
    "\n",
    "al=Alignment(horizontal='center', vertical='center', text_rotation=0, wrap_text=True, shrink_to_fit=False, indent=0)\n",
    "ws.cell(row=row, column=col).alignment = al\n",
    "fl=PatternFill(fill_type='solid', start_color=colors.BLUE)\n",
    "ws.cell(row=row, column=col).fill = fl\n",
    "\n",
    "wkbk_path = os.path.join(os.getcwd(),'out','spreadsheet.xlsx')\n",
    "if not os.path.exists(os.path.join(os.getcwd(),'out')):\n",
    "    os.mkdir('out')\n",
    "wb.save(wkbk_path)"
   ]
  },
  {
   "cell_type": "code",
   "execution_count": 227,
   "metadata": {},
   "outputs": [],
   "source": [
    "def insert_class_sec(wbsheetObj, course_number='CMET 235', building='AM', room='105', day='Tu', start_time='11:00 AM', end_time='2:30 PM', color='ADD8E6'):\n",
    "    \"\"\"\n",
    "    function inserts a class section into a worksheet object\n",
    "    \"\"\"\n",
    "    building_and_room = \"\".join([building,room])\n",
    "    day_dict = {'M':2,'Tu':3,'W':4,'Th':5,'F':6,'Sa':7,'Su':8}\n",
    "    col = day_dict[day]\n",
    "    \n",
    "    lead_num = get_24h_dec_time(start_time)\n",
    "    above_7 = lead_num - 7\n",
    "    row = 7 + above_7*2\n",
    "\n",
    "    lead_num = get_24h_dec_time(end_time)\n",
    "    above_7 = lead_num - 7\n",
    "    merge_end = 7 + above_7*2 - 1\n",
    "    \n",
    "    wbsheetObj.merge_cells(start_row=row, start_column=col, end_row=merge_end, end_column=col)\n",
    "    wbsheetObj.cell(row=row, column=col).value = \"\\n\".join([course_number, building_and_room])\n",
    "    al=Alignment(horizontal='center', vertical='center', text_rotation=0, wrap_text=True, shrink_to_fit=False, indent=0)\n",
    "    wbsheetObj.cell(row=row, column=col).alignment = al\n",
    "    fl=PatternFill(fill_type='solid', start_color=color)\n",
    "    wbsheetObj.cell(row=row, column=col).fill = fl\n",
    "    \n",
    "    return  wbsheetObj"
   ]
  },
  {
   "cell_type": "code",
   "execution_count": 228,
   "metadata": {},
   "outputs": [],
   "source": [
    "template_path = os.path.join(os.getcwd(),'templates','schedule_template.xlsx')\n",
    "wb = load_workbook(template_path)\n",
    "ws = wb['Sheet1']\n",
    "ws = insert_gen_info(ws)\n",
    "ws = insert_class_sec(ws)\n",
    "\n",
    "wkbk_path = os.path.join(os.getcwd(),'out','spreadsheet.xlsx')\n",
    "if not os.path.exists(os.path.join(os.getcwd(),'out')):\n",
    "    os.mkdir('out')\n",
    "wb.save(wkbk_path)\n"
   ]
  },
  {
   "cell_type": "code",
   "execution_count": 139,
   "metadata": {},
   "outputs": [
    {
     "name": "stdout",
     "output_type": "stream",
     "text": [
      "1 SPRING\n",
      "2 CLASS SCHEDULE\n",
      "3 None\n",
      "4 None\n",
      "5 None\n",
      "6 TIME\n",
      "7 07:00:00\n",
      "8 07:30:00\n",
      "9 08:00:00\n"
     ]
    }
   ],
   "source": [
    "for i in range(1, 10):\n",
    "     print(i, sheet.cell(row=i, column=1).value)"
   ]
  },
  {
   "cell_type": "code",
   "execution_count": 198,
   "metadata": {},
   "outputs": [
    {
     "data": {
      "text/plain": [
       "['BLACK',\n",
       " 'BLUE',\n",
       " 'Bool',\n",
       " 'COLOR_INDEX',\n",
       " 'Color',\n",
       " 'ColorDescriptor',\n",
       " 'ColorList',\n",
       " 'DARKBLUE',\n",
       " 'DARKGREEN',\n",
       " 'DARKRED',\n",
       " 'DARKYELLOW',\n",
       " 'Descriptor',\n",
       " 'ExtensionList',\n",
       " 'GREEN',\n",
       " 'HexBinary',\n",
       " 'IndexedColorList',\n",
       " 'Integer',\n",
       " 'MRUColorList',\n",
       " 'MinMax',\n",
       " 'RED',\n",
       " 'RGB',\n",
       " 'RgbColor',\n",
       " 'Sequence',\n",
       " 'Serialisable',\n",
       " 'String',\n",
       " 'Typed',\n",
       " 'WHITE',\n",
       " 'YELLOW',\n",
       " '__builtins__',\n",
       " '__cached__',\n",
       " '__doc__',\n",
       " '__file__',\n",
       " '__loader__',\n",
       " '__name__',\n",
       " '__package__',\n",
       " '__spec__',\n",
       " 'aRGB_REGEX',\n",
       " 'absolute_import',\n",
       " 'basestring',\n",
       " 're',\n",
       " 'safe_string']"
      ]
     },
     "execution_count": 198,
     "metadata": {},
     "output_type": "execute_result"
    }
   ],
   "source": [
    "dir(colors)"
   ]
  },
  {
   "cell_type": "code",
   "execution_count": 27,
   "metadata": {},
   "outputs": [
    {
     "data": {
      "text/plain": [
       "1"
      ]
     },
     "execution_count": 27,
     "metadata": {},
     "output_type": "execute_result"
    }
   ],
   "source": [
    "# Return '1'\n",
    "column_index_from_string('A')"
   ]
  },
  {
   "cell_type": "code",
   "execution_count": 28,
   "metadata": {},
   "outputs": [
    {
     "data": {
      "text/plain": [
       "36"
      ]
     },
     "execution_count": 28,
     "metadata": {},
     "output_type": "execute_result"
    }
   ],
   "source": [
    "# Retrieve the maximum amount of rows \n",
    "sheet.max_row"
   ]
  },
  {
   "cell_type": "code",
   "execution_count": 29,
   "metadata": {},
   "outputs": [
    {
     "data": {
      "text/plain": [
       "8"
      ]
     },
     "execution_count": 29,
     "metadata": {},
     "output_type": "execute_result"
    }
   ],
   "source": [
    "# Retrieve the maximum amount of columns\n",
    "sheet.max_column"
   ]
  },
  {
   "cell_type": "code",
   "execution_count": 30,
   "metadata": {},
   "outputs": [],
   "source": [
    "# Import `xlwt` \n",
    "import xlwt\n",
    "import os\n",
    "\n",
    "# Initialize a workbook \n",
    "book = xlwt.Workbook(encoding=\"utf-8\")\n",
    "\n",
    "# Add a sheet to the workbook \n",
    "sheet1 = book.add_sheet(\"Python Sheet 1\") \n",
    "\n",
    "# Write to the sheet of the workbook \n",
    "sheet1.write(0, 0, \"This is the First Cell of the First Sheet\") \n",
    "\n",
    "# Save the workbook \n",
    "wkbk_path = os.path.join(os.getcwd(),'out','spreadsheet.xls')\n",
    "if not os.path.exists(os.path.join(os.getcwd(),'out')):\n",
    "    os.mkdir('out')\n",
    "book.save(wkbk_path)"
   ]
  },
  {
   "cell_type": "code",
   "execution_count": 31,
   "metadata": {},
   "outputs": [
    {
     "name": "stdout",
     "output_type": "stream",
     "text": [
      "time range: ['07:00 AM', '07:30 AM', '08:00 AM', '08:30 AM', '09:00 AM', '09:30 AM', '10:00 AM', '10:30 AM', '11:00 AM', '11:30 AM', '12:00 PM', '12:30 PM', '01:00 PM', '01:30 PM', '02:00 PM', '02:30 PM', '03:00 PM', '03:30 PM', '04:00 PM', '04:30 PM', '05:00 PM', '05:30 PM', '06:00 PM', '06:30 PM', '07:00 PM', '07:30 PM', '08:00 PM', '08:30 PM', '09:00 PM']\n"
     ]
    }
   ],
   "source": [
    "from datetime import datetime, timedelta\n",
    "\n",
    "def datetime_range(start, end, delta):\n",
    "    current = start\n",
    "    while current < end:\n",
    "        yield current\n",
    "        current += delta\n",
    "\n",
    "# Make a list of times from [7:00 AM, 7:30AM, ... 9:00 PM]\n",
    "dts = [dt.strftime('%I:%M %p') for dt in \n",
    "       datetime_range(datetime(2018, 4, 19, 7), datetime(2018, 4, 19, 7+14, 30), \n",
    "       timedelta(minutes=30))]\n",
    "\n",
    "print('time range: {}'.format(dts))\n",
    "\n",
    "from openpyxl import load_workbook\n",
    "from openpyxl.utils import get_column_letter, column_index_from_string\n",
    "from datetime import datetime, timedelta\n",
    "\n",
    "import os\n",
    "\n",
    "# Initialize a workbook \n",
    "book = xlwt.Workbook(encoding=\"utf-8\")\n",
    "\n",
    "# Add a sheet to the workbook \n",
    "sheet1 = book.add_sheet(\"Sheet1\") \n",
    "\n",
    "\n",
    "# Open the template\n",
    "template_path = os.path.join(os.getcwd(),'templates','schedule_template.xlsx')\n",
    "template_wb = load_workbook(template_path)\n",
    "template_sheet = template_wb['Sheet1']\n",
    "\n",
    "for r in range(1, 7):\n",
    "    for c in range(1, template_sheet.max_column):\n",
    "        cell_val =  template_sheet.cell(row=r, column=c).value\n",
    "        #print(cell_val)\n",
    "        #print('Read Cell {}{}: '.format(get_column_letter(c),r,str(cell_val)))\n",
    "        sheet1.write(r-1,c-1,cell_val)\n",
    "        #print('Wrote Cell {}{}: '.format(get_column_letter(c),r,str(cell_val)))\n",
    "\n",
    "for r in range(len(dts)):\n",
    "    cell_val = dts[r]\n",
    "    sheet1.write(r+6,0,cell_val)\n",
    "\n",
    "# Save the workbook \n",
    "wkbk_path = os.path.join(os.getcwd(),'out','spreadsheet.xls')\n",
    "if not os.path.exists(os.path.join(os.getcwd(),'out')):\n",
    "    os.mkdir('out')\n",
    "book.save(wkbk_path)"
   ]
  },
  {
   "cell_type": "code",
   "execution_count": 32,
   "metadata": {},
   "outputs": [],
   "source": [
    "def fill_time(text,start_time,end_time, xlwt_Workbook_sheet_obj):\n",
    "    #xlwt_Workbook_sheet_obj.write(r,c,cell_val)\n",
    "    \n",
    "    pass"
   ]
  },
  {
   "cell_type": "code",
   "execution_count": null,
   "metadata": {},
   "outputs": [],
   "source": []
  }
 ],
 "metadata": {
  "kernelspec": {
   "display_name": "Python 3",
   "language": "python",
   "name": "python3"
  },
  "language_info": {
   "codemirror_mode": {
    "name": "ipython",
    "version": 3
   },
   "file_extension": ".py",
   "mimetype": "text/x-python",
   "name": "python",
   "nbconvert_exporter": "python",
   "pygments_lexer": "ipython3",
   "version": "3.6.5"
  }
 },
 "nbformat": 4,
 "nbformat_minor": 2
}
